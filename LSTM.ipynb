{
 "cells": [
  {
   "cell_type": "code",
   "execution_count": 1,
   "metadata": {},
   "outputs": [],
   "source": [
    "import pandas as pd\n",
    "import yfinance as yf\n",
    "import numpy as np\n",
    "import matplotlib.pyplot as plt\n",
    "import talib as ta\n",
    "from sklearn.preprocessing import MinMaxScaler\n",
    "from sklearn.metrics import *\n",
    "\n",
    "from keras.models import Sequential\n",
    "from keras.layers import Dense\n",
    "from keras.layers import LSTM\n",
    "from keras.optimizers import Adam"
   ]
  },
  {
   "cell_type": "markdown",
   "metadata": {},
   "source": [
    "### Data Cleaning and Exploratory Analysis"
   ]
  },
  {
   "cell_type": "code",
   "execution_count": 2,
   "metadata": {},
   "outputs": [
    {
     "name": "stdout",
     "output_type": "stream",
     "text": [
      "[*********************100%***********************]  1 of 1 completed\n"
     ]
    },
    {
     "data": {
      "text/html": [
       "<div>\n",
       "<style scoped>\n",
       "    .dataframe tbody tr th:only-of-type {\n",
       "        vertical-align: middle;\n",
       "    }\n",
       "\n",
       "    .dataframe tbody tr th {\n",
       "        vertical-align: top;\n",
       "    }\n",
       "\n",
       "    .dataframe thead th {\n",
       "        text-align: right;\n",
       "    }\n",
       "</style>\n",
       "<table border=\"1\" class=\"dataframe\">\n",
       "  <thead>\n",
       "    <tr style=\"text-align: right;\">\n",
       "      <th></th>\n",
       "      <th>Open</th>\n",
       "      <th>High</th>\n",
       "      <th>Low</th>\n",
       "      <th>Close</th>\n",
       "      <th>Adj Close</th>\n",
       "      <th>Volume</th>\n",
       "    </tr>\n",
       "    <tr>\n",
       "      <th>Date</th>\n",
       "      <th></th>\n",
       "      <th></th>\n",
       "      <th></th>\n",
       "      <th></th>\n",
       "      <th></th>\n",
       "      <th></th>\n",
       "    </tr>\n",
       "  </thead>\n",
       "  <tbody>\n",
       "    <tr>\n",
       "      <th>2014-09-17</th>\n",
       "      <td>465.864014</td>\n",
       "      <td>468.174011</td>\n",
       "      <td>452.421997</td>\n",
       "      <td>457.334015</td>\n",
       "      <td>457.334015</td>\n",
       "      <td>21056800</td>\n",
       "    </tr>\n",
       "    <tr>\n",
       "      <th>2014-09-18</th>\n",
       "      <td>456.859985</td>\n",
       "      <td>456.859985</td>\n",
       "      <td>413.104004</td>\n",
       "      <td>424.440002</td>\n",
       "      <td>424.440002</td>\n",
       "      <td>34483200</td>\n",
       "    </tr>\n",
       "    <tr>\n",
       "      <th>2014-09-19</th>\n",
       "      <td>424.102997</td>\n",
       "      <td>427.834991</td>\n",
       "      <td>384.532013</td>\n",
       "      <td>394.795990</td>\n",
       "      <td>394.795990</td>\n",
       "      <td>37919700</td>\n",
       "    </tr>\n",
       "    <tr>\n",
       "      <th>2014-09-20</th>\n",
       "      <td>394.673004</td>\n",
       "      <td>423.295990</td>\n",
       "      <td>389.882996</td>\n",
       "      <td>408.903992</td>\n",
       "      <td>408.903992</td>\n",
       "      <td>36863600</td>\n",
       "    </tr>\n",
       "    <tr>\n",
       "      <th>2014-09-21</th>\n",
       "      <td>408.084991</td>\n",
       "      <td>412.425995</td>\n",
       "      <td>393.181000</td>\n",
       "      <td>398.821014</td>\n",
       "      <td>398.821014</td>\n",
       "      <td>26580100</td>\n",
       "    </tr>\n",
       "  </tbody>\n",
       "</table>\n",
       "</div>"
      ],
      "text/plain": [
       "                  Open        High         Low       Close   Adj Close  \\\n",
       "Date                                                                     \n",
       "2014-09-17  465.864014  468.174011  452.421997  457.334015  457.334015   \n",
       "2014-09-18  456.859985  456.859985  413.104004  424.440002  424.440002   \n",
       "2014-09-19  424.102997  427.834991  384.532013  394.795990  394.795990   \n",
       "2014-09-20  394.673004  423.295990  389.882996  408.903992  408.903992   \n",
       "2014-09-21  408.084991  412.425995  393.181000  398.821014  398.821014   \n",
       "\n",
       "              Volume  \n",
       "Date                  \n",
       "2014-09-17  21056800  \n",
       "2014-09-18  34483200  \n",
       "2014-09-19  37919700  \n",
       "2014-09-20  36863600  \n",
       "2014-09-21  26580100  "
      ]
     },
     "execution_count": 2,
     "metadata": {},
     "output_type": "execute_result"
    }
   ],
   "source": [
    "# Obtaining data from Yahoo Finance\n",
    "df = yf.download('BTC-USD')\n",
    "df.head()"
   ]
  },
  {
   "cell_type": "code",
   "execution_count": 3,
   "metadata": {},
   "outputs": [
    {
     "data": {
      "text/plain": [
       "(3485, 6)"
      ]
     },
     "execution_count": 3,
     "metadata": {},
     "output_type": "execute_result"
    }
   ],
   "source": [
    "df.shape"
   ]
  },
  {
   "cell_type": "code",
   "execution_count": 4,
   "metadata": {},
   "outputs": [
    {
     "data": {
      "text/plain": [
       "Open         float64\n",
       "High         float64\n",
       "Low          float64\n",
       "Close        float64\n",
       "Adj Close    float64\n",
       "Volume         int64\n",
       "dtype: object"
      ]
     },
     "execution_count": 4,
     "metadata": {},
     "output_type": "execute_result"
    }
   ],
   "source": [
    "df.dtypes"
   ]
  },
  {
   "cell_type": "code",
   "execution_count": 5,
   "metadata": {},
   "outputs": [],
   "source": [
    "# Selecting the data from the last 5 years\n",
    "actual_date = df.index[-1]\n",
    "last_5_years = actual_date  - pd.DateOffset(years=5)\n",
    "df = df[df.index >= last_5_years]"
   ]
  },
  {
   "cell_type": "code",
   "execution_count": 6,
   "metadata": {},
   "outputs": [
    {
     "name": "stdout",
     "output_type": "stream",
     "text": [
      "The column Open has no NaN values\n",
      "The column High has no NaN values\n",
      "The column Low has no NaN values\n",
      "The column Close has no NaN values\n",
      "The column Adj Close has no NaN values\n",
      "The column Volume has no NaN values\n"
     ]
    }
   ],
   "source": [
    "# Checking if there are NaN values in the DataFrame for each column\n",
    "df_columns = ['Open', 'High', 'Low', 'Close', 'Adj Close','Volume']\n",
    "\n",
    "for column in df_columns:\n",
    "    has_nan = df[column].isna().any()\n",
    "    if has_nan:\n",
    "        print(\"The column\", column, \"has NaN values\")\n",
    "    else:\n",
    "        print(\"The column\", column, \"has no NaN values\")"
   ]
  },
  {
   "cell_type": "code",
   "execution_count": 7,
   "metadata": {},
   "outputs": [
    {
     "data": {
      "image/png": "[encoded data removed]",
      "text/plain": [
       "<Figure size 1080x504 with 1 Axes>"
      ]
     },
     "metadata": {
      "needs_background": "light"
     },
     "output_type": "display_data"
    }
   ],
   "source": [
    "plt.figure(figsize=(15, 7))\n",
    "plt.plot(df.index, df['Close'])\n",
    "\n",
    "plt.xlabel('Date')\n",
    "plt.ylabel('Bitcoin Price (USD)')\n",
    "plt.title('Bictoin Price x Date')\n",
    "\n",
    "plt.xticks(rotation=45)\n",
    "\n",
    "plt.show()"
   ]
  },
  {
   "cell_type": "code",
   "execution_count": 8,
   "metadata": {},
   "outputs": [
    {
     "data": {
      "image/png": "[encoded data removed]",
      "text/plain": [
       "<Figure size 792x360 with 1 Axes>"
      ]
     },
     "metadata": {
      "needs_background": "light"
     },
     "output_type": "display_data"
    }
   ],
   "source": [
    "# Checking for the presence of outliers in the data\n",
    "plt.figure(figsize=(11, 5))\n",
    "df.iloc[:, :-2].boxplot()\n",
    "plt.title('Boxplot of the columns')\n",
    "plt.ylabel('Values')\n",
    "plt.show()"
   ]
  },
  {
   "cell_type": "code",
   "execution_count": 9,
   "metadata": {},
   "outputs": [
    {
     "data": {
      "image/png": "[encoded data removed]",
      "text/plain": [
       "<Figure size 1440x1080 with 6 Axes>"
      ]
     },
     "metadata": {
      "needs_background": "light"
     },
     "output_type": "display_data"
    }
   ],
   "source": [
    "# Plotting the distributions of the DataFrame columns\n",
    "df.iloc[:, 1:].hist(figsize=(20, 15), bins=20)\n",
    "\n",
    "plt.show()"
   ]
  },
  {
   "cell_type": "code",
   "execution_count": 10,
   "metadata": {},
   "outputs": [
    {
     "data": {
      "text/html": [
       "<div>\n",
       "<style scoped>\n",
       "    .dataframe tbody tr th:only-of-type {\n",
       "        vertical-align: middle;\n",
       "    }\n",
       "\n",
       "    .dataframe tbody tr th {\n",
       "        vertical-align: top;\n",
       "    }\n",
       "\n",
       "    .dataframe thead th {\n",
       "        text-align: right;\n",
       "    }\n",
       "</style>\n",
       "<table border=\"1\" class=\"dataframe\">\n",
       "  <thead>\n",
       "    <tr style=\"text-align: right;\">\n",
       "      <th></th>\n",
       "      <th>Open</th>\n",
       "      <th>High</th>\n",
       "      <th>Low</th>\n",
       "      <th>Close</th>\n",
       "      <th>Adj Close</th>\n",
       "      <th>Volume</th>\n",
       "    </tr>\n",
       "  </thead>\n",
       "  <tbody>\n",
       "    <tr>\n",
       "      <th>count</th>\n",
       "      <td>1828.000000</td>\n",
       "      <td>1828.000000</td>\n",
       "      <td>1828.000000</td>\n",
       "      <td>1828.000000</td>\n",
       "      <td>1828.000000</td>\n",
       "      <td>1.828000e+03</td>\n",
       "    </tr>\n",
       "    <tr>\n",
       "      <th>mean</th>\n",
       "      <td>27051.460475</td>\n",
       "      <td>27672.220725</td>\n",
       "      <td>26399.482026</td>\n",
       "      <td>27085.057248</td>\n",
       "      <td>27085.057248</td>\n",
       "      <td>3.035755e+10</td>\n",
       "    </tr>\n",
       "    <tr>\n",
       "      <th>std</th>\n",
       "      <td>16697.972072</td>\n",
       "      <td>17128.650346</td>\n",
       "      <td>16222.681457</td>\n",
       "      <td>16715.346668</td>\n",
       "      <td>16715.346668</td>\n",
       "      <td>1.794027e+10</td>\n",
       "    </tr>\n",
       "    <tr>\n",
       "      <th>min</th>\n",
       "      <td>4105.362305</td>\n",
       "      <td>4164.953125</td>\n",
       "      <td>4096.901367</td>\n",
       "      <td>4158.183105</td>\n",
       "      <td>4158.183105</td>\n",
       "      <td>5.331173e+09</td>\n",
       "    </tr>\n",
       "    <tr>\n",
       "      <th>25%</th>\n",
       "      <td>10568.935547</td>\n",
       "      <td>10772.513428</td>\n",
       "      <td>10304.507568</td>\n",
       "      <td>10575.864258</td>\n",
       "      <td>10575.864258</td>\n",
       "      <td>1.837205e+10</td>\n",
       "    </tr>\n",
       "    <tr>\n",
       "      <th>50%</th>\n",
       "      <td>25141.166016</td>\n",
       "      <td>25937.496094</td>\n",
       "      <td>24849.660156</td>\n",
       "      <td>25369.524414</td>\n",
       "      <td>25369.524414</td>\n",
       "      <td>2.656463e+10</td>\n",
       "    </tr>\n",
       "    <tr>\n",
       "      <th>75%</th>\n",
       "      <td>39740.170898</td>\n",
       "      <td>40729.857422</td>\n",
       "      <td>38716.157227</td>\n",
       "      <td>39754.084961</td>\n",
       "      <td>39754.084961</td>\n",
       "      <td>3.725016e+10</td>\n",
       "    </tr>\n",
       "    <tr>\n",
       "      <th>max</th>\n",
       "      <td>73079.375000</td>\n",
       "      <td>73750.070312</td>\n",
       "      <td>71334.093750</td>\n",
       "      <td>73083.500000</td>\n",
       "      <td>73083.500000</td>\n",
       "      <td>3.509679e+11</td>\n",
       "    </tr>\n",
       "  </tbody>\n",
       "</table>\n",
       "</div>"
      ],
      "text/plain": [
       "               Open          High           Low         Close     Adj Close  \\\n",
       "count   1828.000000   1828.000000   1828.000000   1828.000000   1828.000000   \n",
       "mean   27051.460475  27672.220725  26399.482026  27085.057248  27085.057248   \n",
       "std    16697.972072  17128.650346  16222.681457  16715.346668  16715.346668   \n",
       "min     4105.362305   4164.953125   4096.901367   4158.183105   4158.183105   \n",
       "25%    10568.935547  10772.513428  10304.507568  10575.864258  10575.864258   \n",
       "50%    25141.166016  25937.496094  24849.660156  25369.524414  25369.524414   \n",
       "75%    39740.170898  40729.857422  38716.157227  39754.084961  39754.084961   \n",
       "max    73079.375000  73750.070312  71334.093750  73083.500000  73083.500000   \n",
       "\n",
       "             Volume  \n",
       "count  1.828000e+03  \n",
       "mean   3.035755e+10  \n",
       "std    1.794027e+10  \n",
       "min    5.331173e+09  \n",
       "25%    1.837205e+10  \n",
       "50%    2.656463e+10  \n",
       "75%    3.725016e+10  \n",
       "max    3.509679e+11  "
      ]
     },
     "execution_count": 10,
     "metadata": {},
     "output_type": "execute_result"
    }
   ],
   "source": [
    "# Basic statistics of the DataFrame\n",
    "df.describe()"
   ]
  },
  {
   "cell_type": "markdown",
   "metadata": {},
   "source": [
    "### Generating the Technical Indicators for the model"
   ]
  },
  {
   "cell_type": "markdown",
   "metadata": {},
   "source": [
    "##### Overlap Functions"
   ]
  },
  {
   "cell_type": "code",
   "execution_count": 11,
   "metadata": {},
   "outputs": [],
   "source": [
    "upperband, middleband, lowerband = ta.BBANDS(df['Close'], timeperiod=5, nbdevup=2, nbdevdn=2, matype=0)"
   ]
  },
  {
   "cell_type": "code",
   "execution_count": 12,
   "metadata": {},
   "outputs": [],
   "source": [
    "ema = ta.EMA(df['Close'], timeperiod=10)"
   ]
  },
  {
   "cell_type": "code",
   "execution_count": 13,
   "metadata": {},
   "outputs": [],
   "source": [
    "sma = ta.SMA(df['Close'], timeperiod=10)"
   ]
  },
  {
   "cell_type": "code",
   "execution_count": 14,
   "metadata": {},
   "outputs": [],
   "source": [
    "tema = ta.TEMA(df['Close'], timeperiod=10)"
   ]
  },
  {
   "cell_type": "code",
   "execution_count": 15,
   "metadata": {},
   "outputs": [],
   "source": [
    "wma = ta.WMA(df['Close'], timeperiod=10)"
   ]
  },
  {
   "cell_type": "markdown",
   "metadata": {},
   "source": [
    "##### Momentum Functions"
   ]
  },
  {
   "cell_type": "code",
   "execution_count": 16,
   "metadata": {},
   "outputs": [],
   "source": [
    "adx = ta.ADX(df['High'], df['Low'], df['Close'], timeperiod=5)"
   ]
  },
  {
   "cell_type": "code",
   "execution_count": 17,
   "metadata": {},
   "outputs": [],
   "source": [
    "adxr = ta.ADXR(df['High'], df['Low'], df['Close'], timeperiod=10)"
   ]
  },
  {
   "cell_type": "code",
   "execution_count": 18,
   "metadata": {},
   "outputs": [],
   "source": [
    "cci = ta.CCI(df['High'], df['Low'], df['Close'], timeperiod=10)"
   ]
  },
  {
   "cell_type": "code",
   "execution_count": 19,
   "metadata": {},
   "outputs": [],
   "source": [
    "macd, macdsignal, macdhist = ta.MACD(df['Close'], fastperiod=5, slowperiod=10, signalperiod=5)"
   ]
  },
  {
   "cell_type": "code",
   "execution_count": 20,
   "metadata": {},
   "outputs": [],
   "source": [
    "mom = ta.MOM(df['Close'], timeperiod=10)"
   ]
  },
  {
   "cell_type": "code",
   "execution_count": 21,
   "metadata": {},
   "outputs": [],
   "source": [
    "roc = ta.ROC(df['Close'], timeperiod=10)"
   ]
  },
  {
   "cell_type": "code",
   "execution_count": 22,
   "metadata": {},
   "outputs": [],
   "source": [
    "rsi = ta.RSI(df['Close'], timeperiod=10)"
   ]
  },
  {
   "cell_type": "code",
   "execution_count": 23,
   "metadata": {},
   "outputs": [],
   "source": [
    "slowk, slowd = ta.STOCH(df['High'], df['Low'], df['Close'], fastk_period=5, slowk_period=10, slowk_matype=0, slowd_period=10, slowd_matype=0)"
   ]
  },
  {
   "cell_type": "code",
   "execution_count": 24,
   "metadata": {},
   "outputs": [],
   "source": [
    "willr = ta.WILLR(df['High'], df['Low'], df['Close'], timeperiod=10)"
   ]
  },
  {
   "cell_type": "markdown",
   "metadata": {},
   "source": [
    "##### Volume Functions"
   ]
  },
  {
   "cell_type": "code",
   "execution_count": 25,
   "metadata": {},
   "outputs": [],
   "source": [
    "adosc = ta.ADOSC(df['High'], df['Low'], df['Close'], df['Volume'], fastperiod=5, slowperiod=10)"
   ]
  },
  {
   "cell_type": "code",
   "execution_count": 26,
   "metadata": {},
   "outputs": [],
   "source": [
    "obv = ta.OBV(df['Close'], df['Volume'])"
   ]
  },
  {
   "cell_type": "markdown",
   "metadata": {},
   "source": [
    "##### Volatility Functions"
   ]
  },
  {
   "cell_type": "code",
   "execution_count": 27,
   "metadata": {},
   "outputs": [],
   "source": [
    "atr = ta.ATR(df['High'], df['Low'], df['Close'], timeperiod=10)"
   ]
  },
  {
   "cell_type": "code",
   "execution_count": 28,
   "metadata": {},
   "outputs": [],
   "source": [
    "trange = ta.TRANGE(df['High'], df['Low'], df['Close'])"
   ]
  },
  {
   "cell_type": "code",
   "execution_count": 29,
   "metadata": {},
   "outputs": [],
   "source": [
    "# Function to create the technical indicators\n",
    "def generate_technical_indicators(dataset):\n",
    "    dataset['upperband'], dataset['middleband'], dataset['lowerband'] = ta.BBANDS(dataset['Close'], timeperiod=5, nbdevup=2, nbdevdn=2, matype=0)\n",
    "    dataset['ema'] = ta.EMA(dataset['Close'], timeperiod=10)\n",
    "    dataset['sma'] = ta.SMA(dataset['Close'], timeperiod=10)\n",
    "    dataset['tema'] = ta.TEMA(dataset['Close'], timeperiod=10)\n",
    "    dataset['wma'] = ta.WMA(dataset['Close'], timeperiod=10)\n",
    "    dataset['adx'] = ta.ADX(dataset['High'], dataset['Low'], dataset['Close'], timeperiod=5)\n",
    "    dataset['adxr'] = ta.ADXR(dataset['High'], dataset['Low'], dataset['Close'], timeperiod=10)\n",
    "    dataset['cci'] = ta.CCI(dataset['High'], dataset['Low'], dataset['Close'], timeperiod=10)\n",
    "    dataset['macd'], dataset['macdsignal'], dataset['macdhist'] = ta.MACD(dataset['Close'], fastperiod=5, slowperiod=10, signalperiod=5)\n",
    "    dataset['mom'] = ta.MOM(dataset['Close'], timeperiod=10)\n",
    "    dataset['roc'] = ta.ROC(dataset['Close'], timeperiod=10)\n",
    "    dataset['rsi'] = ta.RSI(dataset['Close'], timeperiod=10)\n",
    "    dataset['slowk'], dataset['slowd'] = ta.STOCH(dataset['High'], dataset['Low'], dataset['Close'], fastk_period=5, slowk_period=10, slowk_matype=0, slowd_period=10, slowd_matype=0)\n",
    "    dataset['willr'] = ta.WILLR(dataset['High'], dataset['Low'], dataset['Close'], timeperiod=10)\n",
    "    dataset['adosc'] = ta.ADOSC(dataset['High'], dataset['Low'], dataset['Close'], dataset['Volume'], fastperiod=5, slowperiod=10)\n",
    "    dataset['obv'] = ta.OBV(dataset['Close'], dataset['Volume'])\n",
    "    dataset['atr'] = ta.ATR(dataset['High'], dataset['Low'], dataset['Close'], timeperiod=10)\n",
    "    dataset['trange'] = ta.TRANGE(dataset['High'], dataset['Low'], dataset['Close'])\n",
    "\n",
    "    dataset = dataset.drop(['Open', 'High', 'Low', 'Adj Close', 'Volume'], axis=1)\n",
    "\n",
    "    # Formatting the data to match the model's training format\n",
    "    close_column = dataset.pop('Close')\n",
    "    dataset['Close'] = close_column\n",
    "\n",
    "    return dataset"
   ]
  },
  {
   "cell_type": "markdown",
   "metadata": {},
   "source": [
    "### Implementing the Deep Learning model"
   ]
  },
  {
   "cell_type": "code",
   "execution_count": 30,
   "metadata": {},
   "outputs": [],
   "source": [
    "import warnings\n",
    "\n",
    "with warnings.catch_warnings():\n",
    "    warnings.simplefilter(\"ignore\")\n",
    "\n",
    "    df = generate_technical_indicators(df)"
   ]
  },
  {
   "cell_type": "code",
   "execution_count": 31,
   "metadata": {},
   "outputs": [
    {
     "data": {
      "text/html": [
       "<div>\n",
       "<style scoped>\n",
       "    .dataframe tbody tr th:only-of-type {\n",
       "        vertical-align: middle;\n",
       "    }\n",
       "\n",
       "    .dataframe tbody tr th {\n",
       "        vertical-align: top;\n",
       "    }\n",
       "\n",
       "    .dataframe thead th {\n",
       "        text-align: right;\n",
       "    }\n",
       "</style>\n",
       "<table border=\"1\" class=\"dataframe\">\n",
       "  <thead>\n",
       "    <tr style=\"text-align: right;\">\n",
       "      <th></th>\n",
       "      <th>upperband</th>\n",
       "      <th>middleband</th>\n",
       "      <th>lowerband</th>\n",
       "      <th>ema</th>\n",
       "      <th>sma</th>\n",
       "      <th>tema</th>\n",
       "      <th>wma</th>\n",
       "      <th>adx</th>\n",
       "      <th>adxr</th>\n",
       "      <th>cci</th>\n",
       "      <th>...</th>\n",
       "      <th>roc</th>\n",
       "      <th>rsi</th>\n",
       "      <th>slowk</th>\n",
       "      <th>slowd</th>\n",
       "      <th>willr</th>\n",
       "      <th>adosc</th>\n",
       "      <th>obv</th>\n",
       "      <th>atr</th>\n",
       "      <th>trange</th>\n",
       "      <th>Close</th>\n",
       "    </tr>\n",
       "    <tr>\n",
       "      <th>Date</th>\n",
       "      <th></th>\n",
       "      <th></th>\n",
       "      <th></th>\n",
       "      <th></th>\n",
       "      <th></th>\n",
       "      <th></th>\n",
       "      <th></th>\n",
       "      <th></th>\n",
       "      <th></th>\n",
       "      <th></th>\n",
       "      <th></th>\n",
       "      <th></th>\n",
       "      <th></th>\n",
       "      <th></th>\n",
       "      <th></th>\n",
       "      <th></th>\n",
       "      <th></th>\n",
       "      <th></th>\n",
       "      <th></th>\n",
       "      <th></th>\n",
       "      <th></th>\n",
       "    </tr>\n",
       "  </thead>\n",
       "  <tbody>\n",
       "    <tr>\n",
       "      <th>2019-04-01</th>\n",
       "      <td>NaN</td>\n",
       "      <td>NaN</td>\n",
       "      <td>NaN</td>\n",
       "      <td>NaN</td>\n",
       "      <td>NaN</td>\n",
       "      <td>NaN</td>\n",
       "      <td>NaN</td>\n",
       "      <td>NaN</td>\n",
       "      <td>NaN</td>\n",
       "      <td>NaN</td>\n",
       "      <td>...</td>\n",
       "      <td>NaN</td>\n",
       "      <td>NaN</td>\n",
       "      <td>NaN</td>\n",
       "      <td>NaN</td>\n",
       "      <td>NaN</td>\n",
       "      <td>NaN</td>\n",
       "      <td>1.015779e+10</td>\n",
       "      <td>NaN</td>\n",
       "      <td>NaN</td>\n",
       "      <td>4158.183105</td>\n",
       "    </tr>\n",
       "    <tr>\n",
       "      <th>2019-04-02</th>\n",
       "      <td>NaN</td>\n",
       "      <td>NaN</td>\n",
       "      <td>NaN</td>\n",
       "      <td>NaN</td>\n",
       "      <td>NaN</td>\n",
       "      <td>NaN</td>\n",
       "      <td>NaN</td>\n",
       "      <td>NaN</td>\n",
       "      <td>NaN</td>\n",
       "      <td>NaN</td>\n",
       "      <td>...</td>\n",
       "      <td>NaN</td>\n",
       "      <td>NaN</td>\n",
       "      <td>NaN</td>\n",
       "      <td>NaN</td>\n",
       "      <td>NaN</td>\n",
       "      <td>NaN</td>\n",
       "      <td>3.147284e+10</td>\n",
       "      <td>NaN</td>\n",
       "      <td>750.637695</td>\n",
       "      <td>4879.877930</td>\n",
       "    </tr>\n",
       "    <tr>\n",
       "      <th>2019-04-03</th>\n",
       "      <td>NaN</td>\n",
       "      <td>NaN</td>\n",
       "      <td>NaN</td>\n",
       "      <td>NaN</td>\n",
       "      <td>NaN</td>\n",
       "      <td>NaN</td>\n",
       "      <td>NaN</td>\n",
       "      <td>NaN</td>\n",
       "      <td>NaN</td>\n",
       "      <td>NaN</td>\n",
       "      <td>...</td>\n",
       "      <td>NaN</td>\n",
       "      <td>NaN</td>\n",
       "      <td>NaN</td>\n",
       "      <td>NaN</td>\n",
       "      <td>NaN</td>\n",
       "      <td>NaN</td>\n",
       "      <td>5.437273e+10</td>\n",
       "      <td>NaN</td>\n",
       "      <td>430.382324</td>\n",
       "      <td>4973.021973</td>\n",
       "    </tr>\n",
       "    <tr>\n",
       "      <th>2019-04-04</th>\n",
       "      <td>NaN</td>\n",
       "      <td>NaN</td>\n",
       "      <td>NaN</td>\n",
       "      <td>NaN</td>\n",
       "      <td>NaN</td>\n",
       "      <td>NaN</td>\n",
       "      <td>NaN</td>\n",
       "      <td>NaN</td>\n",
       "      <td>NaN</td>\n",
       "      <td>NaN</td>\n",
       "      <td>...</td>\n",
       "      <td>NaN</td>\n",
       "      <td>NaN</td>\n",
       "      <td>NaN</td>\n",
       "      <td>NaN</td>\n",
       "      <td>NaN</td>\n",
       "      <td>NaN</td>\n",
       "      <td>3.612092e+10</td>\n",
       "      <td>NaN</td>\n",
       "      <td>226.365723</td>\n",
       "      <td>4922.798828</td>\n",
       "    </tr>\n",
       "    <tr>\n",
       "      <th>2019-04-05</th>\n",
       "      <td>5438.578408</td>\n",
       "      <td>4794.112598</td>\n",
       "      <td>4149.646788</td>\n",
       "      <td>NaN</td>\n",
       "      <td>NaN</td>\n",
       "      <td>NaN</td>\n",
       "      <td>NaN</td>\n",
       "      <td>NaN</td>\n",
       "      <td>NaN</td>\n",
       "      <td>NaN</td>\n",
       "      <td>...</td>\n",
       "      <td>NaN</td>\n",
       "      <td>NaN</td>\n",
       "      <td>NaN</td>\n",
       "      <td>NaN</td>\n",
       "      <td>NaN</td>\n",
       "      <td>NaN</td>\n",
       "      <td>5.295825e+10</td>\n",
       "      <td>NaN</td>\n",
       "      <td>134.018066</td>\n",
       "      <td>5036.681152</td>\n",
       "    </tr>\n",
       "    <tr>\n",
       "      <th>...</th>\n",
       "      <td>...</td>\n",
       "      <td>...</td>\n",
       "      <td>...</td>\n",
       "      <td>...</td>\n",
       "      <td>...</td>\n",
       "      <td>...</td>\n",
       "      <td>...</td>\n",
       "      <td>...</td>\n",
       "      <td>...</td>\n",
       "      <td>...</td>\n",
       "      <td>...</td>\n",
       "      <td>...</td>\n",
       "      <td>...</td>\n",
       "      <td>...</td>\n",
       "      <td>...</td>\n",
       "      <td>...</td>\n",
       "      <td>...</td>\n",
       "      <td>...</td>\n",
       "      <td>...</td>\n",
       "      <td>...</td>\n",
       "      <td>...</td>\n",
       "    </tr>\n",
       "    <tr>\n",
       "      <th>2024-03-28</th>\n",
       "      <td>71864.787147</td>\n",
       "      <td>69476.223437</td>\n",
       "      <td>67087.659728</td>\n",
       "      <td>68338.362947</td>\n",
       "      <td>67053.991797</td>\n",
       "      <td>69846.922567</td>\n",
       "      <td>68276.497869</td>\n",
       "      <td>31.775692</td>\n",
       "      <td>34.062767</td>\n",
       "      <td>96.658700</td>\n",
       "      <td>...</td>\n",
       "      <td>4.731941</td>\n",
       "      <td>60.154962</td>\n",
       "      <td>63.686409</td>\n",
       "      <td>51.121436</td>\n",
       "      <td>-8.999480</td>\n",
       "      <td>3.086639e+09</td>\n",
       "      <td>1.515061e+12</td>\n",
       "      <td>3799.016247</td>\n",
       "      <td>2650.515625</td>\n",
       "      <td>70744.953125</td>\n",
       "    </tr>\n",
       "    <tr>\n",
       "      <th>2024-03-29</th>\n",
       "      <td>70839.637026</td>\n",
       "      <td>70007.954687</td>\n",
       "      <td>69176.272349</td>\n",
       "      <td>68620.992980</td>\n",
       "      <td>67851.997266</td>\n",
       "      <td>70113.401984</td>\n",
       "      <td>68792.649929</td>\n",
       "      <td>26.918492</td>\n",
       "      <td>32.236169</td>\n",
       "      <td>67.403310</td>\n",
       "      <td>...</td>\n",
       "      <td>12.889189</td>\n",
       "      <td>57.363544</td>\n",
       "      <td>69.884762</td>\n",
       "      <td>52.708826</td>\n",
       "      <td>-16.802892</td>\n",
       "      <td>2.634848e+09</td>\n",
       "      <td>1.489830e+12</td>\n",
       "      <td>3602.758372</td>\n",
       "      <td>1836.437500</td>\n",
       "      <td>69892.828125</td>\n",
       "    </tr>\n",
       "    <tr>\n",
       "      <th>2024-03-30</th>\n",
       "      <td>70828.004291</td>\n",
       "      <td>69945.253125</td>\n",
       "      <td>69062.501959</td>\n",
       "      <td>68807.231472</td>\n",
       "      <td>68025.160547</td>\n",
       "      <td>70138.144836</td>\n",
       "      <td>69118.705824</td>\n",
       "      <td>23.032732</td>\n",
       "      <td>30.551980</td>\n",
       "      <td>53.877702</td>\n",
       "      <td>...</td>\n",
       "      <td>2.549756</td>\n",
       "      <td>56.517089</td>\n",
       "      <td>65.969200</td>\n",
       "      <td>53.988525</td>\n",
       "      <td>-22.218443</td>\n",
       "      <td>-6.234677e+07</td>\n",
       "      <td>1.472700e+12</td>\n",
       "      <td>3317.925504</td>\n",
       "      <td>754.429688</td>\n",
       "      <td>69645.304688</td>\n",
       "    </tr>\n",
       "    <tr>\n",
       "      <th>2024-03-31</th>\n",
       "      <td>71639.237865</td>\n",
       "      <td>70214.415625</td>\n",
       "      <td>68789.593385</td>\n",
       "      <td>69266.580011</td>\n",
       "      <td>68609.386328</td>\n",
       "      <td>70879.371896</td>\n",
       "      <td>69720.249077</td>\n",
       "      <td>24.874584</td>\n",
       "      <td>30.013430</td>\n",
       "      <td>70.424462</td>\n",
       "      <td>...</td>\n",
       "      <td>8.920650</td>\n",
       "      <td>60.890788</td>\n",
       "      <td>69.001629</td>\n",
       "      <td>55.891469</td>\n",
       "      <td>-4.204287</td>\n",
       "      <td>1.355281e+09</td>\n",
       "      <td>1.492751e+12</td>\n",
       "      <td>3161.424359</td>\n",
       "      <td>1752.914062</td>\n",
       "      <td>71333.648438</td>\n",
       "    </tr>\n",
       "    <tr>\n",
       "      <th>2024-04-01</th>\n",
       "      <td>71620.792585</td>\n",
       "      <td>70231.831250</td>\n",
       "      <td>68842.869915</td>\n",
       "      <td>69316.733077</td>\n",
       "      <td>69185.752344</td>\n",
       "      <td>70524.517369</td>\n",
       "      <td>69889.891903</td>\n",
       "      <td>21.676160</td>\n",
       "      <td>29.293212</td>\n",
       "      <td>28.269895</td>\n",
       "      <td>...</td>\n",
       "      <td>9.036958</td>\n",
       "      <td>54.436244</td>\n",
       "      <td>69.258701</td>\n",
       "      <td>58.245998</td>\n",
       "      <td>-25.149229</td>\n",
       "      <td>1.263878e+09</td>\n",
       "      <td>1.459240e+12</td>\n",
       "      <td>3154.114736</td>\n",
       "      <td>3088.328125</td>\n",
       "      <td>69542.421875</td>\n",
       "    </tr>\n",
       "  </tbody>\n",
       "</table>\n",
       "<p>1828 rows × 24 columns</p>\n",
       "</div>"
      ],
      "text/plain": [
       "               upperband    middleband     lowerband           ema  \\\n",
       "Date                                                                 \n",
       "2019-04-01           NaN           NaN           NaN           NaN   \n",
       "2019-04-02           NaN           NaN           NaN           NaN   \n",
       "2019-04-03           NaN           NaN           NaN           NaN   \n",
       "2019-04-04           NaN           NaN           NaN           NaN   \n",
       "2019-04-05   5438.578408   4794.112598   4149.646788           NaN   \n",
       "...                  ...           ...           ...           ...   \n",
       "2024-03-28  71864.787147  69476.223437  67087.659728  68338.362947   \n",
       "2024-03-29  70839.637026  70007.954687  69176.272349  68620.992980   \n",
       "2024-03-30  70828.004291  69945.253125  69062.501959  68807.231472   \n",
       "2024-03-31  71639.237865  70214.415625  68789.593385  69266.580011   \n",
       "2024-04-01  71620.792585  70231.831250  68842.869915  69316.733077   \n",
       "\n",
       "                     sma          tema           wma        adx       adxr  \\\n",
       "Date                                                                         \n",
       "2019-04-01           NaN           NaN           NaN        NaN        NaN   \n",
       "2019-04-02           NaN           NaN           NaN        NaN        NaN   \n",
       "2019-04-03           NaN           NaN           NaN        NaN        NaN   \n",
       "2019-04-04           NaN           NaN           NaN        NaN        NaN   \n",
       "2019-04-05           NaN           NaN           NaN        NaN        NaN   \n",
       "...                  ...           ...           ...        ...        ...   \n",
       "2024-03-28  67053.991797  69846.922567  68276.497869  31.775692  34.062767   \n",
       "2024-03-29  67851.997266  70113.401984  68792.649929  26.918492  32.236169   \n",
       "2024-03-30  68025.160547  70138.144836  69118.705824  23.032732  30.551980   \n",
       "2024-03-31  68609.386328  70879.371896  69720.249077  24.874584  30.013430   \n",
       "2024-04-01  69185.752344  70524.517369  69889.891903  21.676160  29.293212   \n",
       "\n",
       "                  cci  ...        roc        rsi      slowk      slowd  \\\n",
       "Date                   ...                                               \n",
       "2019-04-01        NaN  ...        NaN        NaN        NaN        NaN   \n",
       "2019-04-02        NaN  ...        NaN        NaN        NaN        NaN   \n",
       "2019-04-03        NaN  ...        NaN        NaN        NaN        NaN   \n",
       "2019-04-04        NaN  ...        NaN        NaN        NaN        NaN   \n",
       "2019-04-05        NaN  ...        NaN        NaN        NaN        NaN   \n",
       "...               ...  ...        ...        ...        ...        ...   \n",
       "2024-03-28  96.658700  ...   4.731941  60.154962  63.686409  51.121436   \n",
       "2024-03-29  67.403310  ...  12.889189  57.363544  69.884762  52.708826   \n",
       "2024-03-30  53.877702  ...   2.549756  56.517089  65.969200  53.988525   \n",
       "2024-03-31  70.424462  ...   8.920650  60.890788  69.001629  55.891469   \n",
       "2024-04-01  28.269895  ...   9.036958  54.436244  69.258701  58.245998   \n",
       "\n",
       "                willr         adosc           obv          atr       trange  \\\n",
       "Date                                                                          \n",
       "2019-04-01        NaN           NaN  1.015779e+10          NaN          NaN   \n",
       "2019-04-02        NaN           NaN  3.147284e+10          NaN   750.637695   \n",
       "2019-04-03        NaN           NaN  5.437273e+10          NaN   430.382324   \n",
       "2019-04-04        NaN           NaN  3.612092e+10          NaN   226.365723   \n",
       "2019-04-05        NaN           NaN  5.295825e+10          NaN   134.018066   \n",
       "...               ...           ...           ...          ...          ...   \n",
       "2024-03-28  -8.999480  3.086639e+09  1.515061e+12  3799.016247  2650.515625   \n",
       "2024-03-29 -16.802892  2.634848e+09  1.489830e+12  3602.758372  1836.437500   \n",
       "2024-03-30 -22.218443 -6.234677e+07  1.472700e+12  3317.925504   754.429688   \n",
       "2024-03-31  -4.204287  1.355281e+09  1.492751e+12  3161.424359  1752.914062   \n",
       "2024-04-01 -25.149229  1.263878e+09  1.459240e+12  3154.114736  3088.328125   \n",
       "\n",
       "                   Close  \n",
       "Date                      \n",
       "2019-04-01   4158.183105  \n",
       "2019-04-02   4879.877930  \n",
       "2019-04-03   4973.021973  \n",
       "2019-04-04   4922.798828  \n",
       "2019-04-05   5036.681152  \n",
       "...                  ...  \n",
       "2024-03-28  70744.953125  \n",
       "2024-03-29  69892.828125  \n",
       "2024-03-30  69645.304688  \n",
       "2024-03-31  71333.648438  \n",
       "2024-04-01  69542.421875  \n",
       "\n",
       "[1828 rows x 24 columns]"
      ]
     },
     "execution_count": 31,
     "metadata": {},
     "output_type": "execute_result"
    }
   ],
   "source": [
    "df"
   ]
  },
  {
   "cell_type": "code",
   "execution_count": 32,
   "metadata": {},
   "outputs": [],
   "source": [
    "# Replacing NaN values with zero in the DataFrame\n",
    "df.fillna(0, inplace=True)"
   ]
  },
  {
   "cell_type": "code",
   "execution_count": 33,
   "metadata": {},
   "outputs": [
    {
     "data": {
      "text/plain": [
       "upperband     False\n",
       "middleband    False\n",
       "lowerband     False\n",
       "ema           False\n",
       "sma           False\n",
       "tema          False\n",
       "wma           False\n",
       "adx           False\n",
       "adxr          False\n",
       "cci           False\n",
       "macd          False\n",
       "macdsignal    False\n",
       "macdhist      False\n",
       "mom           False\n",
       "roc           False\n",
       "rsi           False\n",
       "slowk         False\n",
       "slowd         False\n",
       "willr         False\n",
       "adosc         False\n",
       "obv           False\n",
       "atr           False\n",
       "trange        False\n",
       "Close         False\n",
       "dtype: bool"
      ]
     },
     "execution_count": 33,
     "metadata": {},
     "output_type": "execute_result"
    }
   ],
   "source": [
    "df.isna().any()"
   ]
  },
  {
   "cell_type": "code",
   "execution_count": 34,
   "metadata": {},
   "outputs": [
    {
     "data": {
      "text/plain": [
       "<matplotlib.legend.Legend at 0x20117fc72b0>"
      ]
     },
     "execution_count": 34,
     "metadata": {},
     "output_type": "execute_result"
    },
    {
     "data": {
      "image/png": "[encoded data removed]",
      "text/plain": [
       "<Figure size 1224x504 with 1 Axes>"
      ]
     },
     "metadata": {
      "needs_background": "dark"
     },
     "output_type": "display_data"
    }
   ],
   "source": [
    "# Plotting the train data, validation data and test data of the model\n",
    "dates = df.index\n",
    "train_data = int(len(dates) * .7)\n",
    "val_data = int((train_data * .2) + train_data) # 20% of the train data\n",
    "\n",
    "dates_train, y_train = dates[:train_data], df.iloc[:train_data, -1]\n",
    "dates_val, y_val = dates[train_data:val_data], df.iloc[train_data:val_data, -1]\n",
    "dates_test, y_test = dates[val_data:], df.iloc[val_data:, -1]\n",
    "\n",
    "plt.figure(figsize=(17, 7))\n",
    "plt.style.use('dark_background')\n",
    "plt.plot(dates_train, y_train)\n",
    "plt.plot(dates_val, y_val)\n",
    "plt.plot(dates_test, y_test)\n",
    "\n",
    "plt.legend(['Train', 'Validation', 'Test'])"
   ]
  },
  {
   "cell_type": "code",
   "execution_count": 35,
   "metadata": {},
   "outputs": [
    {
     "data": {
      "text/plain": [
       "(1828, 24)"
      ]
     },
     "execution_count": 35,
     "metadata": {},
     "output_type": "execute_result"
    }
   ],
   "source": [
    "# Normalization of the data in the range of [0, 1] to have a better performance of the algorithm\n",
    "scaler = MinMaxScaler(feature_range=(0, 1))\n",
    "\n",
    "scaled_data = df.copy()\n",
    "\n",
    "# Normalization of each column independently\n",
    "for column in scaled_data.columns:\n",
    "    \n",
    "    column_data = scaled_data[[column]]\n",
    "    \n",
    "    scaled_column = scaler.fit_transform(column_data)\n",
    "    \n",
    "    scaled_data[column] = scaled_column.flatten()\n",
    "\n",
    "# Verifying the normalized DataFrame\n",
    "scaled_data = scaled_data.values\n",
    "scaled_data.shape"
   ]
  },
  {
   "cell_type": "code",
   "execution_count": 36,
   "metadata": {},
   "outputs": [
    {
     "data": {
      "text/plain": [
       "((1826, 2, 24), (1826,))"
      ]
     },
     "execution_count": 36,
     "metadata": {},
     "output_type": "execute_result"
    }
   ],
   "source": [
    "# Preparing the data for the model\n",
    "n = 2  # Number of days before of the model tries to predict the next price value\n",
    "def prepare_data(data, n_steps):\n",
    "    X, y = [], []\n",
    "    for i in range(len(data) - n_steps):\n",
    "        row = [r for r in data[i:i + n_steps]]  # Selecting all the data of the row to learn to predict the next price value\n",
    "        X.append(row)\n",
    "        label = data[i + n_steps][-1]  # Value of the price that the model will predict\n",
    "        y.append(label)\n",
    "    return np.array(X), np.array(y)\n",
    "\n",
    "X, y = prepare_data(scaled_data, n)\n",
    "X.shape, y.shape"
   ]
  },
  {
   "cell_type": "code",
   "execution_count": 37,
   "metadata": {},
   "outputs": [
    {
     "data": {
      "text/plain": [
       "((1278, 2, 24), (1278,), (255, 2, 24), (255,), (293, 2, 24), (293,))"
      ]
     },
     "execution_count": 37,
     "metadata": {},
     "output_type": "execute_result"
    }
   ],
   "source": [
    "# Selecting the train data, validation data and test data\n",
    "train_data = int(len(X) * .7)\n",
    "val_data = int((train_data * .2) + train_data)\n",
    "\n",
    "X_train, X_val, X_test = X[:train_data], X[train_data:val_data], X[val_data:]\n",
    "y_train, y_val, y_test = y[:train_data], y[train_data:val_data], y[val_data:]\n",
    "\n",
    "X_train.shape, y_train.shape, X_val.shape, y_val.shape, X_test.shape, y_test.shape"
   ]
  },
  {
   "cell_type": "code",
   "execution_count": 38,
   "metadata": {},
   "outputs": [
    {
     "name": "stderr",
     "output_type": "stream",
     "text": [
      "c:\\Users\\celio\\AppData\\Local\\Programs\\Python\\Python310\\lib\\site-packages\\keras\\src\\layers\\rnn\\rnn.py:204: UserWarning: Do not pass an `input_shape`/`input_dim` argument to a layer. When using Sequential models, prefer using an `Input(shape)` object as the first layer in the model instead.\n",
      "  super().__init__(**kwargs)\n"
     ]
    },
    {
     "data": {
      "text/html": [
       "<pre style=\"white-space:pre;overflow-x:auto;line-height:normal;font-family:Menlo,'DejaVu Sans Mono',consolas,'Courier New',monospace\"><span style=\"font-weight: bold\">Model: \"sequential\"</span>\n",
       "</pre>\n"
      ],
      "text/plain": [
       "\u001b[1mModel: \"sequential\"\u001b[0m\n"
      ]
     },
     "metadata": {},
     "output_type": "display_data"
    },
    {
     "data": {
      "text/html": [
       "<pre style=\"white-space:pre;overflow-x:auto;line-height:normal;font-family:Menlo,'DejaVu Sans Mono',consolas,'Courier New',monospace\">┏━━━━━━━━━━━━━━━━━━━━━━━━━━━━━━━━━┳━━━━━━━━━━━━━━━━━━━━━━━━┳━━━━━━━━━━━━━━━┓\n",
       "┃<span style=\"font-weight: bold\"> Layer (type)                    </span>┃<span style=\"font-weight: bold\"> Output Shape           </span>┃<span style=\"font-weight: bold\">       Param # </span>┃\n",
       "┡━━━━━━━━━━━━━━━━━━━━━━━━━━━━━━━━━╇━━━━━━━━━━━━━━━━━━━━━━━━╇━━━━━━━━━━━━━━━┩\n",
       "│ lstm (<span style=\"color: #0087ff; text-decoration-color: #0087ff\">LSTM</span>)                     │ (<span style=\"color: #00d7ff; text-decoration-color: #00d7ff\">None</span>, <span style=\"color: #00af00; text-decoration-color: #00af00\">200</span>)            │       <span style=\"color: #00af00; text-decoration-color: #00af00\">180,000</span> │\n",
       "├─────────────────────────────────┼────────────────────────┼───────────────┤\n",
       "│ dense (<span style=\"color: #0087ff; text-decoration-color: #0087ff\">Dense</span>)                   │ (<span style=\"color: #00d7ff; text-decoration-color: #00d7ff\">None</span>, <span style=\"color: #00af00; text-decoration-color: #00af00\">1</span>)              │           <span style=\"color: #00af00; text-decoration-color: #00af00\">201</span> │\n",
       "└─────────────────────────────────┴────────────────────────┴───────────────┘\n",
       "</pre>\n"
      ],
      "text/plain": [
       "┏━━━━━━━━━━━━━━━━━━━━━━━━━━━━━━━━━┳━━━━━━━━━━━━━━━━━━━━━━━━┳━━━━━━━━━━━━━━━┓\n",
       "┃\u001b[1m \u001b[0m\u001b[1mLayer (type)                   \u001b[0m\u001b[1m \u001b[0m┃\u001b[1m \u001b[0m\u001b[1mOutput Shape          \u001b[0m\u001b[1m \u001b[0m┃\u001b[1m \u001b[0m\u001b[1m      Param #\u001b[0m\u001b[1m \u001b[0m┃\n",
       "┡━━━━━━━━━━━━━━━━━━━━━━━━━━━━━━━━━╇━━━━━━━━━━━━━━━━━━━━━━━━╇━━━━━━━━━━━━━━━┩\n",
       "│ lstm (\u001b[38;5;33mLSTM\u001b[0m)                     │ (\u001b[38;5;45mNone\u001b[0m, \u001b[38;5;34m200\u001b[0m)            │       \u001b[38;5;34m180,000\u001b[0m │\n",
       "├─────────────────────────────────┼────────────────────────┼───────────────┤\n",
       "│ dense (\u001b[38;5;33mDense\u001b[0m)                   │ (\u001b[38;5;45mNone\u001b[0m, \u001b[38;5;34m1\u001b[0m)              │           \u001b[38;5;34m201\u001b[0m │\n",
       "└─────────────────────────────────┴────────────────────────┴───────────────┘\n"
      ]
     },
     "metadata": {},
     "output_type": "display_data"
    },
    {
     "data": {
      "text/html": [
       "<pre style=\"white-space:pre;overflow-x:auto;line-height:normal;font-family:Menlo,'DejaVu Sans Mono',consolas,'Courier New',monospace\"><span style=\"font-weight: bold\"> Total params: </span><span style=\"color: #00af00; text-decoration-color: #00af00\">180,201</span> (703.91 KB)\n",
       "</pre>\n"
      ],
      "text/plain": [
       "\u001b[1m Total params: \u001b[0m\u001b[38;5;34m180,201\u001b[0m (703.91 KB)\n"
      ]
     },
     "metadata": {},
     "output_type": "display_data"
    },
    {
     "data": {
      "text/html": [
       "<pre style=\"white-space:pre;overflow-x:auto;line-height:normal;font-family:Menlo,'DejaVu Sans Mono',consolas,'Courier New',monospace\"><span style=\"font-weight: bold\"> Trainable params: </span><span style=\"color: #00af00; text-decoration-color: #00af00\">180,201</span> (703.91 KB)\n",
       "</pre>\n"
      ],
      "text/plain": [
       "\u001b[1m Trainable params: \u001b[0m\u001b[38;5;34m180,201\u001b[0m (703.91 KB)\n"
      ]
     },
     "metadata": {},
     "output_type": "display_data"
    },
    {
     "data": {
      "text/html": [
       "<pre style=\"white-space:pre;overflow-x:auto;line-height:normal;font-family:Menlo,'DejaVu Sans Mono',consolas,'Courier New',monospace\"><span style=\"font-weight: bold\"> Non-trainable params: </span><span style=\"color: #00af00; text-decoration-color: #00af00\">0</span> (0.00 B)\n",
       "</pre>\n"
      ],
      "text/plain": [
       "\u001b[1m Non-trainable params: \u001b[0m\u001b[38;5;34m0\u001b[0m (0.00 B)\n"
      ]
     },
     "metadata": {},
     "output_type": "display_data"
    }
   ],
   "source": [
    "# Building the LSTM model\n",
    "model = Sequential([\n",
    "    LSTM(200, activation='tanh', input_shape=(X_train.shape[1], X_train.shape[2])),\n",
    "    Dense(1)\n",
    "])\n",
    "\n",
    "model.summary()"
   ]
  },
  {
   "cell_type": "code",
   "execution_count": 39,
   "metadata": {},
   "outputs": [
    {
     "name": "stdout",
     "output_type": "stream",
     "text": [
      "Epoch 1/50\n",
      "\u001b[1m40/40\u001b[0m \u001b[32m━━━━━━━━━━━━━━━━━━━━\u001b[0m\u001b[37m\u001b[0m \u001b[1m2s\u001b[0m 13ms/step - loss: 0.0706 - val_loss: 8.0344e-04\n",
      "Epoch 2/50\n",
      "\u001b[1m40/40\u001b[0m \u001b[32m━━━━━━━━━━━━━━━━━━━━\u001b[0m\u001b[37m\u001b[0m \u001b[1m0s\u001b[0m 5ms/step - loss: 0.0021 - val_loss: 6.8296e-04\n",
      "Epoch 3/50\n",
      "\u001b[1m40/40\u001b[0m \u001b[32m━━━━━━━━━━━━━━━━━━━━\u001b[0m\u001b[37m\u001b[0m \u001b[1m0s\u001b[0m 5ms/step - loss: 0.0010 - val_loss: 4.2327e-04\n",
      "Epoch 4/50\n",
      "\u001b[1m40/40\u001b[0m \u001b[32m━━━━━━━━━━━━━━━━━━━━\u001b[0m\u001b[37m\u001b[0m \u001b[1m0s\u001b[0m 9ms/step - loss: 7.7373e-04 - val_loss: 3.3946e-04\n",
      "Epoch 5/50\n",
      "\u001b[1m40/40\u001b[0m \u001b[32m━━━━━━━━━━━━━━━━━━━━\u001b[0m\u001b[37m\u001b[0m \u001b[1m0s\u001b[0m 6ms/step - loss: 6.5196e-04 - val_loss: 3.7443e-04\n",
      "Epoch 6/50\n",
      "\u001b[1m40/40\u001b[0m \u001b[32m━━━━━━━━━━━━━━━━━━━━\u001b[0m\u001b[37m\u001b[0m \u001b[1m0s\u001b[0m 8ms/step - loss: 6.0608e-04 - val_loss: 3.2215e-04\n",
      "Epoch 7/50\n",
      "\u001b[1m40/40\u001b[0m \u001b[32m━━━━━━━━━━━━━━━━━━━━\u001b[0m\u001b[37m\u001b[0m \u001b[1m0s\u001b[0m 4ms/step - loss: 4.9964e-04 - val_loss: 3.5394e-04\n",
      "Epoch 8/50\n",
      "\u001b[1m40/40\u001b[0m \u001b[32m━━━━━━━━━━━━━━━━━━━━\u001b[0m\u001b[37m\u001b[0m \u001b[1m0s\u001b[0m 5ms/step - loss: 4.7291e-04 - val_loss: 5.0595e-04\n",
      "Epoch 9/50\n",
      "\u001b[1m40/40\u001b[0m \u001b[32m━━━━━━━━━━━━━━━━━━━━\u001b[0m\u001b[37m\u001b[0m \u001b[1m0s\u001b[0m 5ms/step - loss: 4.9074e-04 - val_loss: 3.8964e-04\n",
      "Epoch 10/50\n",
      "\u001b[1m40/40\u001b[0m \u001b[32m━━━━━━━━━━━━━━━━━━━━\u001b[0m\u001b[37m\u001b[0m \u001b[1m0s\u001b[0m 5ms/step - loss: 4.3657e-04 - val_loss: 2.0667e-04\n",
      "Epoch 11/50\n",
      "\u001b[1m40/40\u001b[0m \u001b[32m━━━━━━━━━━━━━━━━━━━━\u001b[0m\u001b[37m\u001b[0m \u001b[1m0s\u001b[0m 4ms/step - loss: 4.5134e-04 - val_loss: 2.2865e-04\n",
      "Epoch 12/50\n",
      "\u001b[1m40/40\u001b[0m \u001b[32m━━━━━━━━━━━━━━━━━━━━\u001b[0m\u001b[37m\u001b[0m \u001b[1m0s\u001b[0m 5ms/step - loss: 4.0818e-04 - val_loss: 3.1374e-04\n",
      "Epoch 13/50\n",
      "\u001b[1m40/40\u001b[0m \u001b[32m━━━━━━━━━━━━━━━━━━━━\u001b[0m\u001b[37m\u001b[0m \u001b[1m0s\u001b[0m 4ms/step - loss: 3.9650e-04 - val_loss: 3.9309e-04\n",
      "Epoch 14/50\n",
      "\u001b[1m40/40\u001b[0m \u001b[32m━━━━━━━━━━━━━━━━━━━━\u001b[0m\u001b[37m\u001b[0m \u001b[1m0s\u001b[0m 4ms/step - loss: 3.7760e-04 - val_loss: 2.8748e-04\n",
      "Epoch 15/50\n",
      "\u001b[1m40/40\u001b[0m \u001b[32m━━━━━━━━━━━━━━━━━━━━\u001b[0m\u001b[37m\u001b[0m \u001b[1m0s\u001b[0m 5ms/step - loss: 4.2509e-04 - val_loss: 1.4443e-04\n",
      "Epoch 16/50\n",
      "\u001b[1m40/40\u001b[0m \u001b[32m━━━━━━━━━━━━━━━━━━━━\u001b[0m\u001b[37m\u001b[0m \u001b[1m0s\u001b[0m 5ms/step - loss: 4.2456e-04 - val_loss: 1.7721e-04\n",
      "Epoch 17/50\n",
      "\u001b[1m40/40\u001b[0m \u001b[32m━━━━━━━━━━━━━━━━━━━━\u001b[0m\u001b[37m\u001b[0m \u001b[1m0s\u001b[0m 6ms/step - loss: 3.8509e-04 - val_loss: 3.9980e-04\n",
      "Epoch 18/50\n",
      "\u001b[1m40/40\u001b[0m \u001b[32m━━━━━━━━━━━━━━━━━━━━\u001b[0m\u001b[37m\u001b[0m \u001b[1m0s\u001b[0m 5ms/step - loss: 4.3421e-04 - val_loss: 2.3305e-04\n",
      "Epoch 19/50\n",
      "\u001b[1m40/40\u001b[0m \u001b[32m━━━━━━━━━━━━━━━━━━━━\u001b[0m\u001b[37m\u001b[0m \u001b[1m0s\u001b[0m 5ms/step - loss: 3.6026e-04 - val_loss: 1.8546e-04\n",
      "Epoch 20/50\n",
      "\u001b[1m40/40\u001b[0m \u001b[32m━━━━━━━━━━━━━━━━━━━━\u001b[0m\u001b[37m\u001b[0m \u001b[1m0s\u001b[0m 4ms/step - loss: 3.7648e-04 - val_loss: 1.6250e-04\n",
      "Epoch 21/50\n",
      "\u001b[1m40/40\u001b[0m \u001b[32m━━━━━━━━━━━━━━━━━━━━\u001b[0m\u001b[37m\u001b[0m \u001b[1m0s\u001b[0m 5ms/step - loss: 3.8231e-04 - val_loss: 4.5951e-04\n",
      "Epoch 22/50\n",
      "\u001b[1m40/40\u001b[0m \u001b[32m━━━━━━━━━━━━━━━━━━━━\u001b[0m\u001b[37m\u001b[0m \u001b[1m0s\u001b[0m 5ms/step - loss: 3.7186e-04 - val_loss: 2.1489e-04\n",
      "Epoch 23/50\n",
      "\u001b[1m40/40\u001b[0m \u001b[32m━━━━━━━━━━━━━━━━━━━━\u001b[0m\u001b[37m\u001b[0m \u001b[1m0s\u001b[0m 5ms/step - loss: 4.1317e-04 - val_loss: 2.6089e-04\n",
      "Epoch 24/50\n",
      "\u001b[1m40/40\u001b[0m \u001b[32m━━━━━━━━━━━━━━━━━━━━\u001b[0m\u001b[37m\u001b[0m \u001b[1m0s\u001b[0m 4ms/step - loss: 3.0337e-04 - val_loss: 1.4074e-04\n",
      "Epoch 25/50\n",
      "\u001b[1m40/40\u001b[0m \u001b[32m━━━━━━━━━━━━━━━━━━━━\u001b[0m\u001b[37m\u001b[0m \u001b[1m0s\u001b[0m 4ms/step - loss: 3.3105e-04 - val_loss: 1.7242e-04\n",
      "Epoch 26/50\n",
      "\u001b[1m40/40\u001b[0m \u001b[32m━━━━━━━━━━━━━━━━━━━━\u001b[0m\u001b[37m\u001b[0m \u001b[1m0s\u001b[0m 4ms/step - loss: 3.1830e-04 - val_loss: 1.4490e-04\n",
      "Epoch 27/50\n",
      "\u001b[1m40/40\u001b[0m \u001b[32m━━━━━━━━━━━━━━━━━━━━\u001b[0m\u001b[37m\u001b[0m \u001b[1m0s\u001b[0m 4ms/step - loss: 3.4178e-04 - val_loss: 2.0087e-04\n",
      "Epoch 28/50\n",
      "\u001b[1m40/40\u001b[0m \u001b[32m━━━━━━━━━━━━━━━━━━━━\u001b[0m\u001b[37m\u001b[0m \u001b[1m0s\u001b[0m 5ms/step - loss: 3.5456e-04 - val_loss: 2.1572e-04\n",
      "Epoch 29/50\n",
      "\u001b[1m40/40\u001b[0m \u001b[32m━━━━━━━━━━━━━━━━━━━━\u001b[0m\u001b[37m\u001b[0m \u001b[1m0s\u001b[0m 5ms/step - loss: 3.7823e-04 - val_loss: 1.3122e-04\n",
      "Epoch 30/50\n",
      "\u001b[1m40/40\u001b[0m \u001b[32m━━━━━━━━━━━━━━━━━━━━\u001b[0m\u001b[37m\u001b[0m \u001b[1m1s\u001b[0m 9ms/step - loss: 3.8438e-04 - val_loss: 2.7601e-04\n",
      "Epoch 31/50\n",
      "\u001b[1m40/40\u001b[0m \u001b[32m━━━━━━━━━━━━━━━━━━━━\u001b[0m\u001b[37m\u001b[0m \u001b[1m0s\u001b[0m 9ms/step - loss: 4.2604e-04 - val_loss: 1.1846e-04\n",
      "Epoch 32/50\n",
      "\u001b[1m40/40\u001b[0m \u001b[32m━━━━━━━━━━━━━━━━━━━━\u001b[0m\u001b[37m\u001b[0m \u001b[1m0s\u001b[0m 8ms/step - loss: 3.2098e-04 - val_loss: 2.7488e-04\n",
      "Epoch 33/50\n",
      "\u001b[1m40/40\u001b[0m \u001b[32m━━━━━━━━━━━━━━━━━━━━\u001b[0m\u001b[37m\u001b[0m \u001b[1m0s\u001b[0m 6ms/step - loss: 3.7930e-04 - val_loss: 1.1904e-04\n",
      "Epoch 34/50\n",
      "\u001b[1m40/40\u001b[0m \u001b[32m━━━━━━━━━━━━━━━━━━━━\u001b[0m\u001b[37m\u001b[0m \u001b[1m0s\u001b[0m 6ms/step - loss: 3.3587e-04 - val_loss: 1.8484e-04\n",
      "Epoch 35/50\n",
      "\u001b[1m40/40\u001b[0m \u001b[32m━━━━━━━━━━━━━━━━━━━━\u001b[0m\u001b[37m\u001b[0m \u001b[1m0s\u001b[0m 8ms/step - loss: 3.5852e-04 - val_loss: 2.1810e-04\n",
      "Epoch 36/50\n",
      "\u001b[1m40/40\u001b[0m \u001b[32m━━━━━━━━━━━━━━━━━━━━\u001b[0m\u001b[37m\u001b[0m \u001b[1m0s\u001b[0m 7ms/step - loss: 4.7257e-04 - val_loss: 1.3721e-04\n",
      "Epoch 37/50\n",
      "\u001b[1m40/40\u001b[0m \u001b[32m━━━━━━━━━━━━━━━━━━━━\u001b[0m\u001b[37m\u001b[0m \u001b[1m0s\u001b[0m 6ms/step - loss: 3.4654e-04 - val_loss: 1.2623e-04\n",
      "Epoch 38/50\n",
      "\u001b[1m40/40\u001b[0m \u001b[32m━━━━━━━━━━━━━━━━━━━━\u001b[0m\u001b[37m\u001b[0m \u001b[1m0s\u001b[0m 7ms/step - loss: 2.8507e-04 - val_loss: 1.6638e-04\n",
      "Epoch 39/50\n",
      "\u001b[1m40/40\u001b[0m \u001b[32m━━━━━━━━━━━━━━━━━━━━\u001b[0m\u001b[37m\u001b[0m \u001b[1m0s\u001b[0m 9ms/step - loss: 2.9110e-04 - val_loss: 1.0915e-04\n",
      "Epoch 40/50\n",
      "\u001b[1m40/40\u001b[0m \u001b[32m━━━━━━━━━━━━━━━━━━━━\u001b[0m\u001b[37m\u001b[0m \u001b[1m0s\u001b[0m 8ms/step - loss: 3.8218e-04 - val_loss: 1.6639e-04\n",
      "Epoch 41/50\n",
      "\u001b[1m40/40\u001b[0m \u001b[32m━━━━━━━━━━━━━━━━━━━━\u001b[0m\u001b[37m\u001b[0m \u001b[1m0s\u001b[0m 8ms/step - loss: 4.9897e-04 - val_loss: 9.8596e-05\n",
      "Epoch 42/50\n",
      "\u001b[1m40/40\u001b[0m \u001b[32m━━━━━━━━━━━━━━━━━━━━\u001b[0m\u001b[37m\u001b[0m \u001b[1m0s\u001b[0m 6ms/step - loss: 3.6139e-04 - val_loss: 1.3544e-04\n",
      "Epoch 43/50\n",
      "\u001b[1m40/40\u001b[0m \u001b[32m━━━━━━━━━━━━━━━━━━━━\u001b[0m\u001b[37m\u001b[0m \u001b[1m0s\u001b[0m 7ms/step - loss: 3.2955e-04 - val_loss: 1.7819e-04\n",
      "Epoch 44/50\n",
      "\u001b[1m40/40\u001b[0m \u001b[32m━━━━━━━━━━━━━━━━━━━━\u001b[0m\u001b[37m\u001b[0m \u001b[1m0s\u001b[0m 5ms/step - loss: 5.0238e-04 - val_loss: 1.1813e-04\n",
      "Epoch 45/50\n",
      "\u001b[1m40/40\u001b[0m \u001b[32m━━━━━━━━━━━━━━━━━━━━\u001b[0m\u001b[37m\u001b[0m \u001b[1m0s\u001b[0m 5ms/step - loss: 3.9167e-04 - val_loss: 1.0202e-04\n",
      "Epoch 46/50\n",
      "\u001b[1m40/40\u001b[0m \u001b[32m━━━━━━━━━━━━━━━━━━━━\u001b[0m\u001b[37m\u001b[0m \u001b[1m0s\u001b[0m 5ms/step - loss: 3.3814e-04 - val_loss: 1.1795e-04\n",
      "Epoch 47/50\n",
      "\u001b[1m40/40\u001b[0m \u001b[32m━━━━━━━━━━━━━━━━━━━━\u001b[0m\u001b[37m\u001b[0m \u001b[1m0s\u001b[0m 5ms/step - loss: 3.6247e-04 - val_loss: 1.3108e-04\n",
      "Epoch 48/50\n",
      "\u001b[1m40/40\u001b[0m \u001b[32m━━━━━━━━━━━━━━━━━━━━\u001b[0m\u001b[37m\u001b[0m \u001b[1m0s\u001b[0m 5ms/step - loss: 3.2306e-04 - val_loss: 1.7425e-04\n",
      "Epoch 49/50\n",
      "\u001b[1m40/40\u001b[0m \u001b[32m━━━━━━━━━━━━━━━━━━━━\u001b[0m\u001b[37m\u001b[0m \u001b[1m0s\u001b[0m 5ms/step - loss: 3.4167e-04 - val_loss: 9.3054e-05\n",
      "Epoch 50/50\n",
      "\u001b[1m40/40\u001b[0m \u001b[32m━━━━━━━━━━━━━━━━━━━━\u001b[0m\u001b[37m\u001b[0m \u001b[1m0s\u001b[0m 5ms/step - loss: 3.4231e-04 - val_loss: 9.7170e-05\n"
     ]
    },
    {
     "data": {
      "text/plain": [
       "<keras.src.callbacks.history.History at 0x2011b183dc0>"
      ]
     },
     "execution_count": 39,
     "metadata": {},
     "output_type": "execute_result"
    }
   ],
   "source": [
    "optimizer = Adam(beta_1=0.9, beta_2=0.999, learning_rate=0.0005)\n",
    "model.compile(optimizer=optimizer, loss='mse')\n",
    "\n",
    "# Train the model\n",
    "model.fit(X_train, y_train, epochs=50, validation_data=(X_val, y_val))"
   ]
  },
  {
   "cell_type": "code",
   "execution_count": 40,
   "metadata": {},
   "outputs": [
    {
     "name": "stdout",
     "output_type": "stream",
     "text": [
      "\u001b[1m10/10\u001b[0m \u001b[32m━━━━━━━━━━━━━━━━━━━━\u001b[0m\u001b[37m\u001b[0m \u001b[1m0s\u001b[0m 24ms/step\n"
     ]
    }
   ],
   "source": [
    "# Making predictions of the test data\n",
    "predictions = model.predict(X_test)"
   ]
  },
  {
   "cell_type": "code",
   "execution_count": 41,
   "metadata": {},
   "outputs": [
    {
     "data": {
      "text/plain": [
       "(293, 1)"
      ]
     },
     "execution_count": 41,
     "metadata": {},
     "output_type": "execute_result"
    }
   ],
   "source": [
    "predictions.shape"
   ]
  },
  {
   "cell_type": "markdown",
   "metadata": {},
   "source": [
    "#### Evaluating the model"
   ]
  },
  {
   "cell_type": "code",
   "execution_count": 42,
   "metadata": {},
   "outputs": [
    {
     "name": "stdout",
     "output_type": "stream",
     "text": [
      "=================  Error Metrics  =================\n",
      "Mean Absolute Error:  0.0111\n",
      "---------------------------------------------------\n",
      "Mean Absolute Percentage Error:  0.021\n",
      "---------------------------------------------------\n",
      "Mean Squared Error:  0.0003\n",
      "---------------------------------------------------\n",
      "Root Mean Squared Error:  0.0171\n",
      "===================================================\n",
      "R^2:  0.9916\n",
      "===================================================\n"
     ]
    }
   ],
   "source": [
    "print(17*'=', ' Error Metrics ', 17*'=')\n",
    "print('Mean Absolute Error: ', mean_absolute_error(y_test, predictions).round(4))\n",
    "print(51*'-')\n",
    "print('Mean Absolute Percentage Error: ', mean_absolute_percentage_error(y_test, predictions).round(4))\n",
    "print(51*'-')\n",
    "print('Mean Squared Error: ', mean_squared_error(y_test, predictions).round(4))\n",
    "print(51*'-')\n",
    "print('Root Mean Squared Error: ', mean_squared_error(y_test, predictions, squared=False).round(4))\n",
    "print(51*'=')\n",
    "print('R^2: ', r2_score(y_test, predictions).round(4))\n",
    "print(51*'=')"
   ]
  },
  {
   "cell_type": "code",
   "execution_count": 43,
   "metadata": {},
   "outputs": [],
   "source": [
    "# Undoing the normalization of predictions and real valuess\n",
    "predictions = scaler.inverse_transform(predictions.reshape(-1, 1))\n",
    "y_test = scaler.inverse_transform(y_test.reshape(-1, 1))"
   ]
  },
  {
   "cell_type": "code",
   "execution_count": 44,
   "metadata": {},
   "outputs": [
    {
     "data": {
      "image/png": "[encoded data removed]",
      "text/plain": [
       "<Figure size 1080x504 with 1 Axes>"
      ]
     },
     "metadata": {},
     "output_type": "display_data"
    }
   ],
   "source": [
    "# Getting the dates corresponding to the test set\n",
    "test_dates = df.index[val_data+n:]\n",
    "\n",
    "# Plotting the comparison between the real values and predict values\n",
    "plt.figure(figsize=(15, 7))\n",
    "plt.plot(test_dates, y_test[:, -1], label='Real Value')\n",
    "plt.plot(test_dates, predictions[:, -1], label='Prediction')\n",
    "plt.xlabel('Date')\n",
    "plt.ylabel('Price (USD)')\n",
    "plt.title('Comparison between the Prediction vs. Real Value')\n",
    "plt.xticks(rotation=45)\n",
    "plt.legend()\n",
    "plt.tight_layout()\n",
    "plt.show()"
   ]
  },
  {
   "cell_type": "markdown",
   "metadata": {},
   "source": [
    "### Creating flexible code to apply to new data"
   ]
  },
  {
   "cell_type": "code",
   "execution_count": 45,
   "metadata": {},
   "outputs": [
    {
     "name": "stdout",
     "output_type": "stream",
     "text": [
      "[*********************100%***********************]  1 of 1 completed\n"
     ]
    },
    {
     "data": {
      "text/html": [
       "<div>\n",
       "<style scoped>\n",
       "    .dataframe tbody tr th:only-of-type {\n",
       "        vertical-align: middle;\n",
       "    }\n",
       "\n",
       "    .dataframe tbody tr th {\n",
       "        vertical-align: top;\n",
       "    }\n",
       "\n",
       "    .dataframe thead th {\n",
       "        text-align: right;\n",
       "    }\n",
       "</style>\n",
       "<table border=\"1\" class=\"dataframe\">\n",
       "  <thead>\n",
       "    <tr style=\"text-align: right;\">\n",
       "      <th></th>\n",
       "      <th>Open</th>\n",
       "      <th>High</th>\n",
       "      <th>Low</th>\n",
       "      <th>Close</th>\n",
       "      <th>Adj Close</th>\n",
       "      <th>Volume</th>\n",
       "    </tr>\n",
       "    <tr>\n",
       "      <th>Date</th>\n",
       "      <th></th>\n",
       "      <th></th>\n",
       "      <th></th>\n",
       "      <th></th>\n",
       "      <th></th>\n",
       "      <th></th>\n",
       "    </tr>\n",
       "  </thead>\n",
       "  <tbody>\n",
       "    <tr>\n",
       "      <th>2023-04-02</th>\n",
       "      <td>28462.845703</td>\n",
       "      <td>28518.958984</td>\n",
       "      <td>27884.087891</td>\n",
       "      <td>28199.308594</td>\n",
       "      <td>28199.308594</td>\n",
       "      <td>12284641999</td>\n",
       "    </tr>\n",
       "    <tr>\n",
       "      <th>2023-04-03</th>\n",
       "      <td>28183.080078</td>\n",
       "      <td>28475.623047</td>\n",
       "      <td>27276.720703</td>\n",
       "      <td>27790.220703</td>\n",
       "      <td>27790.220703</td>\n",
       "      <td>19556501327</td>\n",
       "    </tr>\n",
       "    <tr>\n",
       "      <th>2023-04-04</th>\n",
       "      <td>27795.273438</td>\n",
       "      <td>28433.742188</td>\n",
       "      <td>27681.304688</td>\n",
       "      <td>28168.089844</td>\n",
       "      <td>28168.089844</td>\n",
       "      <td>15284538859</td>\n",
       "    </tr>\n",
       "    <tr>\n",
       "      <th>2023-04-05</th>\n",
       "      <td>28169.726562</td>\n",
       "      <td>28739.238281</td>\n",
       "      <td>27843.763672</td>\n",
       "      <td>28177.984375</td>\n",
       "      <td>28177.984375</td>\n",
       "      <td>17052315986</td>\n",
       "    </tr>\n",
       "    <tr>\n",
       "      <th>2023-04-06</th>\n",
       "      <td>28175.226562</td>\n",
       "      <td>28178.384766</td>\n",
       "      <td>27738.759766</td>\n",
       "      <td>28044.140625</td>\n",
       "      <td>28044.140625</td>\n",
       "      <td>13837809380</td>\n",
       "    </tr>\n",
       "    <tr>\n",
       "      <th>...</th>\n",
       "      <td>...</td>\n",
       "      <td>...</td>\n",
       "      <td>...</td>\n",
       "      <td>...</td>\n",
       "      <td>...</td>\n",
       "      <td>...</td>\n",
       "    </tr>\n",
       "    <tr>\n",
       "      <th>2024-03-28</th>\n",
       "      <td>69452.773438</td>\n",
       "      <td>71546.023438</td>\n",
       "      <td>68895.507812</td>\n",
       "      <td>70744.953125</td>\n",
       "      <td>70744.953125</td>\n",
       "      <td>34374900617</td>\n",
       "    </tr>\n",
       "    <tr>\n",
       "      <th>2024-03-29</th>\n",
       "      <td>70744.796875</td>\n",
       "      <td>70913.093750</td>\n",
       "      <td>69076.656250</td>\n",
       "      <td>69892.828125</td>\n",
       "      <td>69892.828125</td>\n",
       "      <td>25230851763</td>\n",
       "    </tr>\n",
       "    <tr>\n",
       "      <th>2024-03-30</th>\n",
       "      <td>69893.445312</td>\n",
       "      <td>70355.492188</td>\n",
       "      <td>69601.062500</td>\n",
       "      <td>69645.304688</td>\n",
       "      <td>69645.304688</td>\n",
       "      <td>17130241883</td>\n",
       "    </tr>\n",
       "    <tr>\n",
       "      <th>2024-03-31</th>\n",
       "      <td>69647.781250</td>\n",
       "      <td>71377.781250</td>\n",
       "      <td>69624.867188</td>\n",
       "      <td>71333.648438</td>\n",
       "      <td>71333.648438</td>\n",
       "      <td>20050941373</td>\n",
       "    </tr>\n",
       "    <tr>\n",
       "      <th>2024-04-01</th>\n",
       "      <td>71312.171875</td>\n",
       "      <td>71312.171875</td>\n",
       "      <td>68245.320312</td>\n",
       "      <td>69508.718750</td>\n",
       "      <td>69508.718750</td>\n",
       "      <td>33601800192</td>\n",
       "    </tr>\n",
       "  </tbody>\n",
       "</table>\n",
       "<p>366 rows × 6 columns</p>\n",
       "</div>"
      ],
      "text/plain": [
       "                    Open          High           Low         Close  \\\n",
       "Date                                                                 \n",
       "2023-04-02  28462.845703  28518.958984  27884.087891  28199.308594   \n",
       "2023-04-03  28183.080078  28475.623047  27276.720703  27790.220703   \n",
       "2023-04-04  27795.273438  28433.742188  27681.304688  28168.089844   \n",
       "2023-04-05  28169.726562  28739.238281  27843.763672  28177.984375   \n",
       "2023-04-06  28175.226562  28178.384766  27738.759766  28044.140625   \n",
       "...                  ...           ...           ...           ...   \n",
       "2024-03-28  69452.773438  71546.023438  68895.507812  70744.953125   \n",
       "2024-03-29  70744.796875  70913.093750  69076.656250  69892.828125   \n",
       "2024-03-30  69893.445312  70355.492188  69601.062500  69645.304688   \n",
       "2024-03-31  69647.781250  71377.781250  69624.867188  71333.648438   \n",
       "2024-04-01  71312.171875  71312.171875  68245.320312  69508.718750   \n",
       "\n",
       "               Adj Close       Volume  \n",
       "Date                                   \n",
       "2023-04-02  28199.308594  12284641999  \n",
       "2023-04-03  27790.220703  19556501327  \n",
       "2023-04-04  28168.089844  15284538859  \n",
       "2023-04-05  28177.984375  17052315986  \n",
       "2023-04-06  28044.140625  13837809380  \n",
       "...                  ...          ...  \n",
       "2024-03-28  70744.953125  34374900617  \n",
       "2024-03-29  69892.828125  25230851763  \n",
       "2024-03-30  69645.304688  17130241883  \n",
       "2024-03-31  71333.648438  20050941373  \n",
       "2024-04-01  69508.718750  33601800192  \n",
       "\n",
       "[366 rows x 6 columns]"
      ]
     },
     "execution_count": 45,
     "metadata": {},
     "output_type": "execute_result"
    }
   ],
   "source": [
    "import yfinance as yf\n",
    "\n",
    "# Informations to change and then just run all the code\n",
    "ticker = 'BTC-USD' # Company where the data will be collected\n",
    "ndays = 365 # Number of days to pull the historical data\n",
    "ndays_to_predict = 1 # Number of days to make a prediction\n",
    "\n",
    "# ---------------------------------------------------------------------------------\n",
    "\n",
    "def get_data():\n",
    "    # Obtaining data from Yahoo Finance\n",
    "    data = yf.download(ticker, start=pd.Timestamp.now() - pd.Timedelta(days=ndays), end=pd.Timestamp.now())\n",
    "    \n",
    "    return data\n",
    "\n",
    "# Loading the chosen data\n",
    "data = get_data()\n",
    "\n",
    "data"
   ]
  },
  {
   "cell_type": "code",
   "execution_count": 46,
   "metadata": {},
   "outputs": [],
   "source": [
    "data = generate_technical_indicators(data)\n",
    "\n",
    "data.fillna(0, inplace=True)"
   ]
  },
  {
   "cell_type": "code",
   "execution_count": 47,
   "metadata": {},
   "outputs": [
    {
     "data": {
      "text/html": [
       "<div>\n",
       "<style scoped>\n",
       "    .dataframe tbody tr th:only-of-type {\n",
       "        vertical-align: middle;\n",
       "    }\n",
       "\n",
       "    .dataframe tbody tr th {\n",
       "        vertical-align: top;\n",
       "    }\n",
       "\n",
       "    .dataframe thead th {\n",
       "        text-align: right;\n",
       "    }\n",
       "</style>\n",
       "<table border=\"1\" class=\"dataframe\">\n",
       "  <thead>\n",
       "    <tr style=\"text-align: right;\">\n",
       "      <th></th>\n",
       "      <th>upperband</th>\n",
       "      <th>middleband</th>\n",
       "      <th>lowerband</th>\n",
       "      <th>ema</th>\n",
       "      <th>sma</th>\n",
       "      <th>tema</th>\n",
       "      <th>wma</th>\n",
       "      <th>adx</th>\n",
       "      <th>adxr</th>\n",
       "      <th>cci</th>\n",
       "      <th>...</th>\n",
       "      <th>roc</th>\n",
       "      <th>rsi</th>\n",
       "      <th>slowk</th>\n",
       "      <th>slowd</th>\n",
       "      <th>willr</th>\n",
       "      <th>adosc</th>\n",
       "      <th>obv</th>\n",
       "      <th>atr</th>\n",
       "      <th>trange</th>\n",
       "      <th>Close</th>\n",
       "    </tr>\n",
       "    <tr>\n",
       "      <th>Date</th>\n",
       "      <th></th>\n",
       "      <th></th>\n",
       "      <th></th>\n",
       "      <th></th>\n",
       "      <th></th>\n",
       "      <th></th>\n",
       "      <th></th>\n",
       "      <th></th>\n",
       "      <th></th>\n",
       "      <th></th>\n",
       "      <th></th>\n",
       "      <th></th>\n",
       "      <th></th>\n",
       "      <th></th>\n",
       "      <th></th>\n",
       "      <th></th>\n",
       "      <th></th>\n",
       "      <th></th>\n",
       "      <th></th>\n",
       "      <th></th>\n",
       "      <th></th>\n",
       "    </tr>\n",
       "  </thead>\n",
       "  <tbody>\n",
       "    <tr>\n",
       "      <th>2023-04-02</th>\n",
       "      <td>0.000000</td>\n",
       "      <td>0.000000</td>\n",
       "      <td>0.000000</td>\n",
       "      <td>0.000000</td>\n",
       "      <td>0.000000</td>\n",
       "      <td>0.000000</td>\n",
       "      <td>0.000000</td>\n",
       "      <td>0.000000</td>\n",
       "      <td>0.000000</td>\n",
       "      <td>0.000000</td>\n",
       "      <td>...</td>\n",
       "      <td>0.000000</td>\n",
       "      <td>0.000000</td>\n",
       "      <td>0.000000</td>\n",
       "      <td>0.000000</td>\n",
       "      <td>0.000000</td>\n",
       "      <td>0.000000e+00</td>\n",
       "      <td>1.228464e+10</td>\n",
       "      <td>0.000000</td>\n",
       "      <td>0.000000</td>\n",
       "      <td>28199.308594</td>\n",
       "    </tr>\n",
       "    <tr>\n",
       "      <th>2023-04-03</th>\n",
       "      <td>0.000000</td>\n",
       "      <td>0.000000</td>\n",
       "      <td>0.000000</td>\n",
       "      <td>0.000000</td>\n",
       "      <td>0.000000</td>\n",
       "      <td>0.000000</td>\n",
       "      <td>0.000000</td>\n",
       "      <td>0.000000</td>\n",
       "      <td>0.000000</td>\n",
       "      <td>0.000000</td>\n",
       "      <td>...</td>\n",
       "      <td>0.000000</td>\n",
       "      <td>0.000000</td>\n",
       "      <td>0.000000</td>\n",
       "      <td>0.000000</td>\n",
       "      <td>0.000000</td>\n",
       "      <td>0.000000e+00</td>\n",
       "      <td>-7.271859e+09</td>\n",
       "      <td>0.000000</td>\n",
       "      <td>1198.902344</td>\n",
       "      <td>27790.220703</td>\n",
       "    </tr>\n",
       "    <tr>\n",
       "      <th>2023-04-04</th>\n",
       "      <td>0.000000</td>\n",
       "      <td>0.000000</td>\n",
       "      <td>0.000000</td>\n",
       "      <td>0.000000</td>\n",
       "      <td>0.000000</td>\n",
       "      <td>0.000000</td>\n",
       "      <td>0.000000</td>\n",
       "      <td>0.000000</td>\n",
       "      <td>0.000000</td>\n",
       "      <td>0.000000</td>\n",
       "      <td>...</td>\n",
       "      <td>0.000000</td>\n",
       "      <td>0.000000</td>\n",
       "      <td>0.000000</td>\n",
       "      <td>0.000000</td>\n",
       "      <td>0.000000</td>\n",
       "      <td>0.000000e+00</td>\n",
       "      <td>8.012680e+09</td>\n",
       "      <td>0.000000</td>\n",
       "      <td>752.437500</td>\n",
       "      <td>28168.089844</td>\n",
       "    </tr>\n",
       "    <tr>\n",
       "      <th>2023-04-05</th>\n",
       "      <td>0.000000</td>\n",
       "      <td>0.000000</td>\n",
       "      <td>0.000000</td>\n",
       "      <td>0.000000</td>\n",
       "      <td>0.000000</td>\n",
       "      <td>0.000000</td>\n",
       "      <td>0.000000</td>\n",
       "      <td>0.000000</td>\n",
       "      <td>0.000000</td>\n",
       "      <td>0.000000</td>\n",
       "      <td>...</td>\n",
       "      <td>0.000000</td>\n",
       "      <td>0.000000</td>\n",
       "      <td>0.000000</td>\n",
       "      <td>0.000000</td>\n",
       "      <td>0.000000</td>\n",
       "      <td>0.000000e+00</td>\n",
       "      <td>2.506500e+10</td>\n",
       "      <td>0.000000</td>\n",
       "      <td>895.474609</td>\n",
       "      <td>28177.984375</td>\n",
       "    </tr>\n",
       "    <tr>\n",
       "      <th>2023-04-06</th>\n",
       "      <td>28381.590677</td>\n",
       "      <td>28075.948828</td>\n",
       "      <td>27770.306979</td>\n",
       "      <td>0.000000</td>\n",
       "      <td>0.000000</td>\n",
       "      <td>0.000000</td>\n",
       "      <td>0.000000</td>\n",
       "      <td>0.000000</td>\n",
       "      <td>0.000000</td>\n",
       "      <td>0.000000</td>\n",
       "      <td>...</td>\n",
       "      <td>0.000000</td>\n",
       "      <td>0.000000</td>\n",
       "      <td>0.000000</td>\n",
       "      <td>0.000000</td>\n",
       "      <td>0.000000</td>\n",
       "      <td>0.000000e+00</td>\n",
       "      <td>1.122719e+10</td>\n",
       "      <td>0.000000</td>\n",
       "      <td>439.625000</td>\n",
       "      <td>28044.140625</td>\n",
       "    </tr>\n",
       "    <tr>\n",
       "      <th>...</th>\n",
       "      <td>...</td>\n",
       "      <td>...</td>\n",
       "      <td>...</td>\n",
       "      <td>...</td>\n",
       "      <td>...</td>\n",
       "      <td>...</td>\n",
       "      <td>...</td>\n",
       "      <td>...</td>\n",
       "      <td>...</td>\n",
       "      <td>...</td>\n",
       "      <td>...</td>\n",
       "      <td>...</td>\n",
       "      <td>...</td>\n",
       "      <td>...</td>\n",
       "      <td>...</td>\n",
       "      <td>...</td>\n",
       "      <td>...</td>\n",
       "      <td>...</td>\n",
       "      <td>...</td>\n",
       "      <td>...</td>\n",
       "      <td>...</td>\n",
       "    </tr>\n",
       "    <tr>\n",
       "      <th>2024-03-28</th>\n",
       "      <td>71864.787147</td>\n",
       "      <td>69476.223437</td>\n",
       "      <td>67087.659728</td>\n",
       "      <td>68338.362947</td>\n",
       "      <td>67053.991797</td>\n",
       "      <td>69846.922567</td>\n",
       "      <td>68276.497869</td>\n",
       "      <td>31.775692</td>\n",
       "      <td>34.062767</td>\n",
       "      <td>96.658700</td>\n",
       "      <td>...</td>\n",
       "      <td>4.731941</td>\n",
       "      <td>60.154962</td>\n",
       "      <td>63.686409</td>\n",
       "      <td>51.121436</td>\n",
       "      <td>-8.999480</td>\n",
       "      <td>3.086639e+09</td>\n",
       "      <td>6.077415e+11</td>\n",
       "      <td>3799.016247</td>\n",
       "      <td>2650.515625</td>\n",
       "      <td>70744.953125</td>\n",
       "    </tr>\n",
       "    <tr>\n",
       "      <th>2024-03-29</th>\n",
       "      <td>70839.637026</td>\n",
       "      <td>70007.954687</td>\n",
       "      <td>69176.272349</td>\n",
       "      <td>68620.992980</td>\n",
       "      <td>67851.997266</td>\n",
       "      <td>70113.401984</td>\n",
       "      <td>68792.649929</td>\n",
       "      <td>26.918492</td>\n",
       "      <td>32.236169</td>\n",
       "      <td>67.403310</td>\n",
       "      <td>...</td>\n",
       "      <td>12.889189</td>\n",
       "      <td>57.363544</td>\n",
       "      <td>69.884762</td>\n",
       "      <td>52.708826</td>\n",
       "      <td>-16.802892</td>\n",
       "      <td>2.634848e+09</td>\n",
       "      <td>5.825107e+11</td>\n",
       "      <td>3602.758372</td>\n",
       "      <td>1836.437500</td>\n",
       "      <td>69892.828125</td>\n",
       "    </tr>\n",
       "    <tr>\n",
       "      <th>2024-03-30</th>\n",
       "      <td>70828.004291</td>\n",
       "      <td>69945.253125</td>\n",
       "      <td>69062.501959</td>\n",
       "      <td>68807.231472</td>\n",
       "      <td>68025.160547</td>\n",
       "      <td>70138.144836</td>\n",
       "      <td>69118.705824</td>\n",
       "      <td>23.032732</td>\n",
       "      <td>30.551980</td>\n",
       "      <td>53.877702</td>\n",
       "      <td>...</td>\n",
       "      <td>2.549756</td>\n",
       "      <td>56.517089</td>\n",
       "      <td>65.969200</td>\n",
       "      <td>53.988525</td>\n",
       "      <td>-22.218443</td>\n",
       "      <td>-6.234677e+07</td>\n",
       "      <td>5.653804e+11</td>\n",
       "      <td>3317.925504</td>\n",
       "      <td>754.429688</td>\n",
       "      <td>69645.304688</td>\n",
       "    </tr>\n",
       "    <tr>\n",
       "      <th>2024-03-31</th>\n",
       "      <td>71639.237865</td>\n",
       "      <td>70214.415625</td>\n",
       "      <td>68789.593385</td>\n",
       "      <td>69266.580011</td>\n",
       "      <td>68609.386328</td>\n",
       "      <td>70879.371896</td>\n",
       "      <td>69720.249077</td>\n",
       "      <td>24.874584</td>\n",
       "      <td>30.013430</td>\n",
       "      <td>70.424462</td>\n",
       "      <td>...</td>\n",
       "      <td>8.920650</td>\n",
       "      <td>60.890788</td>\n",
       "      <td>69.001629</td>\n",
       "      <td>55.891469</td>\n",
       "      <td>-4.204287</td>\n",
       "      <td>1.355281e+09</td>\n",
       "      <td>5.854314e+11</td>\n",
       "      <td>3161.424359</td>\n",
       "      <td>1752.914062</td>\n",
       "      <td>71333.648438</td>\n",
       "    </tr>\n",
       "    <tr>\n",
       "      <th>2024-04-01</th>\n",
       "      <td>71627.630096</td>\n",
       "      <td>70225.090625</td>\n",
       "      <td>68822.551154</td>\n",
       "      <td>69310.605236</td>\n",
       "      <td>69182.382031</td>\n",
       "      <td>70509.273731</td>\n",
       "      <td>69883.764063</td>\n",
       "      <td>21.676160</td>\n",
       "      <td>29.293212</td>\n",
       "      <td>27.830918</td>\n",
       "      <td>...</td>\n",
       "      <td>8.984115</td>\n",
       "      <td>54.327888</td>\n",
       "      <td>69.156592</td>\n",
       "      <td>58.235787</td>\n",
       "      <td>-25.537103</td>\n",
       "      <td>1.149866e+09</td>\n",
       "      <td>5.518296e+11</td>\n",
       "      <td>3154.114736</td>\n",
       "      <td>3088.328125</td>\n",
       "      <td>69508.718750</td>\n",
       "    </tr>\n",
       "  </tbody>\n",
       "</table>\n",
       "<p>366 rows × 24 columns</p>\n",
       "</div>"
      ],
      "text/plain": [
       "               upperband    middleband     lowerband           ema  \\\n",
       "Date                                                                 \n",
       "2023-04-02      0.000000      0.000000      0.000000      0.000000   \n",
       "2023-04-03      0.000000      0.000000      0.000000      0.000000   \n",
       "2023-04-04      0.000000      0.000000      0.000000      0.000000   \n",
       "2023-04-05      0.000000      0.000000      0.000000      0.000000   \n",
       "2023-04-06  28381.590677  28075.948828  27770.306979      0.000000   \n",
       "...                  ...           ...           ...           ...   \n",
       "2024-03-28  71864.787147  69476.223437  67087.659728  68338.362947   \n",
       "2024-03-29  70839.637026  70007.954687  69176.272349  68620.992980   \n",
       "2024-03-30  70828.004291  69945.253125  69062.501959  68807.231472   \n",
       "2024-03-31  71639.237865  70214.415625  68789.593385  69266.580011   \n",
       "2024-04-01  71627.630096  70225.090625  68822.551154  69310.605236   \n",
       "\n",
       "                     sma          tema           wma        adx       adxr  \\\n",
       "Date                                                                         \n",
       "2023-04-02      0.000000      0.000000      0.000000   0.000000   0.000000   \n",
       "2023-04-03      0.000000      0.000000      0.000000   0.000000   0.000000   \n",
       "2023-04-04      0.000000      0.000000      0.000000   0.000000   0.000000   \n",
       "2023-04-05      0.000000      0.000000      0.000000   0.000000   0.000000   \n",
       "2023-04-06      0.000000      0.000000      0.000000   0.000000   0.000000   \n",
       "...                  ...           ...           ...        ...        ...   \n",
       "2024-03-28  67053.991797  69846.922567  68276.497869  31.775692  34.062767   \n",
       "2024-03-29  67851.997266  70113.401984  68792.649929  26.918492  32.236169   \n",
       "2024-03-30  68025.160547  70138.144836  69118.705824  23.032732  30.551980   \n",
       "2024-03-31  68609.386328  70879.371896  69720.249077  24.874584  30.013430   \n",
       "2024-04-01  69182.382031  70509.273731  69883.764063  21.676160  29.293212   \n",
       "\n",
       "                  cci  ...        roc        rsi      slowk      slowd  \\\n",
       "Date                   ...                                               \n",
       "2023-04-02   0.000000  ...   0.000000   0.000000   0.000000   0.000000   \n",
       "2023-04-03   0.000000  ...   0.000000   0.000000   0.000000   0.000000   \n",
       "2023-04-04   0.000000  ...   0.000000   0.000000   0.000000   0.000000   \n",
       "2023-04-05   0.000000  ...   0.000000   0.000000   0.000000   0.000000   \n",
       "2023-04-06   0.000000  ...   0.000000   0.000000   0.000000   0.000000   \n",
       "...               ...  ...        ...        ...        ...        ...   \n",
       "2024-03-28  96.658700  ...   4.731941  60.154962  63.686409  51.121436   \n",
       "2024-03-29  67.403310  ...  12.889189  57.363544  69.884762  52.708826   \n",
       "2024-03-30  53.877702  ...   2.549756  56.517089  65.969200  53.988525   \n",
       "2024-03-31  70.424462  ...   8.920650  60.890788  69.001629  55.891469   \n",
       "2024-04-01  27.830918  ...   8.984115  54.327888  69.156592  58.235787   \n",
       "\n",
       "                willr         adosc           obv          atr       trange  \\\n",
       "Date                                                                          \n",
       "2023-04-02   0.000000  0.000000e+00  1.228464e+10     0.000000     0.000000   \n",
       "2023-04-03   0.000000  0.000000e+00 -7.271859e+09     0.000000  1198.902344   \n",
       "2023-04-04   0.000000  0.000000e+00  8.012680e+09     0.000000   752.437500   \n",
       "2023-04-05   0.000000  0.000000e+00  2.506500e+10     0.000000   895.474609   \n",
       "2023-04-06   0.000000  0.000000e+00  1.122719e+10     0.000000   439.625000   \n",
       "...               ...           ...           ...          ...          ...   \n",
       "2024-03-28  -8.999480  3.086639e+09  6.077415e+11  3799.016247  2650.515625   \n",
       "2024-03-29 -16.802892  2.634848e+09  5.825107e+11  3602.758372  1836.437500   \n",
       "2024-03-30 -22.218443 -6.234677e+07  5.653804e+11  3317.925504   754.429688   \n",
       "2024-03-31  -4.204287  1.355281e+09  5.854314e+11  3161.424359  1752.914062   \n",
       "2024-04-01 -25.537103  1.149866e+09  5.518296e+11  3154.114736  3088.328125   \n",
       "\n",
       "                   Close  \n",
       "Date                      \n",
       "2023-04-02  28199.308594  \n",
       "2023-04-03  27790.220703  \n",
       "2023-04-04  28168.089844  \n",
       "2023-04-05  28177.984375  \n",
       "2023-04-06  28044.140625  \n",
       "...                  ...  \n",
       "2024-03-28  70744.953125  \n",
       "2024-03-29  69892.828125  \n",
       "2024-03-30  69645.304688  \n",
       "2024-03-31  71333.648438  \n",
       "2024-04-01  69508.718750  \n",
       "\n",
       "[366 rows x 24 columns]"
      ]
     },
     "execution_count": 47,
     "metadata": {},
     "output_type": "execute_result"
    }
   ],
   "source": [
    "data"
   ]
  },
  {
   "cell_type": "code",
   "execution_count": 48,
   "metadata": {},
   "outputs": [],
   "source": [
    "# Creating a MinMaxScaler and Normalization function\n",
    "scaler = MinMaxScaler(feature_range=(0, 1))\n",
    "\n",
    "def normalization_data(dataset, ndays_to_predict=1):\n",
    "\n",
    "    n = 2 # Timesteps fixed to build the model\n",
    "    \n",
    "    scaled_data = dataset.iloc[-n-ndays_to_predict:, :].copy()\n",
    "\n",
    "    for column in scaled_data.columns:\n",
    "    \n",
    "        column_data = scaled_data[[column]]\n",
    "        \n",
    "        scaled_column = scaler.fit_transform(column_data)\n",
    "        \n",
    "        scaled_data[column] = scaled_column.flatten()\n",
    "\n",
    "    scaled_data = scaled_data.values\n",
    "\n",
    "    return scaled_data"
   ]
  },
  {
   "cell_type": "code",
   "execution_count": 49,
   "metadata": {},
   "outputs": [
    {
     "data": {
      "text/plain": [
       "(3, 24)"
      ]
     },
     "execution_count": 49,
     "metadata": {},
     "output_type": "execute_result"
    }
   ],
   "source": [
    "scaled_data = normalization_data(data, ndays_to_predict)\n",
    "scaled_data.shape"
   ]
  },
  {
   "cell_type": "code",
   "execution_count": 50,
   "metadata": {},
   "outputs": [
    {
     "data": {
      "text/plain": [
       "(1, 2, 24)"
      ]
     },
     "execution_count": 50,
     "metadata": {},
     "output_type": "execute_result"
    }
   ],
   "source": [
    "# Preparing the data for the model\n",
    "n = 2  # Number of days before the model tries to predict the next price value\n",
    "def prepare_data(data, n_steps):\n",
    "    X = []\n",
    "    for i in range(n_steps, len(data)):\n",
    "        row = [r for r in data[(i - n_steps) + 1:i + 1]]\n",
    "        X.append(row)\n",
    "    return np.array(X)\n",
    "\n",
    "X = prepare_data(scaled_data, n)\n",
    "X.shape"
   ]
  },
  {
   "cell_type": "code",
   "execution_count": 51,
   "metadata": {},
   "outputs": [
    {
     "name": "stdout",
     "output_type": "stream",
     "text": [
      "\u001b[1m1/1\u001b[0m \u001b[32m━━━━━━━━━━━━━━━━━━━━\u001b[0m\u001b[37m\u001b[0m \u001b[1m0s\u001b[0m 33ms/step\n"
     ]
    }
   ],
   "source": [
    "predictions = model.predict(X)"
   ]
  },
  {
   "cell_type": "code",
   "execution_count": 52,
   "metadata": {},
   "outputs": [
    {
     "data": {
      "text/plain": [
       "array([[70478.]], dtype=float32)"
      ]
     },
     "execution_count": 52,
     "metadata": {},
     "output_type": "execute_result"
    }
   ],
   "source": [
    "predictions = scaler.inverse_transform(predictions.reshape(-1, 1))\n",
    "predictions"
   ]
  },
  {
   "cell_type": "code",
   "execution_count": 53,
   "metadata": {},
   "outputs": [],
   "source": [
    "def plot_predictions(dataset, predictions, ndays_to_predict):\n",
    "    # Criar um índice para os próximos 14 dias\n",
    "    next_n_days = pd.date_range(start=dataset.index[-1] + pd.Timedelta(days=1), periods=ndays_to_predict)\n",
    "\n",
    "    # # Criar uma série temporal para os valores reais e previstos\n",
    "    real_values = dataset['Close'][-ndays_to_predict-5:]\n",
    "    # predictions = np.reshape(predictions, -1)\n",
    "    predicted_values = pd.Series(predictions.flatten(), index=next_n_days)\n",
    "\n",
    "    last_value = real_values.iloc[-1]\n",
    "    predicted_values = pd.concat([pd.Series([last_value], index=[predicted_values.index[0] - pd.Timedelta(days=1)]), predicted_values])\n",
    "\n",
    "    # Plotar os valores reais e previstos\n",
    "    plt.figure(figsize=(17, 8))\n",
    "    plt.plot(real_values.index, real_values.values, label='Real Values')\n",
    "    plt.plot(predicted_values.index, predicted_values.values, label='Predicted Value', marker='o')\n",
    "\n",
    "    plt.xlabel('Date')\n",
    "    plt.xticks(rotation=45)\n",
    "    plt.ylabel('Price of the ' + ticker)\n",
    "    plt.title('Prediction of the ' + ticker + ' for the next ' + str(ndays_to_predict) + ' days')\n",
    "    plt.legend()\n",
    "    plt.show()"
   ]
  },
  {
   "cell_type": "code",
   "execution_count": 54,
   "metadata": {},
   "outputs": [
    {
     "data": {
      "image/png": "[encoded data removed]",
      "text/plain": [
       "<Figure size 1224x576 with 1 Axes>"
      ]
     },
     "metadata": {},
     "output_type": "display_data"
    }
   ],
   "source": [
    "plot_predictions(data, predictions, ndays_to_predict)"
   ]
  }
 ],
 "metadata": {
  "kernelspec": {
   "display_name": "MyEnv",
   "language": "python",
   "name": "python3"
  },
  "language_info": {
   "codemirror_mode": {
    "name": "ipython",
    "version": 3
   },
   "file_extension": ".py",
   "mimetype": "text/x-python",
   "name": "python",
   "nbconvert_exporter": "python",
   "pygments_lexer": "ipython3",
   "version": "3.10.4"
  }
 },
 "nbformat": 4,
 "nbformat_minor": 2
}
