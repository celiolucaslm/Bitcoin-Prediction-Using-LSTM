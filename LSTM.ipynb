{
 "cells": [
  {
   "cell_type": "code",
   "execution_count": 1,
   "metadata": {},
   "outputs": [],
   "source": [
    "import pandas as pd\n",
    "import yfinance as yf\n",
    "import numpy as np\n",
    "import matplotlib.pyplot as plt\n",
    "import talib as ta\n",
    "from sklearn.preprocessing import MinMaxScaler\n",
    "from sklearn.metrics import *\n",
    "\n",
    "from keras.models import Sequential\n",
    "from keras.layers import Dense\n",
    "from keras.layers import LSTM\n",
    "from keras.optimizers import Adam"
   ]
  },
  {
   "cell_type": "markdown",
   "metadata": {},
   "source": [
    "### Data Cleaning and Exploratory Analysis"
   ]
  },
  {
   "cell_type": "code",
   "execution_count": 2,
   "metadata": {},
   "outputs": [
    {
     "name": "stdout",
     "output_type": "stream",
     "text": [
      "[*********************100%***********************]  1 of 1 completed\n"
     ]
    },
    {
     "data": {
      "text/html": [
       "<div>\n",
       "<style scoped>\n",
       "    .dataframe tbody tr th:only-of-type {\n",
       "        vertical-align: middle;\n",
       "    }\n",
       "\n",
       "    .dataframe tbody tr th {\n",
       "        vertical-align: top;\n",
       "    }\n",
       "\n",
       "    .dataframe thead th {\n",
       "        text-align: right;\n",
       "    }\n",
       "</style>\n",
       "<table border=\"1\" class=\"dataframe\">\n",
       "  <thead>\n",
       "    <tr style=\"text-align: right;\">\n",
       "      <th></th>\n",
       "      <th>Open</th>\n",
       "      <th>High</th>\n",
       "      <th>Low</th>\n",
       "      <th>Close</th>\n",
       "      <th>Adj Close</th>\n",
       "      <th>Volume</th>\n",
       "    </tr>\n",
       "    <tr>\n",
       "      <th>Date</th>\n",
       "      <th></th>\n",
       "      <th></th>\n",
       "      <th></th>\n",
       "      <th></th>\n",
       "      <th></th>\n",
       "      <th></th>\n",
       "    </tr>\n",
       "  </thead>\n",
       "  <tbody>\n",
       "    <tr>\n",
       "      <th>2014-09-17</th>\n",
       "      <td>465.864014</td>\n",
       "      <td>468.174011</td>\n",
       "      <td>452.421997</td>\n",
       "      <td>457.334015</td>\n",
       "      <td>457.334015</td>\n",
       "      <td>21056800</td>\n",
       "    </tr>\n",
       "    <tr>\n",
       "      <th>2014-09-18</th>\n",
       "      <td>456.859985</td>\n",
       "      <td>456.859985</td>\n",
       "      <td>413.104004</td>\n",
       "      <td>424.440002</td>\n",
       "      <td>424.440002</td>\n",
       "      <td>34483200</td>\n",
       "    </tr>\n",
       "    <tr>\n",
       "      <th>2014-09-19</th>\n",
       "      <td>424.102997</td>\n",
       "      <td>427.834991</td>\n",
       "      <td>384.532013</td>\n",
       "      <td>394.795990</td>\n",
       "      <td>394.795990</td>\n",
       "      <td>37919700</td>\n",
       "    </tr>\n",
       "    <tr>\n",
       "      <th>2014-09-20</th>\n",
       "      <td>394.673004</td>\n",
       "      <td>423.295990</td>\n",
       "      <td>389.882996</td>\n",
       "      <td>408.903992</td>\n",
       "      <td>408.903992</td>\n",
       "      <td>36863600</td>\n",
       "    </tr>\n",
       "    <tr>\n",
       "      <th>2014-09-21</th>\n",
       "      <td>408.084991</td>\n",
       "      <td>412.425995</td>\n",
       "      <td>393.181000</td>\n",
       "      <td>398.821014</td>\n",
       "      <td>398.821014</td>\n",
       "      <td>26580100</td>\n",
       "    </tr>\n",
       "  </tbody>\n",
       "</table>\n",
       "</div>"
      ],
      "text/plain": [
       "                  Open        High         Low       Close   Adj Close  \\\n",
       "Date                                                                     \n",
       "2014-09-17  465.864014  468.174011  452.421997  457.334015  457.334015   \n",
       "2014-09-18  456.859985  456.859985  413.104004  424.440002  424.440002   \n",
       "2014-09-19  424.102997  427.834991  384.532013  394.795990  394.795990   \n",
       "2014-09-20  394.673004  423.295990  389.882996  408.903992  408.903992   \n",
       "2014-09-21  408.084991  412.425995  393.181000  398.821014  398.821014   \n",
       "\n",
       "              Volume  \n",
       "Date                  \n",
       "2014-09-17  21056800  \n",
       "2014-09-18  34483200  \n",
       "2014-09-19  37919700  \n",
       "2014-09-20  36863600  \n",
       "2014-09-21  26580100  "
      ]
     },
     "execution_count": 2,
     "metadata": {},
     "output_type": "execute_result"
    }
   ],
   "source": [
    "# Obtaining data from Yahoo Finance\n",
    "df = yf.download('BTC-USD')\n",
    "df.head()"
   ]
  },
  {
   "cell_type": "code",
   "execution_count": 3,
   "metadata": {},
   "outputs": [
    {
     "data": {
      "text/plain": [
       "(3508, 6)"
      ]
     },
     "execution_count": 3,
     "metadata": {},
     "output_type": "execute_result"
    }
   ],
   "source": [
    "df.shape"
   ]
  },
  {
   "cell_type": "code",
   "execution_count": 4,
   "metadata": {},
   "outputs": [
    {
     "data": {
      "text/plain": [
       "Open         float64\n",
       "High         float64\n",
       "Low          float64\n",
       "Close        float64\n",
       "Adj Close    float64\n",
       "Volume         int64\n",
       "dtype: object"
      ]
     },
     "execution_count": 4,
     "metadata": {},
     "output_type": "execute_result"
    }
   ],
   "source": [
    "df.dtypes"
   ]
  },
  {
   "cell_type": "code",
   "execution_count": 5,
   "metadata": {},
   "outputs": [],
   "source": [
    "# Selecting the data from the last 5 years\n",
    "actual_date = df.index[-1]\n",
    "last_5_years = actual_date  - pd.DateOffset(years=5)\n",
    "df = df[df.index >= last_5_years]"
   ]
  },
  {
   "cell_type": "code",
   "execution_count": 6,
   "metadata": {},
   "outputs": [
    {
     "name": "stdout",
     "output_type": "stream",
     "text": [
      "The column Open has no NaN values\n",
      "The column High has no NaN values\n",
      "The column Low has no NaN values\n",
      "The column Close has no NaN values\n",
      "The column Adj Close has no NaN values\n",
      "The column Volume has no NaN values\n"
     ]
    }
   ],
   "source": [
    "# Checking if there are NaN values in the DataFrame for each column\n",
    "df_columns = ['Open', 'High', 'Low', 'Close', 'Adj Close','Volume']\n",
    "\n",
    "for column in df_columns:\n",
    "    has_nan = df[column].isna().any()\n",
    "    if has_nan:\n",
    "        print(\"The column\", column, \"has NaN values\")\n",
    "    else:\n",
    "        print(\"The column\", column, \"has no NaN values\")"
   ]
  },
  {
   "cell_type": "code",
   "execution_count": 7,
   "metadata": {},
   "outputs": [
    {
     "data": {
      "image/png": "[encoded data removed]",
      "text/plain": [
       "<Figure size 1080x504 with 1 Axes>"
      ]
     },
     "metadata": {
      "needs_background": "light"
     },
     "output_type": "display_data"
    }
   ],
   "source": [
    "plt.figure(figsize=(15, 7))\n",
    "plt.plot(df.index, df['Close'])\n",
    "\n",
    "plt.xlabel('Date')\n",
    "plt.ylabel('Bitcoin Price (USD)')\n",
    "plt.title('Bictoin Price x Date')\n",
    "\n",
    "plt.xticks(rotation=45)\n",
    "\n",
    "plt.show()"
   ]
  },
  {
   "cell_type": "code",
   "execution_count": 8,
   "metadata": {},
   "outputs": [
    {
     "data": {
      "image/png": "[encoded data removed]",
      "text/plain": [
       "<Figure size 792x360 with 1 Axes>"
      ]
     },
     "metadata": {
      "needs_background": "light"
     },
     "output_type": "display_data"
    }
   ],
   "source": [
    "# Checking for the presence of outliers in the data\n",
    "plt.figure(figsize=(11, 5))\n",
    "df.iloc[:, :-2].boxplot()\n",
    "plt.title('Boxplot of the columns')\n",
    "plt.ylabel('Values')\n",
    "plt.show()"
   ]
  },
  {
   "cell_type": "code",
   "execution_count": 9,
   "metadata": {},
   "outputs": [
    {
     "data": {
      "image/png": "[encoded data removed]",
      "text/plain": [
       "<Figure size 1440x1080 with 6 Axes>"
      ]
     },
     "metadata": {
      "needs_background": "light"
     },
     "output_type": "display_data"
    }
   ],
   "source": [
    "# Plotting the distributions of the DataFrame columns\n",
    "df.iloc[:, 1:].hist(figsize=(20, 15), bins=20)\n",
    "\n",
    "plt.show()"
   ]
  },
  {
   "cell_type": "code",
   "execution_count": 10,
   "metadata": {},
   "outputs": [
    {
     "data": {
      "text/html": [
       "<div>\n",
       "<style scoped>\n",
       "    .dataframe tbody tr th:only-of-type {\n",
       "        vertical-align: middle;\n",
       "    }\n",
       "\n",
       "    .dataframe tbody tr th {\n",
       "        vertical-align: top;\n",
       "    }\n",
       "\n",
       "    .dataframe thead th {\n",
       "        text-align: right;\n",
       "    }\n",
       "</style>\n",
       "<table border=\"1\" class=\"dataframe\">\n",
       "  <thead>\n",
       "    <tr style=\"text-align: right;\">\n",
       "      <th></th>\n",
       "      <th>Open</th>\n",
       "      <th>High</th>\n",
       "      <th>Low</th>\n",
       "      <th>Close</th>\n",
       "      <th>Adj Close</th>\n",
       "      <th>Volume</th>\n",
       "    </tr>\n",
       "  </thead>\n",
       "  <tbody>\n",
       "    <tr>\n",
       "      <th>count</th>\n",
       "      <td>1828.000000</td>\n",
       "      <td>1828.000000</td>\n",
       "      <td>1828.000000</td>\n",
       "      <td>1828.000000</td>\n",
       "      <td>1828.000000</td>\n",
       "      <td>1.828000e+03</td>\n",
       "    </tr>\n",
       "    <tr>\n",
       "      <th>mean</th>\n",
       "      <td>27826.210803</td>\n",
       "      <td>28462.414601</td>\n",
       "      <td>27149.968760</td>\n",
       "      <td>27857.097227</td>\n",
       "      <td>27857.097227</td>\n",
       "      <td>3.061818e+10</td>\n",
       "    </tr>\n",
       "    <tr>\n",
       "      <th>std</th>\n",
       "      <td>17087.292580</td>\n",
       "      <td>17520.976606</td>\n",
       "      <td>16595.279545</td>\n",
       "      <td>17099.387463</td>\n",
       "      <td>17099.387463</td>\n",
       "      <td>1.789614e+10</td>\n",
       "    </tr>\n",
       "    <tr>\n",
       "      <th>min</th>\n",
       "      <td>5002.578125</td>\n",
       "      <td>5310.750000</td>\n",
       "      <td>4106.980957</td>\n",
       "      <td>4970.788086</td>\n",
       "      <td>4970.788086</td>\n",
       "      <td>5.331173e+09</td>\n",
       "    </tr>\n",
       "    <tr>\n",
       "      <th>25%</th>\n",
       "      <td>10797.553955</td>\n",
       "      <td>11028.482910</td>\n",
       "      <td>10602.549316</td>\n",
       "      <td>10813.285889</td>\n",
       "      <td>10813.285889</td>\n",
       "      <td>1.870893e+10</td>\n",
       "    </tr>\n",
       "    <tr>\n",
       "      <th>50%</th>\n",
       "      <td>26093.238281</td>\n",
       "      <td>26436.723633</td>\n",
       "      <td>25767.108398</td>\n",
       "      <td>26101.177734</td>\n",
       "      <td>26101.177734</td>\n",
       "      <td>2.683698e+10</td>\n",
       "    </tr>\n",
       "    <tr>\n",
       "      <th>75%</th>\n",
       "      <td>40683.366211</td>\n",
       "      <td>41895.105469</td>\n",
       "      <td>39625.075195</td>\n",
       "      <td>40786.456055</td>\n",
       "      <td>40786.456055</td>\n",
       "      <td>3.774678e+10</td>\n",
       "    </tr>\n",
       "    <tr>\n",
       "      <th>max</th>\n",
       "      <td>73079.375000</td>\n",
       "      <td>73750.070312</td>\n",
       "      <td>71334.093750</td>\n",
       "      <td>73083.500000</td>\n",
       "      <td>73083.500000</td>\n",
       "      <td>3.509679e+11</td>\n",
       "    </tr>\n",
       "  </tbody>\n",
       "</table>\n",
       "</div>"
      ],
      "text/plain": [
       "               Open          High           Low         Close     Adj Close  \\\n",
       "count   1828.000000   1828.000000   1828.000000   1828.000000   1828.000000   \n",
       "mean   27826.210803  28462.414601  27149.968760  27857.097227  27857.097227   \n",
       "std    17087.292580  17520.976606  16595.279545  17099.387463  17099.387463   \n",
       "min     5002.578125   5310.750000   4106.980957   4970.788086   4970.788086   \n",
       "25%    10797.553955  11028.482910  10602.549316  10813.285889  10813.285889   \n",
       "50%    26093.238281  26436.723633  25767.108398  26101.177734  26101.177734   \n",
       "75%    40683.366211  41895.105469  39625.075195  40786.456055  40786.456055   \n",
       "max    73079.375000  73750.070312  71334.093750  73083.500000  73083.500000   \n",
       "\n",
       "             Volume  \n",
       "count  1.828000e+03  \n",
       "mean   3.061818e+10  \n",
       "std    1.789614e+10  \n",
       "min    5.331173e+09  \n",
       "25%    1.870893e+10  \n",
       "50%    2.683698e+10  \n",
       "75%    3.774678e+10  \n",
       "max    3.509679e+11  "
      ]
     },
     "execution_count": 10,
     "metadata": {},
     "output_type": "execute_result"
    }
   ],
   "source": [
    "# Basic statistics of the DataFrame\n",
    "df.describe()"
   ]
  },
  {
   "cell_type": "markdown",
   "metadata": {},
   "source": [
    "### Generating the Technical Indicators for the model"
   ]
  },
  {
   "cell_type": "markdown",
   "metadata": {},
   "source": [
    "##### Overlap Functions"
   ]
  },
  {
   "cell_type": "code",
   "execution_count": 11,
   "metadata": {},
   "outputs": [],
   "source": [
    "upperband, middleband, lowerband = ta.BBANDS(df['Close'], timeperiod=5, nbdevup=2, nbdevdn=2, matype=0)"
   ]
  },
  {
   "cell_type": "code",
   "execution_count": 12,
   "metadata": {},
   "outputs": [],
   "source": [
    "ema = ta.EMA(df['Close'], timeperiod=10)"
   ]
  },
  {
   "cell_type": "code",
   "execution_count": 13,
   "metadata": {},
   "outputs": [],
   "source": [
    "sma = ta.SMA(df['Close'], timeperiod=10)"
   ]
  },
  {
   "cell_type": "code",
   "execution_count": 14,
   "metadata": {},
   "outputs": [],
   "source": [
    "tema = ta.TEMA(df['Close'], timeperiod=10)"
   ]
  },
  {
   "cell_type": "code",
   "execution_count": 15,
   "metadata": {},
   "outputs": [],
   "source": [
    "wma = ta.WMA(df['Close'], timeperiod=10)"
   ]
  },
  {
   "cell_type": "markdown",
   "metadata": {},
   "source": [
    "##### Momentum Functions"
   ]
  },
  {
   "cell_type": "code",
   "execution_count": 16,
   "metadata": {},
   "outputs": [],
   "source": [
    "adx = ta.ADX(df['High'], df['Low'], df['Close'], timeperiod=5)"
   ]
  },
  {
   "cell_type": "code",
   "execution_count": 17,
   "metadata": {},
   "outputs": [],
   "source": [
    "adxr = ta.ADXR(df['High'], df['Low'], df['Close'], timeperiod=10)"
   ]
  },
  {
   "cell_type": "code",
   "execution_count": 18,
   "metadata": {},
   "outputs": [],
   "source": [
    "cci = ta.CCI(df['High'], df['Low'], df['Close'], timeperiod=10)"
   ]
  },
  {
   "cell_type": "code",
   "execution_count": 19,
   "metadata": {},
   "outputs": [],
   "source": [
    "macd, macdsignal, macdhist = ta.MACD(df['Close'], fastperiod=5, slowperiod=10, signalperiod=5)"
   ]
  },
  {
   "cell_type": "code",
   "execution_count": 20,
   "metadata": {},
   "outputs": [],
   "source": [
    "mom = ta.MOM(df['Close'], timeperiod=10)"
   ]
  },
  {
   "cell_type": "code",
   "execution_count": 21,
   "metadata": {},
   "outputs": [],
   "source": [
    "roc = ta.ROC(df['Close'], timeperiod=10)"
   ]
  },
  {
   "cell_type": "code",
   "execution_count": 22,
   "metadata": {},
   "outputs": [],
   "source": [
    "rsi = ta.RSI(df['Close'], timeperiod=10)"
   ]
  },
  {
   "cell_type": "code",
   "execution_count": 23,
   "metadata": {},
   "outputs": [],
   "source": [
    "slowk, slowd = ta.STOCH(df['High'], df['Low'], df['Close'], fastk_period=5, slowk_period=10, slowk_matype=0, slowd_period=10, slowd_matype=0)"
   ]
  },
  {
   "cell_type": "code",
   "execution_count": 24,
   "metadata": {},
   "outputs": [],
   "source": [
    "willr = ta.WILLR(df['High'], df['Low'], df['Close'], timeperiod=10)"
   ]
  },
  {
   "cell_type": "markdown",
   "metadata": {},
   "source": [
    "##### Volume Functions"
   ]
  },
  {
   "cell_type": "code",
   "execution_count": 25,
   "metadata": {},
   "outputs": [],
   "source": [
    "adosc = ta.ADOSC(df['High'], df['Low'], df['Close'], df['Volume'], fastperiod=5, slowperiod=10)"
   ]
  },
  {
   "cell_type": "code",
   "execution_count": 26,
   "metadata": {},
   "outputs": [],
   "source": [
    "obv = ta.OBV(df['Close'], df['Volume'])"
   ]
  },
  {
   "cell_type": "markdown",
   "metadata": {},
   "source": [
    "##### Volatility Functions"
   ]
  },
  {
   "cell_type": "code",
   "execution_count": 27,
   "metadata": {},
   "outputs": [],
   "source": [
    "atr = ta.ATR(df['High'], df['Low'], df['Close'], timeperiod=10)"
   ]
  },
  {
   "cell_type": "code",
   "execution_count": 28,
   "metadata": {},
   "outputs": [],
   "source": [
    "trange = ta.TRANGE(df['High'], df['Low'], df['Close'])"
   ]
  },
  {
   "cell_type": "code",
   "execution_count": 29,
   "metadata": {},
   "outputs": [],
   "source": [
    "# Function to create the technical indicators\n",
    "def generate_technical_indicators(dataset):\n",
    "    dataset['upperband'], dataset['middleband'], dataset['lowerband'] = ta.BBANDS(dataset['Close'], timeperiod=5, nbdevup=2, nbdevdn=2, matype=0)\n",
    "    dataset['ema'] = ta.EMA(dataset['Close'], timeperiod=10)\n",
    "    dataset['sma'] = ta.SMA(dataset['Close'], timeperiod=10)\n",
    "    dataset['tema'] = ta.TEMA(dataset['Close'], timeperiod=10)\n",
    "    dataset['wma'] = ta.WMA(dataset['Close'], timeperiod=10)\n",
    "    dataset['adx'] = ta.ADX(dataset['High'], dataset['Low'], dataset['Close'], timeperiod=5)\n",
    "    dataset['adxr'] = ta.ADXR(dataset['High'], dataset['Low'], dataset['Close'], timeperiod=10)\n",
    "    dataset['cci'] = ta.CCI(dataset['High'], dataset['Low'], dataset['Close'], timeperiod=10)\n",
    "    dataset['macd'], dataset['macdsignal'], dataset['macdhist'] = ta.MACD(dataset['Close'], fastperiod=5, slowperiod=10, signalperiod=5)\n",
    "    dataset['mom'] = ta.MOM(dataset['Close'], timeperiod=10)\n",
    "    dataset['roc'] = ta.ROC(dataset['Close'], timeperiod=10)\n",
    "    dataset['rsi'] = ta.RSI(dataset['Close'], timeperiod=10)\n",
    "    dataset['slowk'], dataset['slowd'] = ta.STOCH(dataset['High'], dataset['Low'], dataset['Close'], fastk_period=5, slowk_period=10, slowk_matype=0, slowd_period=10, slowd_matype=0)\n",
    "    dataset['willr'] = ta.WILLR(dataset['High'], dataset['Low'], dataset['Close'], timeperiod=10)\n",
    "    dataset['adosc'] = ta.ADOSC(dataset['High'], dataset['Low'], dataset['Close'], dataset['Volume'], fastperiod=5, slowperiod=10)\n",
    "    dataset['obv'] = ta.OBV(dataset['Close'], dataset['Volume'])\n",
    "    dataset['atr'] = ta.ATR(dataset['High'], dataset['Low'], dataset['Close'], timeperiod=10)\n",
    "    dataset['trange'] = ta.TRANGE(dataset['High'], dataset['Low'], dataset['Close'])\n",
    "\n",
    "    dataset = dataset.drop(['Open', 'High', 'Low', 'Adj Close', 'Volume'], axis=1)\n",
    "\n",
    "    # Formatting the data to match the model's training format\n",
    "    close_column = dataset.pop('Close')\n",
    "    dataset['Close'] = close_column\n",
    "\n",
    "    return dataset"
   ]
  },
  {
   "cell_type": "markdown",
   "metadata": {},
   "source": [
    "### Implementing the Deep Learning model"
   ]
  },
  {
   "cell_type": "code",
   "execution_count": 30,
   "metadata": {},
   "outputs": [],
   "source": [
    "import warnings\n",
    "\n",
    "with warnings.catch_warnings():\n",
    "    warnings.simplefilter(\"ignore\")\n",
    "\n",
    "    df = generate_technical_indicators(df)"
   ]
  },
  {
   "cell_type": "code",
   "execution_count": 31,
   "metadata": {},
   "outputs": [
    {
     "data": {
      "text/html": [
       "<div>\n",
       "<style scoped>\n",
       "    .dataframe tbody tr th:only-of-type {\n",
       "        vertical-align: middle;\n",
       "    }\n",
       "\n",
       "    .dataframe tbody tr th {\n",
       "        vertical-align: top;\n",
       "    }\n",
       "\n",
       "    .dataframe thead th {\n",
       "        text-align: right;\n",
       "    }\n",
       "</style>\n",
       "<table border=\"1\" class=\"dataframe\">\n",
       "  <thead>\n",
       "    <tr style=\"text-align: right;\">\n",
       "      <th></th>\n",
       "      <th>upperband</th>\n",
       "      <th>middleband</th>\n",
       "      <th>lowerband</th>\n",
       "      <th>ema</th>\n",
       "      <th>sma</th>\n",
       "      <th>tema</th>\n",
       "      <th>wma</th>\n",
       "      <th>adx</th>\n",
       "      <th>adxr</th>\n",
       "      <th>cci</th>\n",
       "      <th>...</th>\n",
       "      <th>roc</th>\n",
       "      <th>rsi</th>\n",
       "      <th>slowk</th>\n",
       "      <th>slowd</th>\n",
       "      <th>willr</th>\n",
       "      <th>adosc</th>\n",
       "      <th>obv</th>\n",
       "      <th>atr</th>\n",
       "      <th>trange</th>\n",
       "      <th>Close</th>\n",
       "    </tr>\n",
       "    <tr>\n",
       "      <th>Date</th>\n",
       "      <th></th>\n",
       "      <th></th>\n",
       "      <th></th>\n",
       "      <th></th>\n",
       "      <th></th>\n",
       "      <th></th>\n",
       "      <th></th>\n",
       "      <th></th>\n",
       "      <th></th>\n",
       "      <th></th>\n",
       "      <th></th>\n",
       "      <th></th>\n",
       "      <th></th>\n",
       "      <th></th>\n",
       "      <th></th>\n",
       "      <th></th>\n",
       "      <th></th>\n",
       "      <th></th>\n",
       "      <th></th>\n",
       "      <th></th>\n",
       "      <th></th>\n",
       "    </tr>\n",
       "  </thead>\n",
       "  <tbody>\n",
       "    <tr>\n",
       "      <th>2019-04-24</th>\n",
       "      <td>NaN</td>\n",
       "      <td>NaN</td>\n",
       "      <td>NaN</td>\n",
       "      <td>NaN</td>\n",
       "      <td>NaN</td>\n",
       "      <td>NaN</td>\n",
       "      <td>NaN</td>\n",
       "      <td>NaN</td>\n",
       "      <td>NaN</td>\n",
       "      <td>NaN</td>\n",
       "      <td>...</td>\n",
       "      <td>NaN</td>\n",
       "      <td>NaN</td>\n",
       "      <td>NaN</td>\n",
       "      <td>NaN</td>\n",
       "      <td>NaN</td>\n",
       "      <td>NaN</td>\n",
       "      <td>1.704803e+10</td>\n",
       "      <td>NaN</td>\n",
       "      <td>NaN</td>\n",
       "      <td>5464.866699</td>\n",
       "    </tr>\n",
       "    <tr>\n",
       "      <th>2019-04-25</th>\n",
       "      <td>NaN</td>\n",
       "      <td>NaN</td>\n",
       "      <td>NaN</td>\n",
       "      <td>NaN</td>\n",
       "      <td>NaN</td>\n",
       "      <td>NaN</td>\n",
       "      <td>NaN</td>\n",
       "      <td>NaN</td>\n",
       "      <td>NaN</td>\n",
       "      <td>NaN</td>\n",
       "      <td>...</td>\n",
       "      <td>NaN</td>\n",
       "      <td>NaN</td>\n",
       "      <td>NaN</td>\n",
       "      <td>NaN</td>\n",
       "      <td>NaN</td>\n",
       "      <td>NaN</td>\n",
       "      <td>1.717750e+09</td>\n",
       "      <td>NaN</td>\n",
       "      <td>360.899414</td>\n",
       "      <td>5210.515625</td>\n",
       "    </tr>\n",
       "    <tr>\n",
       "      <th>2019-04-26</th>\n",
       "      <td>NaN</td>\n",
       "      <td>NaN</td>\n",
       "      <td>NaN</td>\n",
       "      <td>NaN</td>\n",
       "      <td>NaN</td>\n",
       "      <td>NaN</td>\n",
       "      <td>NaN</td>\n",
       "      <td>NaN</td>\n",
       "      <td>NaN</td>\n",
       "      <td>NaN</td>\n",
       "      <td>...</td>\n",
       "      <td>NaN</td>\n",
       "      <td>NaN</td>\n",
       "      <td>NaN</td>\n",
       "      <td>NaN</td>\n",
       "      <td>NaN</td>\n",
       "      <td>NaN</td>\n",
       "      <td>1.852986e+10</td>\n",
       "      <td>NaN</td>\n",
       "      <td>206.265625</td>\n",
       "      <td>5279.348145</td>\n",
       "    </tr>\n",
       "    <tr>\n",
       "      <th>2019-04-27</th>\n",
       "      <td>NaN</td>\n",
       "      <td>NaN</td>\n",
       "      <td>NaN</td>\n",
       "      <td>NaN</td>\n",
       "      <td>NaN</td>\n",
       "      <td>NaN</td>\n",
       "      <td>NaN</td>\n",
       "      <td>NaN</td>\n",
       "      <td>NaN</td>\n",
       "      <td>NaN</td>\n",
       "      <td>...</td>\n",
       "      <td>NaN</td>\n",
       "      <td>NaN</td>\n",
       "      <td>NaN</td>\n",
       "      <td>NaN</td>\n",
       "      <td>NaN</td>\n",
       "      <td>NaN</td>\n",
       "      <td>5.418583e+09</td>\n",
       "      <td>NaN</td>\n",
       "      <td>77.114258</td>\n",
       "      <td>5268.291016</td>\n",
       "    </tr>\n",
       "    <tr>\n",
       "      <th>2019-04-28</th>\n",
       "      <td>5473.278197</td>\n",
       "      <td>5301.632129</td>\n",
       "      <td>5129.986060</td>\n",
       "      <td>NaN</td>\n",
       "      <td>NaN</td>\n",
       "      <td>NaN</td>\n",
       "      <td>NaN</td>\n",
       "      <td>NaN</td>\n",
       "      <td>NaN</td>\n",
       "      <td>NaN</td>\n",
       "      <td>...</td>\n",
       "      <td>NaN</td>\n",
       "      <td>NaN</td>\n",
       "      <td>NaN</td>\n",
       "      <td>NaN</td>\n",
       "      <td>NaN</td>\n",
       "      <td>NaN</td>\n",
       "      <td>1.823858e+10</td>\n",
       "      <td>NaN</td>\n",
       "      <td>70.548340</td>\n",
       "      <td>5285.139160</td>\n",
       "    </tr>\n",
       "    <tr>\n",
       "      <th>...</th>\n",
       "      <td>...</td>\n",
       "      <td>...</td>\n",
       "      <td>...</td>\n",
       "      <td>...</td>\n",
       "      <td>...</td>\n",
       "      <td>...</td>\n",
       "      <td>...</td>\n",
       "      <td>...</td>\n",
       "      <td>...</td>\n",
       "      <td>...</td>\n",
       "      <td>...</td>\n",
       "      <td>...</td>\n",
       "      <td>...</td>\n",
       "      <td>...</td>\n",
       "      <td>...</td>\n",
       "      <td>...</td>\n",
       "      <td>...</td>\n",
       "      <td>...</td>\n",
       "      <td>...</td>\n",
       "      <td>...</td>\n",
       "      <td>...</td>\n",
       "    </tr>\n",
       "    <tr>\n",
       "      <th>2024-04-20</th>\n",
       "      <td>65919.518930</td>\n",
       "      <td>63487.864062</td>\n",
       "      <td>61056.209195</td>\n",
       "      <td>64876.645542</td>\n",
       "      <td>64768.220703</td>\n",
       "      <td>63187.370842</td>\n",
       "      <td>64008.169460</td>\n",
       "      <td>42.744867</td>\n",
       "      <td>21.902715</td>\n",
       "      <td>-5.049588</td>\n",
       "      <td>...</td>\n",
       "      <td>-7.924082</td>\n",
       "      <td>46.990416</td>\n",
       "      <td>42.163335</td>\n",
       "      <td>48.438781</td>\n",
       "      <td>-53.958443</td>\n",
       "      <td>1.670105e+10</td>\n",
       "      <td>1.353540e+12</td>\n",
       "      <td>3755.632220</td>\n",
       "      <td>2270.054688</td>\n",
       "      <td>64994.441406</td>\n",
       "    </tr>\n",
       "    <tr>\n",
       "      <th>2024-04-21</th>\n",
       "      <td>66410.116227</td>\n",
       "      <td>63710.820312</td>\n",
       "      <td>61011.524398</td>\n",
       "      <td>64885.736267</td>\n",
       "      <td>64254.824219</td>\n",
       "      <td>63729.809141</td>\n",
       "      <td>64036.973793</td>\n",
       "      <td>37.954329</td>\n",
       "      <td>22.246179</td>\n",
       "      <td>49.857924</td>\n",
       "      <td>...</td>\n",
       "      <td>-7.327891</td>\n",
       "      <td>46.779166</td>\n",
       "      <td>45.945116</td>\n",
       "      <td>47.547238</td>\n",
       "      <td>-54.411083</td>\n",
       "      <td>1.730615e+10</td>\n",
       "      <td>1.333034e+12</td>\n",
       "      <td>3524.620951</td>\n",
       "      <td>1445.519531</td>\n",
       "      <td>64926.644531</td>\n",
       "    </tr>\n",
       "    <tr>\n",
       "      <th>2024-04-22</th>\n",
       "      <td>67151.123795</td>\n",
       "      <td>64823.017969</td>\n",
       "      <td>62494.912142</td>\n",
       "      <td>65240.635071</td>\n",
       "      <td>64219.005469</td>\n",
       "      <td>64995.732318</td>\n",
       "      <td>64506.583878</td>\n",
       "      <td>33.949932</td>\n",
       "      <td>22.686676</td>\n",
       "      <td>151.376167</td>\n",
       "      <td>...</td>\n",
       "      <td>-0.533050</td>\n",
       "      <td>53.347799</td>\n",
       "      <td>52.820759</td>\n",
       "      <td>47.209777</td>\n",
       "      <td>-13.209479</td>\n",
       "      <td>1.960805e+10</td>\n",
       "      <td>1.361316e+12</td>\n",
       "      <td>3440.736981</td>\n",
       "      <td>2685.781250</td>\n",
       "      <td>66837.679688</td>\n",
       "    </tr>\n",
       "    <tr>\n",
       "      <th>2024-04-23</th>\n",
       "      <td>67573.100493</td>\n",
       "      <td>65401.921875</td>\n",
       "      <td>63230.743257</td>\n",
       "      <td>65452.751137</td>\n",
       "      <td>64477.585547</td>\n",
       "      <td>65666.194426</td>\n",
       "      <td>64904.450781</td>\n",
       "      <td>30.746415</td>\n",
       "      <td>23.083123</td>\n",
       "      <td>131.113623</td>\n",
       "      <td>...</td>\n",
       "      <td>4.051616</td>\n",
       "      <td>51.749468</td>\n",
       "      <td>59.048945</td>\n",
       "      <td>47.435387</td>\n",
       "      <td>-10.902471</td>\n",
       "      <td>1.898635e+10</td>\n",
       "      <td>1.337005e+12</td>\n",
       "      <td>3230.100783</td>\n",
       "      <td>1334.375000</td>\n",
       "      <td>66407.273438</td>\n",
       "    </tr>\n",
       "    <tr>\n",
       "      <th>2024-04-24</th>\n",
       "      <td>67395.826505</td>\n",
       "      <td>65859.648438</td>\n",
       "      <td>64323.470370</td>\n",
       "      <td>65576.287862</td>\n",
       "      <td>64516.933203</td>\n",
       "      <td>65989.285398</td>\n",
       "      <td>65205.290341</td>\n",
       "      <td>28.183601</td>\n",
       "      <td>22.919984</td>\n",
       "      <td>100.645689</td>\n",
       "      <td>...</td>\n",
       "      <td>0.598546</td>\n",
       "      <td>50.671426</td>\n",
       "      <td>61.673860</td>\n",
       "      <td>48.036449</td>\n",
       "      <td>-14.530136</td>\n",
       "      <td>1.445740e+10</td>\n",
       "      <td>1.312601e+12</td>\n",
       "      <td>3008.255548</td>\n",
       "      <td>1011.648438</td>\n",
       "      <td>66132.203125</td>\n",
       "    </tr>\n",
       "  </tbody>\n",
       "</table>\n",
       "<p>1828 rows × 24 columns</p>\n",
       "</div>"
      ],
      "text/plain": [
       "               upperband    middleband     lowerband           ema  \\\n",
       "Date                                                                 \n",
       "2019-04-24           NaN           NaN           NaN           NaN   \n",
       "2019-04-25           NaN           NaN           NaN           NaN   \n",
       "2019-04-26           NaN           NaN           NaN           NaN   \n",
       "2019-04-27           NaN           NaN           NaN           NaN   \n",
       "2019-04-28   5473.278197   5301.632129   5129.986060           NaN   \n",
       "...                  ...           ...           ...           ...   \n",
       "2024-04-20  65919.518930  63487.864062  61056.209195  64876.645542   \n",
       "2024-04-21  66410.116227  63710.820312  61011.524398  64885.736267   \n",
       "2024-04-22  67151.123795  64823.017969  62494.912142  65240.635071   \n",
       "2024-04-23  67573.100493  65401.921875  63230.743257  65452.751137   \n",
       "2024-04-24  67395.826505  65859.648438  64323.470370  65576.287862   \n",
       "\n",
       "                     sma          tema           wma        adx       adxr  \\\n",
       "Date                                                                         \n",
       "2019-04-24           NaN           NaN           NaN        NaN        NaN   \n",
       "2019-04-25           NaN           NaN           NaN        NaN        NaN   \n",
       "2019-04-26           NaN           NaN           NaN        NaN        NaN   \n",
       "2019-04-27           NaN           NaN           NaN        NaN        NaN   \n",
       "2019-04-28           NaN           NaN           NaN        NaN        NaN   \n",
       "...                  ...           ...           ...        ...        ...   \n",
       "2024-04-20  64768.220703  63187.370842  64008.169460  42.744867  21.902715   \n",
       "2024-04-21  64254.824219  63729.809141  64036.973793  37.954329  22.246179   \n",
       "2024-04-22  64219.005469  64995.732318  64506.583878  33.949932  22.686676   \n",
       "2024-04-23  64477.585547  65666.194426  64904.450781  30.746415  23.083123   \n",
       "2024-04-24  64516.933203  65989.285398  65205.290341  28.183601  22.919984   \n",
       "\n",
       "                   cci  ...       roc        rsi      slowk      slowd  \\\n",
       "Date                    ...                                              \n",
       "2019-04-24         NaN  ...       NaN        NaN        NaN        NaN   \n",
       "2019-04-25         NaN  ...       NaN        NaN        NaN        NaN   \n",
       "2019-04-26         NaN  ...       NaN        NaN        NaN        NaN   \n",
       "2019-04-27         NaN  ...       NaN        NaN        NaN        NaN   \n",
       "2019-04-28         NaN  ...       NaN        NaN        NaN        NaN   \n",
       "...                ...  ...       ...        ...        ...        ...   \n",
       "2024-04-20   -5.049588  ... -7.924082  46.990416  42.163335  48.438781   \n",
       "2024-04-21   49.857924  ... -7.327891  46.779166  45.945116  47.547238   \n",
       "2024-04-22  151.376167  ... -0.533050  53.347799  52.820759  47.209777   \n",
       "2024-04-23  131.113623  ...  4.051616  51.749468  59.048945  47.435387   \n",
       "2024-04-24  100.645689  ...  0.598546  50.671426  61.673860  48.036449   \n",
       "\n",
       "                willr         adosc           obv          atr       trange  \\\n",
       "Date                                                                          \n",
       "2019-04-24        NaN           NaN  1.704803e+10          NaN          NaN   \n",
       "2019-04-25        NaN           NaN  1.717750e+09          NaN   360.899414   \n",
       "2019-04-26        NaN           NaN  1.852986e+10          NaN   206.265625   \n",
       "2019-04-27        NaN           NaN  5.418583e+09          NaN    77.114258   \n",
       "2019-04-28        NaN           NaN  1.823858e+10          NaN    70.548340   \n",
       "...               ...           ...           ...          ...          ...   \n",
       "2024-04-20 -53.958443  1.670105e+10  1.353540e+12  3755.632220  2270.054688   \n",
       "2024-04-21 -54.411083  1.730615e+10  1.333034e+12  3524.620951  1445.519531   \n",
       "2024-04-22 -13.209479  1.960805e+10  1.361316e+12  3440.736981  2685.781250   \n",
       "2024-04-23 -10.902471  1.898635e+10  1.337005e+12  3230.100783  1334.375000   \n",
       "2024-04-24 -14.530136  1.445740e+10  1.312601e+12  3008.255548  1011.648438   \n",
       "\n",
       "                   Close  \n",
       "Date                      \n",
       "2019-04-24   5464.866699  \n",
       "2019-04-25   5210.515625  \n",
       "2019-04-26   5279.348145  \n",
       "2019-04-27   5268.291016  \n",
       "2019-04-28   5285.139160  \n",
       "...                  ...  \n",
       "2024-04-20  64994.441406  \n",
       "2024-04-21  64926.644531  \n",
       "2024-04-22  66837.679688  \n",
       "2024-04-23  66407.273438  \n",
       "2024-04-24  66132.203125  \n",
       "\n",
       "[1828 rows x 24 columns]"
      ]
     },
     "execution_count": 31,
     "metadata": {},
     "output_type": "execute_result"
    }
   ],
   "source": [
    "df"
   ]
  },
  {
   "cell_type": "code",
   "execution_count": 32,
   "metadata": {},
   "outputs": [],
   "source": [
    "# Replacing NaN values with zero in the DataFrame\n",
    "df.fillna(0, inplace=True)"
   ]
  },
  {
   "cell_type": "code",
   "execution_count": 33,
   "metadata": {},
   "outputs": [
    {
     "data": {
      "text/plain": [
       "upperband     False\n",
       "middleband    False\n",
       "lowerband     False\n",
       "ema           False\n",
       "sma           False\n",
       "tema          False\n",
       "wma           False\n",
       "adx           False\n",
       "adxr          False\n",
       "cci           False\n",
       "macd          False\n",
       "macdsignal    False\n",
       "macdhist      False\n",
       "mom           False\n",
       "roc           False\n",
       "rsi           False\n",
       "slowk         False\n",
       "slowd         False\n",
       "willr         False\n",
       "adosc         False\n",
       "obv           False\n",
       "atr           False\n",
       "trange        False\n",
       "Close         False\n",
       "dtype: bool"
      ]
     },
     "execution_count": 33,
     "metadata": {},
     "output_type": "execute_result"
    }
   ],
   "source": [
    "df.isna().any()"
   ]
  },
  {
   "cell_type": "code",
   "execution_count": 34,
   "metadata": {},
   "outputs": [
    {
     "data": {
      "text/plain": [
       "<matplotlib.legend.Legend at 0x20ee4ae8c10>"
      ]
     },
     "execution_count": 34,
     "metadata": {},
     "output_type": "execute_result"
    },
    {
     "data": {
      "image/png": "[encoded data removed]",
      "text/plain": [
       "<Figure size 1224x504 with 1 Axes>"
      ]
     },
     "metadata": {
      "needs_background": "dark"
     },
     "output_type": "display_data"
    }
   ],
   "source": [
    "# Plotting the train data, validation data and test data of the model\n",
    "dates = df.index\n",
    "train_data = int(len(dates) * .7)\n",
    "val_data = int((train_data * .2) + train_data) # 20% of the train data\n",
    "\n",
    "dates_train, y_train = dates[:train_data], df.iloc[:train_data, -1]\n",
    "dates_val, y_val = dates[train_data:val_data], df.iloc[train_data:val_data, -1]\n",
    "dates_test, y_test = dates[val_data:], df.iloc[val_data:, -1]\n",
    "\n",
    "plt.figure(figsize=(17, 7))\n",
    "plt.style.use('dark_background')\n",
    "plt.plot(dates_train, y_train)\n",
    "plt.plot(dates_val, y_val)\n",
    "plt.plot(dates_test, y_test)\n",
    "\n",
    "plt.legend(['Train', 'Validation', 'Test'])"
   ]
  },
  {
   "cell_type": "code",
   "execution_count": 35,
   "metadata": {},
   "outputs": [
    {
     "data": {
      "text/plain": [
       "(1828, 24)"
      ]
     },
     "execution_count": 35,
     "metadata": {},
     "output_type": "execute_result"
    }
   ],
   "source": [
    "# Normalization of the data in the range of [0, 1] to have a better performance of the algorithm\n",
    "scaler = MinMaxScaler(feature_range=(0, 1))\n",
    "\n",
    "scaled_data = df.copy()\n",
    "\n",
    "# Normalization of each column independently\n",
    "for column in scaled_data.columns:\n",
    "    \n",
    "    column_data = scaled_data[[column]]\n",
    "    \n",
    "    scaled_column = scaler.fit_transform(column_data)\n",
    "    \n",
    "    scaled_data[column] = scaled_column.flatten()\n",
    "\n",
    "# Verifying the normalized DataFrame\n",
    "scaled_data = scaled_data.values\n",
    "scaled_data.shape"
   ]
  },
  {
   "cell_type": "code",
   "execution_count": 36,
   "metadata": {},
   "outputs": [
    {
     "data": {
      "text/plain": [
       "((1826, 2, 24), (1826,))"
      ]
     },
     "execution_count": 36,
     "metadata": {},
     "output_type": "execute_result"
    }
   ],
   "source": [
    "# Preparing the data for the model\n",
    "n = 2  # Number of days before of the model tries to predict the next price value\n",
    "def prepare_data(data, n_steps):\n",
    "    X, y = [], []\n",
    "    for i in range(len(data) - n_steps):\n",
    "        row = [r for r in data[i:i + n_steps]]  # Selecting all the data of the row to learn to predict the next price value\n",
    "        X.append(row)\n",
    "        label = data[i + n_steps][-1]  # Value of the price that the model will predict\n",
    "        y.append(label)\n",
    "    return np.array(X), np.array(y)\n",
    "\n",
    "X, y = prepare_data(scaled_data, n)\n",
    "X.shape, y.shape"
   ]
  },
  {
   "cell_type": "code",
   "execution_count": 37,
   "metadata": {},
   "outputs": [
    {
     "data": {
      "text/plain": [
       "((1278, 2, 24), (1278,), (255, 2, 24), (255,), (293, 2, 24), (293,))"
      ]
     },
     "execution_count": 37,
     "metadata": {},
     "output_type": "execute_result"
    }
   ],
   "source": [
    "# Selecting the train data, validation data and test data\n",
    "train_data = int(len(X) * .7)\n",
    "val_data = int((train_data * .2) + train_data)\n",
    "\n",
    "X_train, X_val, X_test = X[:train_data], X[train_data:val_data], X[val_data:]\n",
    "y_train, y_val, y_test = y[:train_data], y[train_data:val_data], y[val_data:]\n",
    "\n",
    "X_train.shape, y_train.shape, X_val.shape, y_val.shape, X_test.shape, y_test.shape"
   ]
  },
  {
   "cell_type": "code",
   "execution_count": 38,
   "metadata": {},
   "outputs": [
    {
     "name": "stderr",
     "output_type": "stream",
     "text": [
      "c:\\Users\\celio\\AppData\\Local\\Programs\\Python\\Python310\\lib\\site-packages\\keras\\src\\layers\\rnn\\rnn.py:204: UserWarning: Do not pass an `input_shape`/`input_dim` argument to a layer. When using Sequential models, prefer using an `Input(shape)` object as the first layer in the model instead.\n",
      "  super().__init__(**kwargs)\n"
     ]
    },
    {
     "data": {
      "text/html": [
       "<pre style=\"white-space:pre;overflow-x:auto;line-height:normal;font-family:Menlo,'DejaVu Sans Mono',consolas,'Courier New',monospace\"><span style=\"font-weight: bold\">Model: \"sequential\"</span>\n",
       "</pre>\n"
      ],
      "text/plain": [
       "\u001b[1mModel: \"sequential\"\u001b[0m\n"
      ]
     },
     "metadata": {},
     "output_type": "display_data"
    },
    {
     "data": {
      "text/html": [
       "<pre style=\"white-space:pre;overflow-x:auto;line-height:normal;font-family:Menlo,'DejaVu Sans Mono',consolas,'Courier New',monospace\">┏━━━━━━━━━━━━━━━━━━━━━━━━━━━━━━━━━┳━━━━━━━━━━━━━━━━━━━━━━━━┳━━━━━━━━━━━━━━━┓\n",
       "┃<span style=\"font-weight: bold\"> Layer (type)                    </span>┃<span style=\"font-weight: bold\"> Output Shape           </span>┃<span style=\"font-weight: bold\">       Param # </span>┃\n",
       "┡━━━━━━━━━━━━━━━━━━━━━━━━━━━━━━━━━╇━━━━━━━━━━━━━━━━━━━━━━━━╇━━━━━━━━━━━━━━━┩\n",
       "│ lstm (<span style=\"color: #0087ff; text-decoration-color: #0087ff\">LSTM</span>)                     │ (<span style=\"color: #00d7ff; text-decoration-color: #00d7ff\">None</span>, <span style=\"color: #00af00; text-decoration-color: #00af00\">200</span>)            │       <span style=\"color: #00af00; text-decoration-color: #00af00\">180,000</span> │\n",
       "├─────────────────────────────────┼────────────────────────┼───────────────┤\n",
       "│ dense (<span style=\"color: #0087ff; text-decoration-color: #0087ff\">Dense</span>)                   │ (<span style=\"color: #00d7ff; text-decoration-color: #00d7ff\">None</span>, <span style=\"color: #00af00; text-decoration-color: #00af00\">1</span>)              │           <span style=\"color: #00af00; text-decoration-color: #00af00\">201</span> │\n",
       "└─────────────────────────────────┴────────────────────────┴───────────────┘\n",
       "</pre>\n"
      ],
      "text/plain": [
       "┏━━━━━━━━━━━━━━━━━━━━━━━━━━━━━━━━━┳━━━━━━━━━━━━━━━━━━━━━━━━┳━━━━━━━━━━━━━━━┓\n",
       "┃\u001b[1m \u001b[0m\u001b[1mLayer (type)                   \u001b[0m\u001b[1m \u001b[0m┃\u001b[1m \u001b[0m\u001b[1mOutput Shape          \u001b[0m\u001b[1m \u001b[0m┃\u001b[1m \u001b[0m\u001b[1m      Param #\u001b[0m\u001b[1m \u001b[0m┃\n",
       "┡━━━━━━━━━━━━━━━━━━━━━━━━━━━━━━━━━╇━━━━━━━━━━━━━━━━━━━━━━━━╇━━━━━━━━━━━━━━━┩\n",
       "│ lstm (\u001b[38;5;33mLSTM\u001b[0m)                     │ (\u001b[38;5;45mNone\u001b[0m, \u001b[38;5;34m200\u001b[0m)            │       \u001b[38;5;34m180,000\u001b[0m │\n",
       "├─────────────────────────────────┼────────────────────────┼───────────────┤\n",
       "│ dense (\u001b[38;5;33mDense\u001b[0m)                   │ (\u001b[38;5;45mNone\u001b[0m, \u001b[38;5;34m1\u001b[0m)              │           \u001b[38;5;34m201\u001b[0m │\n",
       "└─────────────────────────────────┴────────────────────────┴───────────────┘\n"
      ]
     },
     "metadata": {},
     "output_type": "display_data"
    },
    {
     "data": {
      "text/html": [
       "<pre style=\"white-space:pre;overflow-x:auto;line-height:normal;font-family:Menlo,'DejaVu Sans Mono',consolas,'Courier New',monospace\"><span style=\"font-weight: bold\"> Total params: </span><span style=\"color: #00af00; text-decoration-color: #00af00\">180,201</span> (703.91 KB)\n",
       "</pre>\n"
      ],
      "text/plain": [
       "\u001b[1m Total params: \u001b[0m\u001b[38;5;34m180,201\u001b[0m (703.91 KB)\n"
      ]
     },
     "metadata": {},
     "output_type": "display_data"
    },
    {
     "data": {
      "text/html": [
       "<pre style=\"white-space:pre;overflow-x:auto;line-height:normal;font-family:Menlo,'DejaVu Sans Mono',consolas,'Courier New',monospace\"><span style=\"font-weight: bold\"> Trainable params: </span><span style=\"color: #00af00; text-decoration-color: #00af00\">180,201</span> (703.91 KB)\n",
       "</pre>\n"
      ],
      "text/plain": [
       "\u001b[1m Trainable params: \u001b[0m\u001b[38;5;34m180,201\u001b[0m (703.91 KB)\n"
      ]
     },
     "metadata": {},
     "output_type": "display_data"
    },
    {
     "data": {
      "text/html": [
       "<pre style=\"white-space:pre;overflow-x:auto;line-height:normal;font-family:Menlo,'DejaVu Sans Mono',consolas,'Courier New',monospace\"><span style=\"font-weight: bold\"> Non-trainable params: </span><span style=\"color: #00af00; text-decoration-color: #00af00\">0</span> (0.00 B)\n",
       "</pre>\n"
      ],
      "text/plain": [
       "\u001b[1m Non-trainable params: \u001b[0m\u001b[38;5;34m0\u001b[0m (0.00 B)\n"
      ]
     },
     "metadata": {},
     "output_type": "display_data"
    }
   ],
   "source": [
    "# Building the LSTM model\n",
    "model = Sequential([\n",
    "    LSTM(200, activation='tanh', input_shape=(X_train.shape[1], X_train.shape[2])),\n",
    "    Dense(1)\n",
    "])\n",
    "\n",
    "model.summary()"
   ]
  },
  {
   "cell_type": "code",
   "execution_count": 39,
   "metadata": {},
   "outputs": [
    {
     "name": "stdout",
     "output_type": "stream",
     "text": [
      "Epoch 1/50\n",
      "\u001b[1m40/40\u001b[0m \u001b[32m━━━━━━━━━━━━━━━━━━━━\u001b[0m\u001b[37m\u001b[0m \u001b[1m3s\u001b[0m 15ms/step - loss: 0.0470 - val_loss: 0.0022\n",
      "Epoch 2/50\n",
      "\u001b[1m40/40\u001b[0m \u001b[32m━━━━━━━━━━━━━━━━━━━━\u001b[0m\u001b[37m\u001b[0m \u001b[1m0s\u001b[0m 5ms/step - loss: 0.0013 - val_loss: 5.0663e-04\n",
      "Epoch 3/50\n",
      "\u001b[1m40/40\u001b[0m \u001b[32m━━━━━━━━━━━━━━━━━━━━\u001b[0m\u001b[37m\u001b[0m \u001b[1m0s\u001b[0m 5ms/step - loss: 7.0211e-04 - val_loss: 7.0954e-04\n",
      "Epoch 4/50\n",
      "\u001b[1m40/40\u001b[0m \u001b[32m━━━━━━━━━━━━━━━━━━━━\u001b[0m\u001b[37m\u001b[0m \u001b[1m0s\u001b[0m 6ms/step - loss: 5.9945e-04 - val_loss: 2.1108e-04\n",
      "Epoch 5/50\n",
      "\u001b[1m40/40\u001b[0m \u001b[32m━━━━━━━━━━━━━━━━━━━━\u001b[0m\u001b[37m\u001b[0m \u001b[1m0s\u001b[0m 7ms/step - loss: 5.6812e-04 - val_loss: 2.7366e-04\n",
      "Epoch 6/50\n",
      "\u001b[1m40/40\u001b[0m \u001b[32m━━━━━━━━━━━━━━━━━━━━\u001b[0m\u001b[37m\u001b[0m \u001b[1m0s\u001b[0m 7ms/step - loss: 5.1041e-04 - val_loss: 3.5525e-04\n",
      "Epoch 7/50\n",
      "\u001b[1m40/40\u001b[0m \u001b[32m━━━━━━━━━━━━━━━━━━━━\u001b[0m\u001b[37m\u001b[0m \u001b[1m0s\u001b[0m 6ms/step - loss: 5.2500e-04 - val_loss: 1.9485e-04\n",
      "Epoch 8/50\n",
      "\u001b[1m40/40\u001b[0m \u001b[32m━━━━━━━━━━━━━━━━━━━━\u001b[0m\u001b[37m\u001b[0m \u001b[1m0s\u001b[0m 5ms/step - loss: 5.0518e-04 - val_loss: 3.7863e-04\n",
      "Epoch 9/50\n",
      "\u001b[1m40/40\u001b[0m \u001b[32m━━━━━━━━━━━━━━━━━━━━\u001b[0m\u001b[37m\u001b[0m \u001b[1m0s\u001b[0m 7ms/step - loss: 4.5372e-04 - val_loss: 2.9786e-04\n",
      "Epoch 10/50\n",
      "\u001b[1m40/40\u001b[0m \u001b[32m━━━━━━━━━━━━━━━━━━━━\u001b[0m\u001b[37m\u001b[0m \u001b[1m0s\u001b[0m 6ms/step - loss: 3.9009e-04 - val_loss: 1.5421e-04\n",
      "Epoch 11/50\n",
      "\u001b[1m40/40\u001b[0m \u001b[32m━━━━━━━━━━━━━━━━━━━━\u001b[0m\u001b[37m\u001b[0m \u001b[1m0s\u001b[0m 6ms/step - loss: 4.0776e-04 - val_loss: 2.1908e-04\n",
      "Epoch 12/50\n",
      "\u001b[1m40/40\u001b[0m \u001b[32m━━━━━━━━━━━━━━━━━━━━\u001b[0m\u001b[37m\u001b[0m \u001b[1m0s\u001b[0m 6ms/step - loss: 3.5467e-04 - val_loss: 4.3842e-04\n",
      "Epoch 13/50\n",
      "\u001b[1m40/40\u001b[0m \u001b[32m━━━━━━━━━━━━━━━━━━━━\u001b[0m\u001b[37m\u001b[0m \u001b[1m0s\u001b[0m 5ms/step - loss: 4.0400e-04 - val_loss: 1.4276e-04\n",
      "Epoch 14/50\n",
      "\u001b[1m40/40\u001b[0m \u001b[32m━━━━━━━━━━━━━━━━━━━━\u001b[0m\u001b[37m\u001b[0m \u001b[1m0s\u001b[0m 6ms/step - loss: 3.7910e-04 - val_loss: 3.2210e-04\n",
      "Epoch 15/50\n",
      "\u001b[1m40/40\u001b[0m \u001b[32m━━━━━━━━━━━━━━━━━━━━\u001b[0m\u001b[37m\u001b[0m \u001b[1m0s\u001b[0m 5ms/step - loss: 3.7506e-04 - val_loss: 1.4001e-04\n",
      "Epoch 16/50\n",
      "\u001b[1m40/40\u001b[0m \u001b[32m━━━━━━━━━━━━━━━━━━━━\u001b[0m\u001b[37m\u001b[0m \u001b[1m0s\u001b[0m 5ms/step - loss: 3.8048e-04 - val_loss: 4.8517e-04\n",
      "Epoch 17/50\n",
      "\u001b[1m40/40\u001b[0m \u001b[32m━━━━━━━━━━━━━━━━━━━━\u001b[0m\u001b[37m\u001b[0m \u001b[1m0s\u001b[0m 4ms/step - loss: 4.3793e-04 - val_loss: 1.7346e-04\n",
      "Epoch 18/50\n",
      "\u001b[1m40/40\u001b[0m \u001b[32m━━━━━━━━━━━━━━━━━━━━\u001b[0m\u001b[37m\u001b[0m \u001b[1m0s\u001b[0m 5ms/step - loss: 3.6680e-04 - val_loss: 1.2662e-04\n",
      "Epoch 19/50\n",
      "\u001b[1m40/40\u001b[0m \u001b[32m━━━━━━━━━━━━━━━━━━━━\u001b[0m\u001b[37m\u001b[0m \u001b[1m0s\u001b[0m 5ms/step - loss: 4.1217e-04 - val_loss: 4.7574e-04\n",
      "Epoch 20/50\n",
      "\u001b[1m40/40\u001b[0m \u001b[32m━━━━━━━━━━━━━━━━━━━━\u001b[0m\u001b[37m\u001b[0m \u001b[1m0s\u001b[0m 4ms/step - loss: 4.3049e-04 - val_loss: 1.2904e-04\n",
      "Epoch 21/50\n",
      "\u001b[1m40/40\u001b[0m \u001b[32m━━━━━━━━━━━━━━━━━━━━\u001b[0m\u001b[37m\u001b[0m \u001b[1m0s\u001b[0m 5ms/step - loss: 3.5913e-04 - val_loss: 1.5463e-04\n",
      "Epoch 22/50\n",
      "\u001b[1m40/40\u001b[0m \u001b[32m━━━━━━━━━━━━━━━━━━━━\u001b[0m\u001b[37m\u001b[0m \u001b[1m0s\u001b[0m 5ms/step - loss: 3.6833e-04 - val_loss: 4.9223e-04\n",
      "Epoch 23/50\n",
      "\u001b[1m40/40\u001b[0m \u001b[32m━━━━━━━━━━━━━━━━━━━━\u001b[0m\u001b[37m\u001b[0m \u001b[1m0s\u001b[0m 6ms/step - loss: 4.2151e-04 - val_loss: 1.8170e-04\n",
      "Epoch 24/50\n",
      "\u001b[1m40/40\u001b[0m \u001b[32m━━━━━━━━━━━━━━━━━━━━\u001b[0m\u001b[37m\u001b[0m \u001b[1m0s\u001b[0m 7ms/step - loss: 3.5682e-04 - val_loss: 2.3955e-04\n",
      "Epoch 25/50\n",
      "\u001b[1m40/40\u001b[0m \u001b[32m━━━━━━━━━━━━━━━━━━━━\u001b[0m\u001b[37m\u001b[0m \u001b[1m0s\u001b[0m 6ms/step - loss: 3.6524e-04 - val_loss: 1.7041e-04\n",
      "Epoch 26/50\n",
      "\u001b[1m40/40\u001b[0m \u001b[32m━━━━━━━━━━━━━━━━━━━━\u001b[0m\u001b[37m\u001b[0m \u001b[1m0s\u001b[0m 5ms/step - loss: 3.7555e-04 - val_loss: 1.9791e-04\n",
      "Epoch 27/50\n",
      "\u001b[1m40/40\u001b[0m \u001b[32m━━━━━━━━━━━━━━━━━━━━\u001b[0m\u001b[37m\u001b[0m \u001b[1m0s\u001b[0m 5ms/step - loss: 3.6754e-04 - val_loss: 3.1484e-04\n",
      "Epoch 28/50\n",
      "\u001b[1m40/40\u001b[0m \u001b[32m━━━━━━━━━━━━━━━━━━━━\u001b[0m\u001b[37m\u001b[0m \u001b[1m0s\u001b[0m 5ms/step - loss: 3.7507e-04 - val_loss: 1.3625e-04\n",
      "Epoch 29/50\n",
      "\u001b[1m40/40\u001b[0m \u001b[32m━━━━━━━━━━━━━━━━━━━━\u001b[0m\u001b[37m\u001b[0m \u001b[1m0s\u001b[0m 5ms/step - loss: 3.6254e-04 - val_loss: 3.5156e-04\n",
      "Epoch 30/50\n",
      "\u001b[1m40/40\u001b[0m \u001b[32m━━━━━━━━━━━━━━━━━━━━\u001b[0m\u001b[37m\u001b[0m \u001b[1m0s\u001b[0m 4ms/step - loss: 4.2818e-04 - val_loss: 1.3718e-04\n",
      "Epoch 31/50\n",
      "\u001b[1m40/40\u001b[0m \u001b[32m━━━━━━━━━━━━━━━━━━━━\u001b[0m\u001b[37m\u001b[0m \u001b[1m0s\u001b[0m 4ms/step - loss: 3.2505e-04 - val_loss: 1.0747e-04\n",
      "Epoch 32/50\n",
      "\u001b[1m40/40\u001b[0m \u001b[32m━━━━━━━━━━━━━━━━━━━━\u001b[0m\u001b[37m\u001b[0m \u001b[1m0s\u001b[0m 4ms/step - loss: 3.2475e-04 - val_loss: 1.1368e-04\n",
      "Epoch 33/50\n",
      "\u001b[1m40/40\u001b[0m \u001b[32m━━━━━━━━━━━━━━━━━━━━\u001b[0m\u001b[37m\u001b[0m \u001b[1m0s\u001b[0m 4ms/step - loss: 3.3500e-04 - val_loss: 2.5786e-04\n",
      "Epoch 34/50\n",
      "\u001b[1m40/40\u001b[0m \u001b[32m━━━━━━━━━━━━━━━━━━━━\u001b[0m\u001b[37m\u001b[0m \u001b[1m0s\u001b[0m 4ms/step - loss: 3.4529e-04 - val_loss: 4.0526e-04\n",
      "Epoch 35/50\n",
      "\u001b[1m40/40\u001b[0m \u001b[32m━━━━━━━━━━━━━━━━━━━━\u001b[0m\u001b[37m\u001b[0m \u001b[1m0s\u001b[0m 4ms/step - loss: 4.0636e-04 - val_loss: 1.0306e-04\n",
      "Epoch 36/50\n",
      "\u001b[1m40/40\u001b[0m \u001b[32m━━━━━━━━━━━━━━━━━━━━\u001b[0m\u001b[37m\u001b[0m \u001b[1m0s\u001b[0m 4ms/step - loss: 3.3007e-04 - val_loss: 2.9914e-04\n",
      "Epoch 37/50\n",
      "\u001b[1m40/40\u001b[0m \u001b[32m━━━━━━━━━━━━━━━━━━━━\u001b[0m\u001b[37m\u001b[0m \u001b[1m0s\u001b[0m 4ms/step - loss: 3.3526e-04 - val_loss: 1.5333e-04\n",
      "Epoch 38/50\n",
      "\u001b[1m40/40\u001b[0m \u001b[32m━━━━━━━━━━━━━━━━━━━━\u001b[0m\u001b[37m\u001b[0m \u001b[1m0s\u001b[0m 4ms/step - loss: 3.3366e-04 - val_loss: 2.4113e-04\n",
      "Epoch 39/50\n",
      "\u001b[1m40/40\u001b[0m \u001b[32m━━━━━━━━━━━━━━━━━━━━\u001b[0m\u001b[37m\u001b[0m \u001b[1m0s\u001b[0m 5ms/step - loss: 4.0710e-04 - val_loss: 2.1354e-04\n",
      "Epoch 40/50\n",
      "\u001b[1m40/40\u001b[0m \u001b[32m━━━━━━━━━━━━━━━━━━━━\u001b[0m\u001b[37m\u001b[0m \u001b[1m0s\u001b[0m 5ms/step - loss: 3.4953e-04 - val_loss: 1.0630e-04\n",
      "Epoch 41/50\n",
      "\u001b[1m40/40\u001b[0m \u001b[32m━━━━━━━━━━━━━━━━━━━━\u001b[0m\u001b[37m\u001b[0m \u001b[1m0s\u001b[0m 5ms/step - loss: 3.9090e-04 - val_loss: 1.0450e-04\n",
      "Epoch 42/50\n",
      "\u001b[1m40/40\u001b[0m \u001b[32m━━━━━━━━━━━━━━━━━━━━\u001b[0m\u001b[37m\u001b[0m \u001b[1m0s\u001b[0m 4ms/step - loss: 3.4791e-04 - val_loss: 1.0136e-04\n",
      "Epoch 43/50\n",
      "\u001b[1m40/40\u001b[0m \u001b[32m━━━━━━━━━━━━━━━━━━━━\u001b[0m\u001b[37m\u001b[0m \u001b[1m0s\u001b[0m 4ms/step - loss: 3.5301e-04 - val_loss: 1.2428e-04\n",
      "Epoch 44/50\n",
      "\u001b[1m40/40\u001b[0m \u001b[32m━━━━━━━━━━━━━━━━━━━━\u001b[0m\u001b[37m\u001b[0m \u001b[1m0s\u001b[0m 4ms/step - loss: 3.0929e-04 - val_loss: 1.0642e-04\n",
      "Epoch 45/50\n",
      "\u001b[1m40/40\u001b[0m \u001b[32m━━━━━━━━━━━━━━━━━━━━\u001b[0m\u001b[37m\u001b[0m \u001b[1m0s\u001b[0m 4ms/step - loss: 3.3443e-04 - val_loss: 2.1322e-04\n",
      "Epoch 46/50\n",
      "\u001b[1m40/40\u001b[0m \u001b[32m━━━━━━━━━━━━━━━━━━━━\u001b[0m\u001b[37m\u001b[0m \u001b[1m0s\u001b[0m 4ms/step - loss: 4.0648e-04 - val_loss: 3.0167e-04\n",
      "Epoch 47/50\n",
      "\u001b[1m40/40\u001b[0m \u001b[32m━━━━━━━━━━━━━━━━━━━━\u001b[0m\u001b[37m\u001b[0m \u001b[1m0s\u001b[0m 4ms/step - loss: 4.3335e-04 - val_loss: 1.1896e-04\n",
      "Epoch 48/50\n",
      "\u001b[1m40/40\u001b[0m \u001b[32m━━━━━━━━━━━━━━━━━━━━\u001b[0m\u001b[37m\u001b[0m \u001b[1m0s\u001b[0m 5ms/step - loss: 3.0868e-04 - val_loss: 1.8000e-04\n",
      "Epoch 49/50\n",
      "\u001b[1m40/40\u001b[0m \u001b[32m━━━━━━━━━━━━━━━━━━━━\u001b[0m\u001b[37m\u001b[0m \u001b[1m0s\u001b[0m 4ms/step - loss: 3.9762e-04 - val_loss: 1.6361e-04\n",
      "Epoch 50/50\n",
      "\u001b[1m40/40\u001b[0m \u001b[32m━━━━━━━━━━━━━━━━━━━━\u001b[0m\u001b[37m\u001b[0m \u001b[1m0s\u001b[0m 4ms/step - loss: 3.2368e-04 - val_loss: 1.0731e-04\n"
     ]
    },
    {
     "data": {
      "text/plain": [
       "<keras.src.callbacks.history.History at 0x20ee501cb20>"
      ]
     },
     "execution_count": 39,
     "metadata": {},
     "output_type": "execute_result"
    }
   ],
   "source": [
    "optimizer = Adam(beta_1=0.9, beta_2=0.999, learning_rate=0.0005)\n",
    "model.compile(optimizer=optimizer, loss='mse')\n",
    "\n",
    "# Train the model\n",
    "model.fit(X_train, y_train, epochs=50, validation_data=(X_val, y_val))"
   ]
  },
  {
   "cell_type": "code",
   "execution_count": 40,
   "metadata": {},
   "outputs": [
    {
     "name": "stdout",
     "output_type": "stream",
     "text": [
      "\u001b[1m10/10\u001b[0m \u001b[32m━━━━━━━━━━━━━━━━━━━━\u001b[0m\u001b[37m\u001b[0m \u001b[1m0s\u001b[0m 18ms/step\n"
     ]
    }
   ],
   "source": [
    "# Making predictions of the test data\n",
    "predictions = model.predict(X_test)"
   ]
  },
  {
   "cell_type": "code",
   "execution_count": 41,
   "metadata": {},
   "outputs": [
    {
     "data": {
      "text/plain": [
       "(293, 1)"
      ]
     },
     "execution_count": 41,
     "metadata": {},
     "output_type": "execute_result"
    }
   ],
   "source": [
    "predictions.shape"
   ]
  },
  {
   "cell_type": "markdown",
   "metadata": {},
   "source": [
    "#### Evaluating the model"
   ]
  },
  {
   "cell_type": "code",
   "execution_count": 42,
   "metadata": {},
   "outputs": [],
   "source": [
    "# Undoing the normalization of predictions and real valuess\n",
    "predictions = scaler.inverse_transform(predictions.reshape(-1, 1))\n",
    "y_test = scaler.inverse_transform(y_test.reshape(-1, 1))"
   ]
  },
  {
   "cell_type": "code",
   "execution_count": 43,
   "metadata": {},
   "outputs": [
    {
     "name": "stdout",
     "output_type": "stream",
     "text": [
      "=================  Error Metrics  =================\n",
      "Mean Absolute Error:  1036.9046\n",
      "---------------------------------------------------\n",
      "Mean Absolute Percentage Error:  0.0238\n",
      "---------------------------------------------------\n",
      "Mean Squared Error:  2138672.3709\n",
      "---------------------------------------------------\n",
      "Root Mean Squared Error:  1462.42\n",
      "---------------------------------------------------\n",
      "R^2:  0.9898\n",
      "===================================================\n"
     ]
    }
   ],
   "source": [
    "print(17*'=', ' Error Metrics ', 17*'=')\n",
    "print('Mean Absolute Error: ', mean_absolute_error(y_test, predictions).round(4))\n",
    "print(51*'-')\n",
    "print('Mean Absolute Percentage Error: ', mean_absolute_percentage_error(y_test, predictions).round(4))\n",
    "print(51*'-')\n",
    "print('Mean Squared Error: ', mean_squared_error(y_test, predictions).round(4))\n",
    "print(51*'-')\n",
    "print('Root Mean Squared Error: ', mean_squared_error(y_test, predictions, squared=False).round(4))\n",
    "print(51*'-')\n",
    "print('R^2: ', r2_score(y_test, predictions).round(4))\n",
    "print(51*'=')"
   ]
  },
  {
   "cell_type": "markdown",
   "metadata": {},
   "source": [
    "#### As we can see, the error metric values have proven to be sufficiently satisfactory given the scale of the values ​​being processed, in this case represented by Bitcoin where error variations such as $883 or $1327 represent a small proportion compared to the value of the asset in question. The discrepancy presented by the MSE is due to its representation outside the working scale; in this case, we look at the RMSE.\""
   ]
  },
  {
   "cell_type": "code",
   "execution_count": 44,
   "metadata": {},
   "outputs": [
    {
     "data": {
      "image/png": "[encoded data removed]",
      "text/plain": [
       "<Figure size 1080x504 with 1 Axes>"
      ]
     },
     "metadata": {},
     "output_type": "display_data"
    }
   ],
   "source": [
    "# Getting the dates corresponding to the test set\n",
    "test_dates = df.index[val_data+n:]\n",
    "\n",
    "# Plotting the comparison between the real values and predict values\n",
    "plt.figure(figsize=(15, 7))\n",
    "plt.plot(test_dates, y_test[:, -1], label='Real Value')\n",
    "plt.plot(test_dates, predictions[:, -1], label='Prediction')\n",
    "plt.xlabel('Date')\n",
    "plt.ylabel('Price (USD)')\n",
    "plt.title('Comparison between the Prediction vs. Real Value')\n",
    "plt.xticks(rotation=45)\n",
    "plt.legend()\n",
    "plt.tight_layout()\n",
    "plt.show()"
   ]
  },
  {
   "cell_type": "markdown",
   "metadata": {},
   "source": [
    "### Creating flexible code to apply to new data"
   ]
  },
  {
   "cell_type": "code",
   "execution_count": 45,
   "metadata": {},
   "outputs": [],
   "source": [
    "# Informations to change and then just run all the code\n",
    "ticker = 'BTC-USD' # Company where the data will be collected\n",
    "ndays = 365 # Number of days to pull the historical data"
   ]
  },
  {
   "cell_type": "code",
   "execution_count": 46,
   "metadata": {},
   "outputs": [
    {
     "name": "stdout",
     "output_type": "stream",
     "text": [
      "[*********************100%***********************]  1 of 1 completed\n"
     ]
    },
    {
     "data": {
      "text/html": [
       "<div>\n",
       "<style scoped>\n",
       "    .dataframe tbody tr th:only-of-type {\n",
       "        vertical-align: middle;\n",
       "    }\n",
       "\n",
       "    .dataframe tbody tr th {\n",
       "        vertical-align: top;\n",
       "    }\n",
       "\n",
       "    .dataframe thead th {\n",
       "        text-align: right;\n",
       "    }\n",
       "</style>\n",
       "<table border=\"1\" class=\"dataframe\">\n",
       "  <thead>\n",
       "    <tr style=\"text-align: right;\">\n",
       "      <th></th>\n",
       "      <th>Open</th>\n",
       "      <th>High</th>\n",
       "      <th>Low</th>\n",
       "      <th>Close</th>\n",
       "      <th>Adj Close</th>\n",
       "      <th>Volume</th>\n",
       "    </tr>\n",
       "    <tr>\n",
       "      <th>Date</th>\n",
       "      <th></th>\n",
       "      <th></th>\n",
       "      <th></th>\n",
       "      <th></th>\n",
       "      <th></th>\n",
       "      <th></th>\n",
       "    </tr>\n",
       "  </thead>\n",
       "  <tbody>\n",
       "    <tr>\n",
       "      <th>2023-04-25</th>\n",
       "      <td>27514.873047</td>\n",
       "      <td>28371.078125</td>\n",
       "      <td>27207.931641</td>\n",
       "      <td>28307.597656</td>\n",
       "      <td>28307.597656</td>\n",
       "      <td>17733373139</td>\n",
       "    </tr>\n",
       "    <tr>\n",
       "      <th>2023-04-26</th>\n",
       "      <td>28300.058594</td>\n",
       "      <td>29995.837891</td>\n",
       "      <td>27324.548828</td>\n",
       "      <td>28422.701172</td>\n",
       "      <td>28422.701172</td>\n",
       "      <td>31854242019</td>\n",
       "    </tr>\n",
       "    <tr>\n",
       "      <th>2023-04-27</th>\n",
       "      <td>28428.464844</td>\n",
       "      <td>29871.546875</td>\n",
       "      <td>28402.886719</td>\n",
       "      <td>29473.787109</td>\n",
       "      <td>29473.787109</td>\n",
       "      <td>27153445027</td>\n",
       "    </tr>\n",
       "    <tr>\n",
       "      <th>2023-04-28</th>\n",
       "      <td>29481.013672</td>\n",
       "      <td>29572.791016</td>\n",
       "      <td>28929.609375</td>\n",
       "      <td>29340.261719</td>\n",
       "      <td>29340.261719</td>\n",
       "      <td>17544464887</td>\n",
       "    </tr>\n",
       "    <tr>\n",
       "      <th>2023-04-29</th>\n",
       "      <td>29336.566406</td>\n",
       "      <td>29452.455078</td>\n",
       "      <td>29088.042969</td>\n",
       "      <td>29248.488281</td>\n",
       "      <td>29248.488281</td>\n",
       "      <td>10662634333</td>\n",
       "    </tr>\n",
       "    <tr>\n",
       "      <th>...</th>\n",
       "      <td>...</td>\n",
       "      <td>...</td>\n",
       "      <td>...</td>\n",
       "      <td>...</td>\n",
       "      <td>...</td>\n",
       "      <td>...</td>\n",
       "    </tr>\n",
       "    <tr>\n",
       "      <th>2024-04-20</th>\n",
       "      <td>63851.101562</td>\n",
       "      <td>65442.457031</td>\n",
       "      <td>63172.402344</td>\n",
       "      <td>64994.441406</td>\n",
       "      <td>64994.441406</td>\n",
       "      <td>23097485495</td>\n",
       "    </tr>\n",
       "    <tr>\n",
       "      <th>2024-04-21</th>\n",
       "      <td>64992.816406</td>\n",
       "      <td>65723.242188</td>\n",
       "      <td>64277.722656</td>\n",
       "      <td>64926.644531</td>\n",
       "      <td>64926.644531</td>\n",
       "      <td>20506644853</td>\n",
       "    </tr>\n",
       "    <tr>\n",
       "      <th>2024-04-22</th>\n",
       "      <td>64935.632812</td>\n",
       "      <td>67233.960938</td>\n",
       "      <td>64548.179688</td>\n",
       "      <td>66837.679688</td>\n",
       "      <td>66837.679688</td>\n",
       "      <td>28282686673</td>\n",
       "    </tr>\n",
       "    <tr>\n",
       "      <th>2024-04-23</th>\n",
       "      <td>66839.890625</td>\n",
       "      <td>67199.242188</td>\n",
       "      <td>65864.867188</td>\n",
       "      <td>66407.273438</td>\n",
       "      <td>66407.273438</td>\n",
       "      <td>24310975583</td>\n",
       "    </tr>\n",
       "    <tr>\n",
       "      <th>2024-04-24</th>\n",
       "      <td>66420.398438</td>\n",
       "      <td>67053.765625</td>\n",
       "      <td>66042.117188</td>\n",
       "      <td>66132.203125</td>\n",
       "      <td>66132.203125</td>\n",
       "      <td>24404912128</td>\n",
       "    </tr>\n",
       "  </tbody>\n",
       "</table>\n",
       "<p>366 rows × 6 columns</p>\n",
       "</div>"
      ],
      "text/plain": [
       "                    Open          High           Low         Close  \\\n",
       "Date                                                                 \n",
       "2023-04-25  27514.873047  28371.078125  27207.931641  28307.597656   \n",
       "2023-04-26  28300.058594  29995.837891  27324.548828  28422.701172   \n",
       "2023-04-27  28428.464844  29871.546875  28402.886719  29473.787109   \n",
       "2023-04-28  29481.013672  29572.791016  28929.609375  29340.261719   \n",
       "2023-04-29  29336.566406  29452.455078  29088.042969  29248.488281   \n",
       "...                  ...           ...           ...           ...   \n",
       "2024-04-20  63851.101562  65442.457031  63172.402344  64994.441406   \n",
       "2024-04-21  64992.816406  65723.242188  64277.722656  64926.644531   \n",
       "2024-04-22  64935.632812  67233.960938  64548.179688  66837.679688   \n",
       "2024-04-23  66839.890625  67199.242188  65864.867188  66407.273438   \n",
       "2024-04-24  66420.398438  67053.765625  66042.117188  66132.203125   \n",
       "\n",
       "               Adj Close       Volume  \n",
       "Date                                   \n",
       "2023-04-25  28307.597656  17733373139  \n",
       "2023-04-26  28422.701172  31854242019  \n",
       "2023-04-27  29473.787109  27153445027  \n",
       "2023-04-28  29340.261719  17544464887  \n",
       "2023-04-29  29248.488281  10662634333  \n",
       "...                  ...          ...  \n",
       "2024-04-20  64994.441406  23097485495  \n",
       "2024-04-21  64926.644531  20506644853  \n",
       "2024-04-22  66837.679688  28282686673  \n",
       "2024-04-23  66407.273438  24310975583  \n",
       "2024-04-24  66132.203125  24404912128  \n",
       "\n",
       "[366 rows x 6 columns]"
      ]
     },
     "execution_count": 46,
     "metadata": {},
     "output_type": "execute_result"
    }
   ],
   "source": [
    "def get_data():\n",
    "    # Obtaining data from Yahoo Finance\n",
    "    data = yf.download(ticker, start=pd.Timestamp.now() - pd.Timedelta(days=ndays), end=pd.Timestamp.now())\n",
    "    \n",
    "    return data\n",
    "\n",
    "# Loading the chosen data\n",
    "data = get_data()\n",
    "\n",
    "data"
   ]
  },
  {
   "cell_type": "code",
   "execution_count": 47,
   "metadata": {},
   "outputs": [],
   "source": [
    "data = generate_technical_indicators(data)\n",
    "\n",
    "data.fillna(0, inplace=True)"
   ]
  },
  {
   "cell_type": "code",
   "execution_count": 48,
   "metadata": {},
   "outputs": [
    {
     "data": {
      "text/html": [
       "<div>\n",
       "<style scoped>\n",
       "    .dataframe tbody tr th:only-of-type {\n",
       "        vertical-align: middle;\n",
       "    }\n",
       "\n",
       "    .dataframe tbody tr th {\n",
       "        vertical-align: top;\n",
       "    }\n",
       "\n",
       "    .dataframe thead th {\n",
       "        text-align: right;\n",
       "    }\n",
       "</style>\n",
       "<table border=\"1\" class=\"dataframe\">\n",
       "  <thead>\n",
       "    <tr style=\"text-align: right;\">\n",
       "      <th></th>\n",
       "      <th>upperband</th>\n",
       "      <th>middleband</th>\n",
       "      <th>lowerband</th>\n",
       "      <th>ema</th>\n",
       "      <th>sma</th>\n",
       "      <th>tema</th>\n",
       "      <th>wma</th>\n",
       "      <th>adx</th>\n",
       "      <th>adxr</th>\n",
       "      <th>cci</th>\n",
       "      <th>...</th>\n",
       "      <th>roc</th>\n",
       "      <th>rsi</th>\n",
       "      <th>slowk</th>\n",
       "      <th>slowd</th>\n",
       "      <th>willr</th>\n",
       "      <th>adosc</th>\n",
       "      <th>obv</th>\n",
       "      <th>atr</th>\n",
       "      <th>trange</th>\n",
       "      <th>Close</th>\n",
       "    </tr>\n",
       "    <tr>\n",
       "      <th>Date</th>\n",
       "      <th></th>\n",
       "      <th></th>\n",
       "      <th></th>\n",
       "      <th></th>\n",
       "      <th></th>\n",
       "      <th></th>\n",
       "      <th></th>\n",
       "      <th></th>\n",
       "      <th></th>\n",
       "      <th></th>\n",
       "      <th></th>\n",
       "      <th></th>\n",
       "      <th></th>\n",
       "      <th></th>\n",
       "      <th></th>\n",
       "      <th></th>\n",
       "      <th></th>\n",
       "      <th></th>\n",
       "      <th></th>\n",
       "      <th></th>\n",
       "      <th></th>\n",
       "    </tr>\n",
       "  </thead>\n",
       "  <tbody>\n",
       "    <tr>\n",
       "      <th>2023-04-25</th>\n",
       "      <td>0.000000</td>\n",
       "      <td>0.000000</td>\n",
       "      <td>0.000000</td>\n",
       "      <td>0.000000</td>\n",
       "      <td>0.000000</td>\n",
       "      <td>0.000000</td>\n",
       "      <td>0.000000</td>\n",
       "      <td>0.000000</td>\n",
       "      <td>0.000000</td>\n",
       "      <td>0.000000</td>\n",
       "      <td>...</td>\n",
       "      <td>0.000000</td>\n",
       "      <td>0.000000</td>\n",
       "      <td>0.000000</td>\n",
       "      <td>0.000000</td>\n",
       "      <td>0.000000</td>\n",
       "      <td>0.000000e+00</td>\n",
       "      <td>1.773337e+10</td>\n",
       "      <td>0.000000</td>\n",
       "      <td>0.000000</td>\n",
       "      <td>28307.597656</td>\n",
       "    </tr>\n",
       "    <tr>\n",
       "      <th>2023-04-26</th>\n",
       "      <td>0.000000</td>\n",
       "      <td>0.000000</td>\n",
       "      <td>0.000000</td>\n",
       "      <td>0.000000</td>\n",
       "      <td>0.000000</td>\n",
       "      <td>0.000000</td>\n",
       "      <td>0.000000</td>\n",
       "      <td>0.000000</td>\n",
       "      <td>0.000000</td>\n",
       "      <td>0.000000</td>\n",
       "      <td>...</td>\n",
       "      <td>0.000000</td>\n",
       "      <td>0.000000</td>\n",
       "      <td>0.000000</td>\n",
       "      <td>0.000000</td>\n",
       "      <td>0.000000</td>\n",
       "      <td>0.000000e+00</td>\n",
       "      <td>4.958762e+10</td>\n",
       "      <td>0.000000</td>\n",
       "      <td>2671.289062</td>\n",
       "      <td>28422.701172</td>\n",
       "    </tr>\n",
       "    <tr>\n",
       "      <th>2023-04-27</th>\n",
       "      <td>0.000000</td>\n",
       "      <td>0.000000</td>\n",
       "      <td>0.000000</td>\n",
       "      <td>0.000000</td>\n",
       "      <td>0.000000</td>\n",
       "      <td>0.000000</td>\n",
       "      <td>0.000000</td>\n",
       "      <td>0.000000</td>\n",
       "      <td>0.000000</td>\n",
       "      <td>0.000000</td>\n",
       "      <td>...</td>\n",
       "      <td>0.000000</td>\n",
       "      <td>0.000000</td>\n",
       "      <td>0.000000</td>\n",
       "      <td>0.000000</td>\n",
       "      <td>0.000000</td>\n",
       "      <td>0.000000e+00</td>\n",
       "      <td>7.674106e+10</td>\n",
       "      <td>0.000000</td>\n",
       "      <td>1468.660156</td>\n",
       "      <td>29473.787109</td>\n",
       "    </tr>\n",
       "    <tr>\n",
       "      <th>2023-04-28</th>\n",
       "      <td>0.000000</td>\n",
       "      <td>0.000000</td>\n",
       "      <td>0.000000</td>\n",
       "      <td>0.000000</td>\n",
       "      <td>0.000000</td>\n",
       "      <td>0.000000</td>\n",
       "      <td>0.000000</td>\n",
       "      <td>0.000000</td>\n",
       "      <td>0.000000</td>\n",
       "      <td>0.000000</td>\n",
       "      <td>...</td>\n",
       "      <td>0.000000</td>\n",
       "      <td>0.000000</td>\n",
       "      <td>0.000000</td>\n",
       "      <td>0.000000</td>\n",
       "      <td>0.000000</td>\n",
       "      <td>0.000000e+00</td>\n",
       "      <td>5.919660e+10</td>\n",
       "      <td>0.000000</td>\n",
       "      <td>643.181641</td>\n",
       "      <td>29340.261719</td>\n",
       "    </tr>\n",
       "    <tr>\n",
       "      <th>2023-04-29</th>\n",
       "      <td>29940.854413</td>\n",
       "      <td>28958.567188</td>\n",
       "      <td>27976.279962</td>\n",
       "      <td>0.000000</td>\n",
       "      <td>0.000000</td>\n",
       "      <td>0.000000</td>\n",
       "      <td>0.000000</td>\n",
       "      <td>0.000000</td>\n",
       "      <td>0.000000</td>\n",
       "      <td>0.000000</td>\n",
       "      <td>...</td>\n",
       "      <td>0.000000</td>\n",
       "      <td>0.000000</td>\n",
       "      <td>0.000000</td>\n",
       "      <td>0.000000</td>\n",
       "      <td>0.000000</td>\n",
       "      <td>0.000000e+00</td>\n",
       "      <td>4.853396e+10</td>\n",
       "      <td>0.000000</td>\n",
       "      <td>364.412109</td>\n",
       "      <td>29248.488281</td>\n",
       "    </tr>\n",
       "    <tr>\n",
       "      <th>...</th>\n",
       "      <td>...</td>\n",
       "      <td>...</td>\n",
       "      <td>...</td>\n",
       "      <td>...</td>\n",
       "      <td>...</td>\n",
       "      <td>...</td>\n",
       "      <td>...</td>\n",
       "      <td>...</td>\n",
       "      <td>...</td>\n",
       "      <td>...</td>\n",
       "      <td>...</td>\n",
       "      <td>...</td>\n",
       "      <td>...</td>\n",
       "      <td>...</td>\n",
       "      <td>...</td>\n",
       "      <td>...</td>\n",
       "      <td>...</td>\n",
       "      <td>...</td>\n",
       "      <td>...</td>\n",
       "      <td>...</td>\n",
       "      <td>...</td>\n",
       "    </tr>\n",
       "    <tr>\n",
       "      <th>2024-04-20</th>\n",
       "      <td>65919.518930</td>\n",
       "      <td>63487.864062</td>\n",
       "      <td>61056.209195</td>\n",
       "      <td>64876.645542</td>\n",
       "      <td>64768.220703</td>\n",
       "      <td>63187.370842</td>\n",
       "      <td>64008.169460</td>\n",
       "      <td>42.744867</td>\n",
       "      <td>21.902715</td>\n",
       "      <td>-5.049588</td>\n",
       "      <td>...</td>\n",
       "      <td>-7.924082</td>\n",
       "      <td>46.990416</td>\n",
       "      <td>42.163335</td>\n",
       "      <td>48.438781</td>\n",
       "      <td>-53.958443</td>\n",
       "      <td>1.670105e+10</td>\n",
       "      <td>6.280583e+11</td>\n",
       "      <td>3755.632220</td>\n",
       "      <td>2270.054688</td>\n",
       "      <td>64994.441406</td>\n",
       "    </tr>\n",
       "    <tr>\n",
       "      <th>2024-04-21</th>\n",
       "      <td>66410.116227</td>\n",
       "      <td>63710.820312</td>\n",
       "      <td>61011.524398</td>\n",
       "      <td>64885.736267</td>\n",
       "      <td>64254.824219</td>\n",
       "      <td>63729.809141</td>\n",
       "      <td>64036.973793</td>\n",
       "      <td>37.954329</td>\n",
       "      <td>22.246179</td>\n",
       "      <td>49.857924</td>\n",
       "      <td>...</td>\n",
       "      <td>-7.327891</td>\n",
       "      <td>46.779166</td>\n",
       "      <td>45.945116</td>\n",
       "      <td>47.547238</td>\n",
       "      <td>-54.411083</td>\n",
       "      <td>1.730615e+10</td>\n",
       "      <td>6.075517e+11</td>\n",
       "      <td>3524.620951</td>\n",
       "      <td>1445.519531</td>\n",
       "      <td>64926.644531</td>\n",
       "    </tr>\n",
       "    <tr>\n",
       "      <th>2024-04-22</th>\n",
       "      <td>67151.123795</td>\n",
       "      <td>64823.017969</td>\n",
       "      <td>62494.912142</td>\n",
       "      <td>65240.635071</td>\n",
       "      <td>64219.005469</td>\n",
       "      <td>64995.732318</td>\n",
       "      <td>64506.583878</td>\n",
       "      <td>33.949932</td>\n",
       "      <td>22.686676</td>\n",
       "      <td>151.376167</td>\n",
       "      <td>...</td>\n",
       "      <td>-0.533050</td>\n",
       "      <td>53.347799</td>\n",
       "      <td>52.820759</td>\n",
       "      <td>47.209777</td>\n",
       "      <td>-13.209479</td>\n",
       "      <td>1.960805e+10</td>\n",
       "      <td>6.358343e+11</td>\n",
       "      <td>3440.736981</td>\n",
       "      <td>2685.781250</td>\n",
       "      <td>66837.679688</td>\n",
       "    </tr>\n",
       "    <tr>\n",
       "      <th>2024-04-23</th>\n",
       "      <td>67573.100493</td>\n",
       "      <td>65401.921875</td>\n",
       "      <td>63230.743257</td>\n",
       "      <td>65452.751137</td>\n",
       "      <td>64477.585547</td>\n",
       "      <td>65666.194426</td>\n",
       "      <td>64904.450781</td>\n",
       "      <td>30.746415</td>\n",
       "      <td>23.083123</td>\n",
       "      <td>131.113623</td>\n",
       "      <td>...</td>\n",
       "      <td>4.051616</td>\n",
       "      <td>51.749468</td>\n",
       "      <td>59.048945</td>\n",
       "      <td>47.435387</td>\n",
       "      <td>-10.902471</td>\n",
       "      <td>1.898635e+10</td>\n",
       "      <td>6.115234e+11</td>\n",
       "      <td>3230.100783</td>\n",
       "      <td>1334.375000</td>\n",
       "      <td>66407.273438</td>\n",
       "    </tr>\n",
       "    <tr>\n",
       "      <th>2024-04-24</th>\n",
       "      <td>67395.826505</td>\n",
       "      <td>65859.648438</td>\n",
       "      <td>64323.470370</td>\n",
       "      <td>65576.287862</td>\n",
       "      <td>64516.933203</td>\n",
       "      <td>65989.285398</td>\n",
       "      <td>65205.290341</td>\n",
       "      <td>28.183601</td>\n",
       "      <td>22.919984</td>\n",
       "      <td>100.645689</td>\n",
       "      <td>...</td>\n",
       "      <td>0.598546</td>\n",
       "      <td>50.671426</td>\n",
       "      <td>61.673860</td>\n",
       "      <td>48.036449</td>\n",
       "      <td>-14.530136</td>\n",
       "      <td>1.445740e+10</td>\n",
       "      <td>5.871185e+11</td>\n",
       "      <td>3008.255548</td>\n",
       "      <td>1011.648438</td>\n",
       "      <td>66132.203125</td>\n",
       "    </tr>\n",
       "  </tbody>\n",
       "</table>\n",
       "<p>366 rows × 24 columns</p>\n",
       "</div>"
      ],
      "text/plain": [
       "               upperband    middleband     lowerband           ema  \\\n",
       "Date                                                                 \n",
       "2023-04-25      0.000000      0.000000      0.000000      0.000000   \n",
       "2023-04-26      0.000000      0.000000      0.000000      0.000000   \n",
       "2023-04-27      0.000000      0.000000      0.000000      0.000000   \n",
       "2023-04-28      0.000000      0.000000      0.000000      0.000000   \n",
       "2023-04-29  29940.854413  28958.567188  27976.279962      0.000000   \n",
       "...                  ...           ...           ...           ...   \n",
       "2024-04-20  65919.518930  63487.864062  61056.209195  64876.645542   \n",
       "2024-04-21  66410.116227  63710.820312  61011.524398  64885.736267   \n",
       "2024-04-22  67151.123795  64823.017969  62494.912142  65240.635071   \n",
       "2024-04-23  67573.100493  65401.921875  63230.743257  65452.751137   \n",
       "2024-04-24  67395.826505  65859.648438  64323.470370  65576.287862   \n",
       "\n",
       "                     sma          tema           wma        adx       adxr  \\\n",
       "Date                                                                         \n",
       "2023-04-25      0.000000      0.000000      0.000000   0.000000   0.000000   \n",
       "2023-04-26      0.000000      0.000000      0.000000   0.000000   0.000000   \n",
       "2023-04-27      0.000000      0.000000      0.000000   0.000000   0.000000   \n",
       "2023-04-28      0.000000      0.000000      0.000000   0.000000   0.000000   \n",
       "2023-04-29      0.000000      0.000000      0.000000   0.000000   0.000000   \n",
       "...                  ...           ...           ...        ...        ...   \n",
       "2024-04-20  64768.220703  63187.370842  64008.169460  42.744867  21.902715   \n",
       "2024-04-21  64254.824219  63729.809141  64036.973793  37.954329  22.246179   \n",
       "2024-04-22  64219.005469  64995.732318  64506.583878  33.949932  22.686676   \n",
       "2024-04-23  64477.585547  65666.194426  64904.450781  30.746415  23.083123   \n",
       "2024-04-24  64516.933203  65989.285398  65205.290341  28.183601  22.919984   \n",
       "\n",
       "                   cci  ...       roc        rsi      slowk      slowd  \\\n",
       "Date                    ...                                              \n",
       "2023-04-25    0.000000  ...  0.000000   0.000000   0.000000   0.000000   \n",
       "2023-04-26    0.000000  ...  0.000000   0.000000   0.000000   0.000000   \n",
       "2023-04-27    0.000000  ...  0.000000   0.000000   0.000000   0.000000   \n",
       "2023-04-28    0.000000  ...  0.000000   0.000000   0.000000   0.000000   \n",
       "2023-04-29    0.000000  ...  0.000000   0.000000   0.000000   0.000000   \n",
       "...                ...  ...       ...        ...        ...        ...   \n",
       "2024-04-20   -5.049588  ... -7.924082  46.990416  42.163335  48.438781   \n",
       "2024-04-21   49.857924  ... -7.327891  46.779166  45.945116  47.547238   \n",
       "2024-04-22  151.376167  ... -0.533050  53.347799  52.820759  47.209777   \n",
       "2024-04-23  131.113623  ...  4.051616  51.749468  59.048945  47.435387   \n",
       "2024-04-24  100.645689  ...  0.598546  50.671426  61.673860  48.036449   \n",
       "\n",
       "                willr         adosc           obv          atr       trange  \\\n",
       "Date                                                                          \n",
       "2023-04-25   0.000000  0.000000e+00  1.773337e+10     0.000000     0.000000   \n",
       "2023-04-26   0.000000  0.000000e+00  4.958762e+10     0.000000  2671.289062   \n",
       "2023-04-27   0.000000  0.000000e+00  7.674106e+10     0.000000  1468.660156   \n",
       "2023-04-28   0.000000  0.000000e+00  5.919660e+10     0.000000   643.181641   \n",
       "2023-04-29   0.000000  0.000000e+00  4.853396e+10     0.000000   364.412109   \n",
       "...               ...           ...           ...          ...          ...   \n",
       "2024-04-20 -53.958443  1.670105e+10  6.280583e+11  3755.632220  2270.054688   \n",
       "2024-04-21 -54.411083  1.730615e+10  6.075517e+11  3524.620951  1445.519531   \n",
       "2024-04-22 -13.209479  1.960805e+10  6.358343e+11  3440.736981  2685.781250   \n",
       "2024-04-23 -10.902471  1.898635e+10  6.115234e+11  3230.100783  1334.375000   \n",
       "2024-04-24 -14.530136  1.445740e+10  5.871185e+11  3008.255548  1011.648438   \n",
       "\n",
       "                   Close  \n",
       "Date                      \n",
       "2023-04-25  28307.597656  \n",
       "2023-04-26  28422.701172  \n",
       "2023-04-27  29473.787109  \n",
       "2023-04-28  29340.261719  \n",
       "2023-04-29  29248.488281  \n",
       "...                  ...  \n",
       "2024-04-20  64994.441406  \n",
       "2024-04-21  64926.644531  \n",
       "2024-04-22  66837.679688  \n",
       "2024-04-23  66407.273438  \n",
       "2024-04-24  66132.203125  \n",
       "\n",
       "[366 rows x 24 columns]"
      ]
     },
     "execution_count": 48,
     "metadata": {},
     "output_type": "execute_result"
    }
   ],
   "source": [
    "data"
   ]
  },
  {
   "cell_type": "code",
   "execution_count": 49,
   "metadata": {},
   "outputs": [],
   "source": [
    "# Creating a MinMaxScaler and Normalization function\n",
    "scaler = MinMaxScaler(feature_range=(0, 1))\n",
    "\n",
    "def normalization_data(dataset, ndays_to_predict=1):\n",
    "\n",
    "    n = 2 # Timesteps fixed to build the model\n",
    "    \n",
    "    scaled_data = dataset.iloc[-n-ndays_to_predict:, :].copy()\n",
    "\n",
    "    for column in scaled_data.columns:\n",
    "    \n",
    "        column_data = scaled_data[[column]]\n",
    "        \n",
    "        scaled_column = scaler.fit_transform(column_data)\n",
    "        \n",
    "        scaled_data[column] = scaled_column.flatten()\n",
    "\n",
    "    scaled_data = scaled_data.values\n",
    "\n",
    "    return scaled_data"
   ]
  },
  {
   "cell_type": "code",
   "execution_count": 50,
   "metadata": {},
   "outputs": [
    {
     "data": {
      "text/plain": [
       "(3, 24)"
      ]
     },
     "execution_count": 50,
     "metadata": {},
     "output_type": "execute_result"
    }
   ],
   "source": [
    "ndays_to_predict = 1\n",
    "\n",
    "scaled_data = normalization_data(data, ndays_to_predict)\n",
    "scaled_data.shape"
   ]
  },
  {
   "cell_type": "code",
   "execution_count": 51,
   "metadata": {},
   "outputs": [
    {
     "data": {
      "text/plain": [
       "(1, 2, 24)"
      ]
     },
     "execution_count": 51,
     "metadata": {},
     "output_type": "execute_result"
    }
   ],
   "source": [
    "# Preparing the data for the model\n",
    "n = 2  # Number of days before the model tries to predict the next price value\n",
    "def prepare_data(data, n_steps):\n",
    "    X = []\n",
    "    for i in range(n_steps, len(data)):\n",
    "        row = [r for r in data[(i - n_steps) + 1:i + 1]]\n",
    "        X.append(row)\n",
    "    return np.array(X)\n",
    "\n",
    "X = prepare_data(scaled_data, n)\n",
    "X.shape"
   ]
  },
  {
   "cell_type": "code",
   "execution_count": 52,
   "metadata": {},
   "outputs": [
    {
     "name": "stdout",
     "output_type": "stream",
     "text": [
      "\u001b[1m1/1\u001b[0m \u001b[32m━━━━━━━━━━━━━━━━━━━━\u001b[0m\u001b[37m\u001b[0m \u001b[1m0s\u001b[0m 36ms/step\n"
     ]
    }
   ],
   "source": [
    "predictions = model.predict(X)"
   ]
  },
  {
   "cell_type": "code",
   "execution_count": 53,
   "metadata": {},
   "outputs": [
    {
     "data": {
      "text/plain": [
       "array([[66527.18]], dtype=float32)"
      ]
     },
     "execution_count": 53,
     "metadata": {},
     "output_type": "execute_result"
    }
   ],
   "source": [
    "predictions = scaler.inverse_transform(predictions.reshape(-1, 1))\n",
    "predictions"
   ]
  },
  {
   "cell_type": "code",
   "execution_count": 54,
   "metadata": {},
   "outputs": [],
   "source": [
    "def plot_predictions(dataset, predictions, ndays_to_predict):\n",
    "    # Criar um índice para os próximos 14 dias\n",
    "    next_n_days = pd.date_range(start=dataset.index[-1] + pd.Timedelta(days=1), periods=ndays_to_predict)\n",
    "\n",
    "    # # Criar uma série temporal para os valores reais e previstos\n",
    "    real_values = dataset['Close'][-ndays_to_predict-5:]\n",
    "    # predictions = np.reshape(predictions, -1)\n",
    "    predicted_values = pd.Series(predictions.flatten(), index=next_n_days)\n",
    "\n",
    "    last_value = real_values.iloc[-1]\n",
    "    predicted_values = pd.concat([pd.Series([last_value], index=[predicted_values.index[0] - pd.Timedelta(days=1)]), predicted_values])\n",
    "\n",
    "    # Plotar os valores reais e previstos\n",
    "    plt.figure(figsize=(17, 8))\n",
    "    plt.plot(real_values.index, real_values.values, label='Real Values')\n",
    "    plt.plot(predicted_values.index, predicted_values.values, label='Predicted Value', marker='o')\n",
    "\n",
    "    plt.xlabel('Date')\n",
    "    plt.xticks(rotation=45)\n",
    "    plt.ylabel('Price of the ' + ticker)\n",
    "    plt.title('Prediction of the ' + ticker + ' for the next 1 day')\n",
    "    plt.legend()\n",
    "    plt.show()"
   ]
  },
  {
   "cell_type": "code",
   "execution_count": 55,
   "metadata": {},
   "outputs": [
    {
     "data": {
      "image/png": "[encoded data removed]",
      "text/plain": [
       "<Figure size 1224x576 with 1 Axes>"
      ]
     },
     "metadata": {},
     "output_type": "display_data"
    }
   ],
   "source": [
    "plot_predictions(data, predictions, ndays_to_predict)"
   ]
  }
 ],
 "metadata": {
  "kernelspec": {
   "display_name": "MyEnv",
   "language": "python",
   "name": "python3"
  },
  "language_info": {
   "codemirror_mode": {
    "name": "ipython",
    "version": 3
   },
   "file_extension": ".py",
   "mimetype": "text/x-python",
   "name": "python",
   "nbconvert_exporter": "python",
   "pygments_lexer": "ipython3",
   "version": "3.10.4"
  }
 },
 "nbformat": 4,
 "nbformat_minor": 2
}
