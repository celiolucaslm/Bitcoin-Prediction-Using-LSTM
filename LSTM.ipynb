{
 "cells": [
  {
   "cell_type": "code",
   "execution_count": 1,
   "metadata": {},
   "outputs": [],
   "source": [
    "import pandas as pd\n",
    "import yfinance as yf\n",
    "import numpy as np\n",
    "import matplotlib.pyplot as plt\n",
    "import talib as ta\n",
    "from sklearn.preprocessing import MinMaxScaler\n",
    "from sklearn.metrics import *\n",
    "\n",
    "from keras.models import Sequential\n",
    "from keras.layers import Dense\n",
    "from keras.layers import LSTM\n",
    "from keras.optimizers import Adam"
   ]
  },
  {
   "cell_type": "markdown",
   "metadata": {},
   "source": [
    "### Data Cleaning and Exploratory Analysis"
   ]
  },
  {
   "cell_type": "code",
   "execution_count": 2,
   "metadata": {},
   "outputs": [
    {
     "name": "stdout",
     "output_type": "stream",
     "text": [
      "[*********************100%***********************]  1 of 1 completed\n"
     ]
    },
    {
     "data": {
      "text/html": [
       "<div>\n",
       "<style scoped>\n",
       "    .dataframe tbody tr th:only-of-type {\n",
       "        vertical-align: middle;\n",
       "    }\n",
       "\n",
       "    .dataframe tbody tr th {\n",
       "        vertical-align: top;\n",
       "    }\n",
       "\n",
       "    .dataframe thead th {\n",
       "        text-align: right;\n",
       "    }\n",
       "</style>\n",
       "<table border=\"1\" class=\"dataframe\">\n",
       "  <thead>\n",
       "    <tr style=\"text-align: right;\">\n",
       "      <th></th>\n",
       "      <th>Open</th>\n",
       "      <th>High</th>\n",
       "      <th>Low</th>\n",
       "      <th>Close</th>\n",
       "      <th>Adj Close</th>\n",
       "      <th>Volume</th>\n",
       "    </tr>\n",
       "    <tr>\n",
       "      <th>Date</th>\n",
       "      <th></th>\n",
       "      <th></th>\n",
       "      <th></th>\n",
       "      <th></th>\n",
       "      <th></th>\n",
       "      <th></th>\n",
       "    </tr>\n",
       "  </thead>\n",
       "  <tbody>\n",
       "    <tr>\n",
       "      <th>2014-09-17</th>\n",
       "      <td>465.864014</td>\n",
       "      <td>468.174011</td>\n",
       "      <td>452.421997</td>\n",
       "      <td>457.334015</td>\n",
       "      <td>457.334015</td>\n",
       "      <td>21056800</td>\n",
       "    </tr>\n",
       "    <tr>\n",
       "      <th>2014-09-18</th>\n",
       "      <td>456.859985</td>\n",
       "      <td>456.859985</td>\n",
       "      <td>413.104004</td>\n",
       "      <td>424.440002</td>\n",
       "      <td>424.440002</td>\n",
       "      <td>34483200</td>\n",
       "    </tr>\n",
       "    <tr>\n",
       "      <th>2014-09-19</th>\n",
       "      <td>424.102997</td>\n",
       "      <td>427.834991</td>\n",
       "      <td>384.532013</td>\n",
       "      <td>394.795990</td>\n",
       "      <td>394.795990</td>\n",
       "      <td>37919700</td>\n",
       "    </tr>\n",
       "    <tr>\n",
       "      <th>2014-09-20</th>\n",
       "      <td>394.673004</td>\n",
       "      <td>423.295990</td>\n",
       "      <td>389.882996</td>\n",
       "      <td>408.903992</td>\n",
       "      <td>408.903992</td>\n",
       "      <td>36863600</td>\n",
       "    </tr>\n",
       "    <tr>\n",
       "      <th>2014-09-21</th>\n",
       "      <td>408.084991</td>\n",
       "      <td>412.425995</td>\n",
       "      <td>393.181000</td>\n",
       "      <td>398.821014</td>\n",
       "      <td>398.821014</td>\n",
       "      <td>26580100</td>\n",
       "    </tr>\n",
       "  </tbody>\n",
       "</table>\n",
       "</div>"
      ],
      "text/plain": [
       "                  Open        High         Low       Close   Adj Close  \\\n",
       "Date                                                                     \n",
       "2014-09-17  465.864014  468.174011  452.421997  457.334015  457.334015   \n",
       "2014-09-18  456.859985  456.859985  413.104004  424.440002  424.440002   \n",
       "2014-09-19  424.102997  427.834991  384.532013  394.795990  394.795990   \n",
       "2014-09-20  394.673004  423.295990  389.882996  408.903992  408.903992   \n",
       "2014-09-21  408.084991  412.425995  393.181000  398.821014  398.821014   \n",
       "\n",
       "              Volume  \n",
       "Date                  \n",
       "2014-09-17  21056800  \n",
       "2014-09-18  34483200  \n",
       "2014-09-19  37919700  \n",
       "2014-09-20  36863600  \n",
       "2014-09-21  26580100  "
      ]
     },
     "execution_count": 2,
     "metadata": {},
     "output_type": "execute_result"
    }
   ],
   "source": [
    "# Obtaining data from Yahoo Finance\n",
    "df = yf.download('BTC-USD')\n",
    "df.head()"
   ]
  },
  {
   "cell_type": "code",
   "execution_count": 3,
   "metadata": {},
   "outputs": [
    {
     "data": {
      "text/plain": [
       "(3508, 6)"
      ]
     },
     "execution_count": 3,
     "metadata": {},
     "output_type": "execute_result"
    }
   ],
   "source": [
    "df.shape"
   ]
  },
  {
   "cell_type": "code",
   "execution_count": 4,
   "metadata": {},
   "outputs": [
    {
     "data": {
      "text/plain": [
       "Open         float64\n",
       "High         float64\n",
       "Low          float64\n",
       "Close        float64\n",
       "Adj Close    float64\n",
       "Volume         int64\n",
       "dtype: object"
      ]
     },
     "execution_count": 4,
     "metadata": {},
     "output_type": "execute_result"
    }
   ],
   "source": [
    "df.dtypes"
   ]
  },
  {
   "cell_type": "code",
   "execution_count": 5,
   "metadata": {},
   "outputs": [],
   "source": [
    "# Selecting the data from the last 5 years\n",
    "actual_date = df.index[-1]\n",
    "last_5_years = actual_date  - pd.DateOffset(years=5)\n",
    "df = df[df.index >= last_5_years]"
   ]
  },
  {
   "cell_type": "code",
   "execution_count": 6,
   "metadata": {},
   "outputs": [
    {
     "name": "stdout",
     "output_type": "stream",
     "text": [
      "The column Open has no NaN values\n",
      "The column High has no NaN values\n",
      "The column Low has no NaN values\n",
      "The column Close has no NaN values\n",
      "The column Adj Close has no NaN values\n",
      "The column Volume has no NaN values\n"
     ]
    }
   ],
   "source": [
    "# Checking if there are NaN values in the DataFrame for each column\n",
    "df_columns = ['Open', 'High', 'Low', 'Close', 'Adj Close','Volume']\n",
    "\n",
    "for column in df_columns:\n",
    "    has_nan = df[column].isna().any()\n",
    "    if has_nan:\n",
    "        print(\"The column\", column, \"has NaN values\")\n",
    "    else:\n",
    "        print(\"The column\", column, \"has no NaN values\")"
   ]
  },
  {
   "cell_type": "code",
   "execution_count": 7,
   "metadata": {},
   "outputs": [
    {
     "data": {
      "image/png": "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",
      "text/plain": [
       "<Figure size 1080x504 with 1 Axes>"
      ]
     },
     "metadata": {
      "needs_background": "light"
     },
     "output_type": "display_data"
    }
   ],
   "source": [
    "plt.figure(figsize=(15, 7))\n",
    "plt.plot(df.index, df['Close'])\n",
    "\n",
    "plt.xlabel('Date')\n",
    "plt.ylabel('Bitcoin Price (USD)')\n",
    "plt.title('Bictoin Price x Date')\n",
    "\n",
    "plt.xticks(rotation=45)\n",
    "\n",
    "plt.show()"
   ]
  },
  {
   "cell_type": "code",
   "execution_count": 8,
   "metadata": {},
   "outputs": [
    {
     "data": {
      "image/png": "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",
      "text/plain": [
       "<Figure size 792x360 with 1 Axes>"
      ]
     },
     "metadata": {
      "needs_background": "light"
     },
     "output_type": "display_data"
    }
   ],
   "source": [
    "# Checking for the presence of outliers in the data\n",
    "plt.figure(figsize=(11, 5))\n",
    "df.iloc[:, :-2].boxplot()\n",
    "plt.title('Boxplot of the columns')\n",
    "plt.ylabel('Values')\n",
    "plt.show()"
   ]
  },
  {
   "cell_type": "code",
   "execution_count": 9,
   "metadata": {},
   "outputs": [
    {
     "data": {
      "image/png": "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",
      "text/plain": [
       "<Figure size 1440x1080 with 6 Axes>"
      ]
     },
     "metadata": {
      "needs_background": "light"
     },
     "output_type": "display_data"
    }
   ],
   "source": [
    "# Plotting the distributions of the DataFrame columns\n",
    "df.iloc[:, 1:].hist(figsize=(20, 15), bins=20)\n",
    "\n",
    "plt.show()"
   ]
  },
  {
   "cell_type": "code",
   "execution_count": 10,
   "metadata": {},
   "outputs": [
    {
     "data": {
      "text/html": [
       "<div>\n",
       "<style scoped>\n",
       "    .dataframe tbody tr th:only-of-type {\n",
       "        vertical-align: middle;\n",
       "    }\n",
       "\n",
       "    .dataframe tbody tr th {\n",
       "        vertical-align: top;\n",
       "    }\n",
       "\n",
       "    .dataframe thead th {\n",
       "        text-align: right;\n",
       "    }\n",
       "</style>\n",
       "<table border=\"1\" class=\"dataframe\">\n",
       "  <thead>\n",
       "    <tr style=\"text-align: right;\">\n",
       "      <th></th>\n",
       "      <th>Open</th>\n",
       "      <th>High</th>\n",
       "      <th>Low</th>\n",
       "      <th>Close</th>\n",
       "      <th>Adj Close</th>\n",
       "      <th>Volume</th>\n",
       "    </tr>\n",
       "  </thead>\n",
       "  <tbody>\n",
       "    <tr>\n",
       "      <th>count</th>\n",
       "      <td>1828.000000</td>\n",
       "      <td>1828.000000</td>\n",
       "      <td>1828.000000</td>\n",
       "      <td>1828.000000</td>\n",
       "      <td>1828.000000</td>\n",
       "      <td>1.828000e+03</td>\n",
       "    </tr>\n",
       "    <tr>\n",
       "      <th>mean</th>\n",
       "      <td>27826.210803</td>\n",
       "      <td>28462.414601</td>\n",
       "      <td>27148.688910</td>\n",
       "      <td>27856.060710</td>\n",
       "      <td>27856.060710</td>\n",
       "      <td>3.062076e+10</td>\n",
       "    </tr>\n",
       "    <tr>\n",
       "      <th>std</th>\n",
       "      <td>17087.292580</td>\n",
       "      <td>17520.976606</td>\n",
       "      <td>16592.368449</td>\n",
       "      <td>17097.123340</td>\n",
       "      <td>17097.123340</td>\n",
       "      <td>1.789559e+10</td>\n",
       "    </tr>\n",
       "    <tr>\n",
       "      <th>min</th>\n",
       "      <td>5002.578125</td>\n",
       "      <td>5310.750000</td>\n",
       "      <td>4106.980957</td>\n",
       "      <td>4970.788086</td>\n",
       "      <td>4970.788086</td>\n",
       "      <td>5.331173e+09</td>\n",
       "    </tr>\n",
       "    <tr>\n",
       "      <th>25%</th>\n",
       "      <td>10797.553955</td>\n",
       "      <td>11028.482910</td>\n",
       "      <td>10602.549316</td>\n",
       "      <td>10813.285889</td>\n",
       "      <td>10813.285889</td>\n",
       "      <td>1.870893e+10</td>\n",
       "    </tr>\n",
       "    <tr>\n",
       "      <th>50%</th>\n",
       "      <td>26093.238281</td>\n",
       "      <td>26436.723633</td>\n",
       "      <td>25767.108398</td>\n",
       "      <td>26101.177734</td>\n",
       "      <td>26101.177734</td>\n",
       "      <td>2.687238e+10</td>\n",
       "    </tr>\n",
       "    <tr>\n",
       "      <th>75%</th>\n",
       "      <td>40683.366211</td>\n",
       "      <td>41895.105469</td>\n",
       "      <td>39625.075195</td>\n",
       "      <td>40786.456055</td>\n",
       "      <td>40786.456055</td>\n",
       "      <td>3.774678e+10</td>\n",
       "    </tr>\n",
       "    <tr>\n",
       "      <th>max</th>\n",
       "      <td>73079.375000</td>\n",
       "      <td>73750.070312</td>\n",
       "      <td>71334.093750</td>\n",
       "      <td>73083.500000</td>\n",
       "      <td>73083.500000</td>\n",
       "      <td>3.509679e+11</td>\n",
       "    </tr>\n",
       "  </tbody>\n",
       "</table>\n",
       "</div>"
      ],
      "text/plain": [
       "               Open          High           Low         Close     Adj Close  \\\n",
       "count   1828.000000   1828.000000   1828.000000   1828.000000   1828.000000   \n",
       "mean   27826.210803  28462.414601  27148.688910  27856.060710  27856.060710   \n",
       "std    17087.292580  17520.976606  16592.368449  17097.123340  17097.123340   \n",
       "min     5002.578125   5310.750000   4106.980957   4970.788086   4970.788086   \n",
       "25%    10797.553955  11028.482910  10602.549316  10813.285889  10813.285889   \n",
       "50%    26093.238281  26436.723633  25767.108398  26101.177734  26101.177734   \n",
       "75%    40683.366211  41895.105469  39625.075195  40786.456055  40786.456055   \n",
       "max    73079.375000  73750.070312  71334.093750  73083.500000  73083.500000   \n",
       "\n",
       "             Volume  \n",
       "count  1.828000e+03  \n",
       "mean   3.062076e+10  \n",
       "std    1.789559e+10  \n",
       "min    5.331173e+09  \n",
       "25%    1.870893e+10  \n",
       "50%    2.687238e+10  \n",
       "75%    3.774678e+10  \n",
       "max    3.509679e+11  "
      ]
     },
     "execution_count": 10,
     "metadata": {},
     "output_type": "execute_result"
    }
   ],
   "source": [
    "# Basic statistics of the DataFrame\n",
    "df.describe()"
   ]
  },
  {
   "cell_type": "markdown",
   "metadata": {},
   "source": [
    "### Generating the Technical Indicators for the model"
   ]
  },
  {
   "cell_type": "markdown",
   "metadata": {},
   "source": [
    "##### Overlap Functions"
   ]
  },
  {
   "cell_type": "code",
   "execution_count": 11,
   "metadata": {},
   "outputs": [],
   "source": [
    "upperband, middleband, lowerband = ta.BBANDS(df['Close'], timeperiod=5, nbdevup=2, nbdevdn=2, matype=0)"
   ]
  },
  {
   "cell_type": "code",
   "execution_count": 12,
   "metadata": {},
   "outputs": [],
   "source": [
    "ema = ta.EMA(df['Close'], timeperiod=10)"
   ]
  },
  {
   "cell_type": "code",
   "execution_count": 13,
   "metadata": {},
   "outputs": [],
   "source": [
    "sma = ta.SMA(df['Close'], timeperiod=10)"
   ]
  },
  {
   "cell_type": "code",
   "execution_count": 14,
   "metadata": {},
   "outputs": [],
   "source": [
    "tema = ta.TEMA(df['Close'], timeperiod=10)"
   ]
  },
  {
   "cell_type": "code",
   "execution_count": 15,
   "metadata": {},
   "outputs": [],
   "source": [
    "wma = ta.WMA(df['Close'], timeperiod=10)"
   ]
  },
  {
   "cell_type": "markdown",
   "metadata": {},
   "source": [
    "##### Momentum Functions"
   ]
  },
  {
   "cell_type": "code",
   "execution_count": 16,
   "metadata": {},
   "outputs": [],
   "source": [
    "adx = ta.ADX(df['High'], df['Low'], df['Close'], timeperiod=5)"
   ]
  },
  {
   "cell_type": "code",
   "execution_count": 17,
   "metadata": {},
   "outputs": [],
   "source": [
    "adxr = ta.ADXR(df['High'], df['Low'], df['Close'], timeperiod=10)"
   ]
  },
  {
   "cell_type": "code",
   "execution_count": 18,
   "metadata": {},
   "outputs": [],
   "source": [
    "cci = ta.CCI(df['High'], df['Low'], df['Close'], timeperiod=10)"
   ]
  },
  {
   "cell_type": "code",
   "execution_count": 19,
   "metadata": {},
   "outputs": [],
   "source": [
    "macd, macdsignal, macdhist = ta.MACD(df['Close'], fastperiod=5, slowperiod=10, signalperiod=5)"
   ]
  },
  {
   "cell_type": "code",
   "execution_count": 20,
   "metadata": {},
   "outputs": [],
   "source": [
    "mom = ta.MOM(df['Close'], timeperiod=10)"
   ]
  },
  {
   "cell_type": "code",
   "execution_count": 21,
   "metadata": {},
   "outputs": [],
   "source": [
    "roc = ta.ROC(df['Close'], timeperiod=10)"
   ]
  },
  {
   "cell_type": "code",
   "execution_count": 22,
   "metadata": {},
   "outputs": [],
   "source": [
    "rsi = ta.RSI(df['Close'], timeperiod=10)"
   ]
  },
  {
   "cell_type": "code",
   "execution_count": 23,
   "metadata": {},
   "outputs": [],
   "source": [
    "slowk, slowd = ta.STOCH(df['High'], df['Low'], df['Close'], fastk_period=5, slowk_period=10, slowk_matype=0, slowd_period=10, slowd_matype=0)"
   ]
  },
  {
   "cell_type": "code",
   "execution_count": 24,
   "metadata": {},
   "outputs": [],
   "source": [
    "willr = ta.WILLR(df['High'], df['Low'], df['Close'], timeperiod=10)"
   ]
  },
  {
   "cell_type": "markdown",
   "metadata": {},
   "source": [
    "##### Volume Functions"
   ]
  },
  {
   "cell_type": "code",
   "execution_count": 25,
   "metadata": {},
   "outputs": [],
   "source": [
    "adosc = ta.ADOSC(df['High'], df['Low'], df['Close'], df['Volume'], fastperiod=5, slowperiod=10)"
   ]
  },
  {
   "cell_type": "code",
   "execution_count": 26,
   "metadata": {},
   "outputs": [],
   "source": [
    "obv = ta.OBV(df['Close'], df['Volume'])"
   ]
  },
  {
   "cell_type": "markdown",
   "metadata": {},
   "source": [
    "##### Volatility Functions"
   ]
  },
  {
   "cell_type": "code",
   "execution_count": 27,
   "metadata": {},
   "outputs": [],
   "source": [
    "atr = ta.ATR(df['High'], df['Low'], df['Close'], timeperiod=10)"
   ]
  },
  {
   "cell_type": "code",
   "execution_count": 28,
   "metadata": {},
   "outputs": [],
   "source": [
    "trange = ta.TRANGE(df['High'], df['Low'], df['Close'])"
   ]
  },
  {
   "cell_type": "code",
   "execution_count": 29,
   "metadata": {},
   "outputs": [],
   "source": [
    "# Function to create the technical indicators\n",
    "def generate_technical_indicators(dataset):\n",
    "    dataset['upperband'], dataset['middleband'], dataset['lowerband'] = ta.BBANDS(dataset['Close'], timeperiod=5, nbdevup=2, nbdevdn=2, matype=0)\n",
    "    dataset['ema'] = ta.EMA(dataset['Close'], timeperiod=10)\n",
    "    dataset['sma'] = ta.SMA(dataset['Close'], timeperiod=10)\n",
    "    dataset['tema'] = ta.TEMA(dataset['Close'], timeperiod=10)\n",
    "    dataset['wma'] = ta.WMA(dataset['Close'], timeperiod=10)\n",
    "    dataset['adx'] = ta.ADX(dataset['High'], dataset['Low'], dataset['Close'], timeperiod=5)\n",
    "    dataset['adxr'] = ta.ADXR(dataset['High'], dataset['Low'], dataset['Close'], timeperiod=10)\n",
    "    dataset['cci'] = ta.CCI(dataset['High'], dataset['Low'], dataset['Close'], timeperiod=10)\n",
    "    dataset['macd'], dataset['macdsignal'], dataset['macdhist'] = ta.MACD(dataset['Close'], fastperiod=5, slowperiod=10, signalperiod=5)\n",
    "    dataset['mom'] = ta.MOM(dataset['Close'], timeperiod=10)\n",
    "    dataset['roc'] = ta.ROC(dataset['Close'], timeperiod=10)\n",
    "    dataset['rsi'] = ta.RSI(dataset['Close'], timeperiod=10)\n",
    "    dataset['slowk'], dataset['slowd'] = ta.STOCH(dataset['High'], dataset['Low'], dataset['Close'], fastk_period=5, slowk_period=10, slowk_matype=0, slowd_period=10, slowd_matype=0)\n",
    "    dataset['willr'] = ta.WILLR(dataset['High'], dataset['Low'], dataset['Close'], timeperiod=10)\n",
    "    dataset['adosc'] = ta.ADOSC(dataset['High'], dataset['Low'], dataset['Close'], dataset['Volume'], fastperiod=5, slowperiod=10)\n",
    "    dataset['obv'] = ta.OBV(dataset['Close'], dataset['Volume'])\n",
    "    dataset['atr'] = ta.ATR(dataset['High'], dataset['Low'], dataset['Close'], timeperiod=10)\n",
    "    dataset['trange'] = ta.TRANGE(dataset['High'], dataset['Low'], dataset['Close'])\n",
    "\n",
    "    dataset = dataset.drop(['Open', 'High', 'Low', 'Adj Close', 'Volume'], axis=1)\n",
    "\n",
    "    # Formatting the data to match the model's training format\n",
    "    close_column = dataset.pop('Close')\n",
    "    dataset['Close'] = close_column\n",
    "\n",
    "    return dataset"
   ]
  },
  {
   "cell_type": "markdown",
   "metadata": {},
   "source": [
    "### Implementing the Deep Learning model"
   ]
  },
  {
   "cell_type": "code",
   "execution_count": 30,
   "metadata": {},
   "outputs": [],
   "source": [
    "import warnings\n",
    "\n",
    "with warnings.catch_warnings():\n",
    "    warnings.simplefilter(\"ignore\")\n",
    "\n",
    "    df = generate_technical_indicators(df)"
   ]
  },
  {
   "cell_type": "code",
   "execution_count": 31,
   "metadata": {},
   "outputs": [
    {
     "data": {
      "text/html": [
       "<div>\n",
       "<style scoped>\n",
       "    .dataframe tbody tr th:only-of-type {\n",
       "        vertical-align: middle;\n",
       "    }\n",
       "\n",
       "    .dataframe tbody tr th {\n",
       "        vertical-align: top;\n",
       "    }\n",
       "\n",
       "    .dataframe thead th {\n",
       "        text-align: right;\n",
       "    }\n",
       "</style>\n",
       "<table border=\"1\" class=\"dataframe\">\n",
       "  <thead>\n",
       "    <tr style=\"text-align: right;\">\n",
       "      <th></th>\n",
       "      <th>upperband</th>\n",
       "      <th>middleband</th>\n",
       "      <th>lowerband</th>\n",
       "      <th>ema</th>\n",
       "      <th>sma</th>\n",
       "      <th>tema</th>\n",
       "      <th>wma</th>\n",
       "      <th>adx</th>\n",
       "      <th>adxr</th>\n",
       "      <th>cci</th>\n",
       "      <th>...</th>\n",
       "      <th>roc</th>\n",
       "      <th>rsi</th>\n",
       "      <th>slowk</th>\n",
       "      <th>slowd</th>\n",
       "      <th>willr</th>\n",
       "      <th>adosc</th>\n",
       "      <th>obv</th>\n",
       "      <th>atr</th>\n",
       "      <th>trange</th>\n",
       "      <th>Close</th>\n",
       "    </tr>\n",
       "    <tr>\n",
       "      <th>Date</th>\n",
       "      <th></th>\n",
       "      <th></th>\n",
       "      <th></th>\n",
       "      <th></th>\n",
       "      <th></th>\n",
       "      <th></th>\n",
       "      <th></th>\n",
       "      <th></th>\n",
       "      <th></th>\n",
       "      <th></th>\n",
       "      <th></th>\n",
       "      <th></th>\n",
       "      <th></th>\n",
       "      <th></th>\n",
       "      <th></th>\n",
       "      <th></th>\n",
       "      <th></th>\n",
       "      <th></th>\n",
       "      <th></th>\n",
       "      <th></th>\n",
       "      <th></th>\n",
       "    </tr>\n",
       "  </thead>\n",
       "  <tbody>\n",
       "    <tr>\n",
       "      <th>2019-04-24</th>\n",
       "      <td>NaN</td>\n",
       "      <td>NaN</td>\n",
       "      <td>NaN</td>\n",
       "      <td>NaN</td>\n",
       "      <td>NaN</td>\n",
       "      <td>NaN</td>\n",
       "      <td>NaN</td>\n",
       "      <td>NaN</td>\n",
       "      <td>NaN</td>\n",
       "      <td>NaN</td>\n",
       "      <td>...</td>\n",
       "      <td>NaN</td>\n",
       "      <td>NaN</td>\n",
       "      <td>NaN</td>\n",
       "      <td>NaN</td>\n",
       "      <td>NaN</td>\n",
       "      <td>NaN</td>\n",
       "      <td>1.704803e+10</td>\n",
       "      <td>NaN</td>\n",
       "      <td>NaN</td>\n",
       "      <td>5464.866699</td>\n",
       "    </tr>\n",
       "    <tr>\n",
       "      <th>2019-04-25</th>\n",
       "      <td>NaN</td>\n",
       "      <td>NaN</td>\n",
       "      <td>NaN</td>\n",
       "      <td>NaN</td>\n",
       "      <td>NaN</td>\n",
       "      <td>NaN</td>\n",
       "      <td>NaN</td>\n",
       "      <td>NaN</td>\n",
       "      <td>NaN</td>\n",
       "      <td>NaN</td>\n",
       "      <td>...</td>\n",
       "      <td>NaN</td>\n",
       "      <td>NaN</td>\n",
       "      <td>NaN</td>\n",
       "      <td>NaN</td>\n",
       "      <td>NaN</td>\n",
       "      <td>NaN</td>\n",
       "      <td>1.717750e+09</td>\n",
       "      <td>NaN</td>\n",
       "      <td>360.899414</td>\n",
       "      <td>5210.515625</td>\n",
       "    </tr>\n",
       "    <tr>\n",
       "      <th>2019-04-26</th>\n",
       "      <td>NaN</td>\n",
       "      <td>NaN</td>\n",
       "      <td>NaN</td>\n",
       "      <td>NaN</td>\n",
       "      <td>NaN</td>\n",
       "      <td>NaN</td>\n",
       "      <td>NaN</td>\n",
       "      <td>NaN</td>\n",
       "      <td>NaN</td>\n",
       "      <td>NaN</td>\n",
       "      <td>...</td>\n",
       "      <td>NaN</td>\n",
       "      <td>NaN</td>\n",
       "      <td>NaN</td>\n",
       "      <td>NaN</td>\n",
       "      <td>NaN</td>\n",
       "      <td>NaN</td>\n",
       "      <td>1.852986e+10</td>\n",
       "      <td>NaN</td>\n",
       "      <td>206.265625</td>\n",
       "      <td>5279.348145</td>\n",
       "    </tr>\n",
       "    <tr>\n",
       "      <th>2019-04-27</th>\n",
       "      <td>NaN</td>\n",
       "      <td>NaN</td>\n",
       "      <td>NaN</td>\n",
       "      <td>NaN</td>\n",
       "      <td>NaN</td>\n",
       "      <td>NaN</td>\n",
       "      <td>NaN</td>\n",
       "      <td>NaN</td>\n",
       "      <td>NaN</td>\n",
       "      <td>NaN</td>\n",
       "      <td>...</td>\n",
       "      <td>NaN</td>\n",
       "      <td>NaN</td>\n",
       "      <td>NaN</td>\n",
       "      <td>NaN</td>\n",
       "      <td>NaN</td>\n",
       "      <td>NaN</td>\n",
       "      <td>5.418583e+09</td>\n",
       "      <td>NaN</td>\n",
       "      <td>77.114258</td>\n",
       "      <td>5268.291016</td>\n",
       "    </tr>\n",
       "    <tr>\n",
       "      <th>2019-04-28</th>\n",
       "      <td>5473.278197</td>\n",
       "      <td>5301.632129</td>\n",
       "      <td>5129.986060</td>\n",
       "      <td>NaN</td>\n",
       "      <td>NaN</td>\n",
       "      <td>NaN</td>\n",
       "      <td>NaN</td>\n",
       "      <td>NaN</td>\n",
       "      <td>NaN</td>\n",
       "      <td>NaN</td>\n",
       "      <td>...</td>\n",
       "      <td>NaN</td>\n",
       "      <td>NaN</td>\n",
       "      <td>NaN</td>\n",
       "      <td>NaN</td>\n",
       "      <td>NaN</td>\n",
       "      <td>NaN</td>\n",
       "      <td>1.823858e+10</td>\n",
       "      <td>NaN</td>\n",
       "      <td>70.548340</td>\n",
       "      <td>5285.139160</td>\n",
       "    </tr>\n",
       "    <tr>\n",
       "      <th>...</th>\n",
       "      <td>...</td>\n",
       "      <td>...</td>\n",
       "      <td>...</td>\n",
       "      <td>...</td>\n",
       "      <td>...</td>\n",
       "      <td>...</td>\n",
       "      <td>...</td>\n",
       "      <td>...</td>\n",
       "      <td>...</td>\n",
       "      <td>...</td>\n",
       "      <td>...</td>\n",
       "      <td>...</td>\n",
       "      <td>...</td>\n",
       "      <td>...</td>\n",
       "      <td>...</td>\n",
       "      <td>...</td>\n",
       "      <td>...</td>\n",
       "      <td>...</td>\n",
       "      <td>...</td>\n",
       "      <td>...</td>\n",
       "      <td>...</td>\n",
       "    </tr>\n",
       "    <tr>\n",
       "      <th>2024-04-20</th>\n",
       "      <td>65919.518930</td>\n",
       "      <td>63487.864062</td>\n",
       "      <td>61056.209195</td>\n",
       "      <td>64876.645542</td>\n",
       "      <td>64768.220703</td>\n",
       "      <td>63187.370842</td>\n",
       "      <td>64008.169460</td>\n",
       "      <td>42.744867</td>\n",
       "      <td>21.902715</td>\n",
       "      <td>-5.049588</td>\n",
       "      <td>...</td>\n",
       "      <td>-7.924082</td>\n",
       "      <td>46.990416</td>\n",
       "      <td>42.163335</td>\n",
       "      <td>48.438781</td>\n",
       "      <td>-53.958443</td>\n",
       "      <td>1.670105e+10</td>\n",
       "      <td>1.353540e+12</td>\n",
       "      <td>3755.632220</td>\n",
       "      <td>2270.054688</td>\n",
       "      <td>64994.441406</td>\n",
       "    </tr>\n",
       "    <tr>\n",
       "      <th>2024-04-21</th>\n",
       "      <td>66410.116227</td>\n",
       "      <td>63710.820312</td>\n",
       "      <td>61011.524398</td>\n",
       "      <td>64885.736267</td>\n",
       "      <td>64254.824219</td>\n",
       "      <td>63729.809141</td>\n",
       "      <td>64036.973793</td>\n",
       "      <td>37.954329</td>\n",
       "      <td>22.246179</td>\n",
       "      <td>49.857924</td>\n",
       "      <td>...</td>\n",
       "      <td>-7.327891</td>\n",
       "      <td>46.779166</td>\n",
       "      <td>45.945116</td>\n",
       "      <td>47.547238</td>\n",
       "      <td>-54.411083</td>\n",
       "      <td>1.730615e+10</td>\n",
       "      <td>1.333034e+12</td>\n",
       "      <td>3524.620951</td>\n",
       "      <td>1445.519531</td>\n",
       "      <td>64926.644531</td>\n",
       "    </tr>\n",
       "    <tr>\n",
       "      <th>2024-04-22</th>\n",
       "      <td>67151.123795</td>\n",
       "      <td>64823.017969</td>\n",
       "      <td>62494.912142</td>\n",
       "      <td>65240.635071</td>\n",
       "      <td>64219.005469</td>\n",
       "      <td>64995.732318</td>\n",
       "      <td>64506.583878</td>\n",
       "      <td>33.949932</td>\n",
       "      <td>22.686676</td>\n",
       "      <td>151.376167</td>\n",
       "      <td>...</td>\n",
       "      <td>-0.533050</td>\n",
       "      <td>53.347799</td>\n",
       "      <td>52.820759</td>\n",
       "      <td>47.209777</td>\n",
       "      <td>-13.209479</td>\n",
       "      <td>1.960805e+10</td>\n",
       "      <td>1.361316e+12</td>\n",
       "      <td>3440.736981</td>\n",
       "      <td>2685.781250</td>\n",
       "      <td>66837.679688</td>\n",
       "    </tr>\n",
       "    <tr>\n",
       "      <th>2024-04-23</th>\n",
       "      <td>67573.100493</td>\n",
       "      <td>65401.921875</td>\n",
       "      <td>63230.743257</td>\n",
       "      <td>65452.751137</td>\n",
       "      <td>64477.585547</td>\n",
       "      <td>65666.194426</td>\n",
       "      <td>64904.450781</td>\n",
       "      <td>30.746415</td>\n",
       "      <td>23.083123</td>\n",
       "      <td>131.113623</td>\n",
       "      <td>...</td>\n",
       "      <td>4.051616</td>\n",
       "      <td>51.749468</td>\n",
       "      <td>59.048945</td>\n",
       "      <td>47.435387</td>\n",
       "      <td>-10.902471</td>\n",
       "      <td>1.898635e+10</td>\n",
       "      <td>1.337005e+12</td>\n",
       "      <td>3230.100783</td>\n",
       "      <td>1334.375000</td>\n",
       "      <td>66407.273438</td>\n",
       "    </tr>\n",
       "    <tr>\n",
       "      <th>2024-04-24</th>\n",
       "      <td>67438.048845</td>\n",
       "      <td>65480.697656</td>\n",
       "      <td>63523.346468</td>\n",
       "      <td>65231.787152</td>\n",
       "      <td>64327.457812</td>\n",
       "      <td>65132.304292</td>\n",
       "      <td>64860.789631</td>\n",
       "      <td>30.652122</td>\n",
       "      <td>23.791124</td>\n",
       "      <td>42.108210</td>\n",
       "      <td>...</td>\n",
       "      <td>-2.283703</td>\n",
       "      <td>44.312737</td>\n",
       "      <td>57.008770</td>\n",
       "      <td>47.569940</td>\n",
       "      <td>-39.518417</td>\n",
       "      <td>1.449158e+10</td>\n",
       "      <td>1.307873e+12</td>\n",
       "      <td>3242.212189</td>\n",
       "      <td>3351.214844</td>\n",
       "      <td>64237.449219</td>\n",
       "    </tr>\n",
       "  </tbody>\n",
       "</table>\n",
       "<p>1828 rows × 24 columns</p>\n",
       "</div>"
      ],
      "text/plain": [
       "               upperband    middleband     lowerband           ema  \\\n",
       "Date                                                                 \n",
       "2019-04-24           NaN           NaN           NaN           NaN   \n",
       "2019-04-25           NaN           NaN           NaN           NaN   \n",
       "2019-04-26           NaN           NaN           NaN           NaN   \n",
       "2019-04-27           NaN           NaN           NaN           NaN   \n",
       "2019-04-28   5473.278197   5301.632129   5129.986060           NaN   \n",
       "...                  ...           ...           ...           ...   \n",
       "2024-04-20  65919.518930  63487.864062  61056.209195  64876.645542   \n",
       "2024-04-21  66410.116227  63710.820312  61011.524398  64885.736267   \n",
       "2024-04-22  67151.123795  64823.017969  62494.912142  65240.635071   \n",
       "2024-04-23  67573.100493  65401.921875  63230.743257  65452.751137   \n",
       "2024-04-24  67438.048845  65480.697656  63523.346468  65231.787152   \n",
       "\n",
       "                     sma          tema           wma        adx       adxr  \\\n",
       "Date                                                                         \n",
       "2019-04-24           NaN           NaN           NaN        NaN        NaN   \n",
       "2019-04-25           NaN           NaN           NaN        NaN        NaN   \n",
       "2019-04-26           NaN           NaN           NaN        NaN        NaN   \n",
       "2019-04-27           NaN           NaN           NaN        NaN        NaN   \n",
       "2019-04-28           NaN           NaN           NaN        NaN        NaN   \n",
       "...                  ...           ...           ...        ...        ...   \n",
       "2024-04-20  64768.220703  63187.370842  64008.169460  42.744867  21.902715   \n",
       "2024-04-21  64254.824219  63729.809141  64036.973793  37.954329  22.246179   \n",
       "2024-04-22  64219.005469  64995.732318  64506.583878  33.949932  22.686676   \n",
       "2024-04-23  64477.585547  65666.194426  64904.450781  30.746415  23.083123   \n",
       "2024-04-24  64327.457812  65132.304292  64860.789631  30.652122  23.791124   \n",
       "\n",
       "                   cci  ...       roc        rsi      slowk      slowd  \\\n",
       "Date                    ...                                              \n",
       "2019-04-24         NaN  ...       NaN        NaN        NaN        NaN   \n",
       "2019-04-25         NaN  ...       NaN        NaN        NaN        NaN   \n",
       "2019-04-26         NaN  ...       NaN        NaN        NaN        NaN   \n",
       "2019-04-27         NaN  ...       NaN        NaN        NaN        NaN   \n",
       "2019-04-28         NaN  ...       NaN        NaN        NaN        NaN   \n",
       "...                ...  ...       ...        ...        ...        ...   \n",
       "2024-04-20   -5.049588  ... -7.924082  46.990416  42.163335  48.438781   \n",
       "2024-04-21   49.857924  ... -7.327891  46.779166  45.945116  47.547238   \n",
       "2024-04-22  151.376167  ... -0.533050  53.347799  52.820759  47.209777   \n",
       "2024-04-23  131.113623  ...  4.051616  51.749468  59.048945  47.435387   \n",
       "2024-04-24   42.108210  ... -2.283703  44.312737  57.008770  47.569940   \n",
       "\n",
       "                willr         adosc           obv          atr       trange  \\\n",
       "Date                                                                          \n",
       "2019-04-24        NaN           NaN  1.704803e+10          NaN          NaN   \n",
       "2019-04-25        NaN           NaN  1.717750e+09          NaN   360.899414   \n",
       "2019-04-26        NaN           NaN  1.852986e+10          NaN   206.265625   \n",
       "2019-04-27        NaN           NaN  5.418583e+09          NaN    77.114258   \n",
       "2019-04-28        NaN           NaN  1.823858e+10          NaN    70.548340   \n",
       "...               ...           ...           ...          ...          ...   \n",
       "2024-04-20 -53.958443  1.670105e+10  1.353540e+12  3755.632220  2270.054688   \n",
       "2024-04-21 -54.411083  1.730615e+10  1.333034e+12  3524.620951  1445.519531   \n",
       "2024-04-22 -13.209479  1.960805e+10  1.361316e+12  3440.736981  2685.781250   \n",
       "2024-04-23 -10.902471  1.898635e+10  1.337005e+12  3230.100783  1334.375000   \n",
       "2024-04-24 -39.518417  1.449158e+10  1.307873e+12  3242.212189  3351.214844   \n",
       "\n",
       "                   Close  \n",
       "Date                      \n",
       "2019-04-24   5464.866699  \n",
       "2019-04-25   5210.515625  \n",
       "2019-04-26   5279.348145  \n",
       "2019-04-27   5268.291016  \n",
       "2019-04-28   5285.139160  \n",
       "...                  ...  \n",
       "2024-04-20  64994.441406  \n",
       "2024-04-21  64926.644531  \n",
       "2024-04-22  66837.679688  \n",
       "2024-04-23  66407.273438  \n",
       "2024-04-24  64237.449219  \n",
       "\n",
       "[1828 rows x 24 columns]"
      ]
     },
     "execution_count": 31,
     "metadata": {},
     "output_type": "execute_result"
    }
   ],
   "source": [
    "df"
   ]
  },
  {
   "cell_type": "code",
   "execution_count": 32,
   "metadata": {},
   "outputs": [],
   "source": [
    "# Replacing NaN values with zero in the DataFrame\n",
    "df.fillna(0, inplace=True)"
   ]
  },
  {
   "cell_type": "code",
   "execution_count": 33,
   "metadata": {},
   "outputs": [
    {
     "data": {
      "text/plain": [
       "upperband     False\n",
       "middleband    False\n",
       "lowerband     False\n",
       "ema           False\n",
       "sma           False\n",
       "tema          False\n",
       "wma           False\n",
       "adx           False\n",
       "adxr          False\n",
       "cci           False\n",
       "macd          False\n",
       "macdsignal    False\n",
       "macdhist      False\n",
       "mom           False\n",
       "roc           False\n",
       "rsi           False\n",
       "slowk         False\n",
       "slowd         False\n",
       "willr         False\n",
       "adosc         False\n",
       "obv           False\n",
       "atr           False\n",
       "trange        False\n",
       "Close         False\n",
       "dtype: bool"
      ]
     },
     "execution_count": 33,
     "metadata": {},
     "output_type": "execute_result"
    }
   ],
   "source": [
    "df.isna().any()"
   ]
  },
  {
   "cell_type": "code",
   "execution_count": 34,
   "metadata": {},
   "outputs": [
    {
     "data": {
      "text/plain": [
       "<matplotlib.legend.Legend at 0x23c44728fd0>"
      ]
     },
     "execution_count": 34,
     "metadata": {},
     "output_type": "execute_result"
    },
    {
     "data": {
      "image/png": "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",
      "text/plain": [
       "<Figure size 1224x504 with 1 Axes>"
      ]
     },
     "metadata": {
      "needs_background": "dark"
     },
     "output_type": "display_data"
    }
   ],
   "source": [
    "# Plotting the train data, validation data and test data of the model\n",
    "dates = df.index\n",
    "train_data = int(len(dates) * .7)\n",
    "val_data = int((train_data * .2) + train_data) # 20% of the train data\n",
    "\n",
    "dates_train, y_train = dates[:train_data], df.iloc[:train_data, -1]\n",
    "dates_val, y_val = dates[train_data:val_data], df.iloc[train_data:val_data, -1]\n",
    "dates_test, y_test = dates[val_data:], df.iloc[val_data:, -1]\n",
    "\n",
    "plt.figure(figsize=(17, 7))\n",
    "plt.style.use('dark_background')\n",
    "plt.plot(dates_train, y_train)\n",
    "plt.plot(dates_val, y_val)\n",
    "plt.plot(dates_test, y_test)\n",
    "\n",
    "plt.legend(['Train', 'Validation', 'Test'])"
   ]
  },
  {
   "cell_type": "code",
   "execution_count": 35,
   "metadata": {},
   "outputs": [
    {
     "data": {
      "text/plain": [
       "(1828, 24)"
      ]
     },
     "execution_count": 35,
     "metadata": {},
     "output_type": "execute_result"
    }
   ],
   "source": [
    "# Normalization of the data in the range of [0, 1] to have a better performance of the algorithm\n",
    "scaler = MinMaxScaler(feature_range=(0, 1))\n",
    "\n",
    "scaled_data = df.copy()\n",
    "\n",
    "# Normalization of each column independently\n",
    "for column in scaled_data.columns:\n",
    "    \n",
    "    column_data = scaled_data[[column]]\n",
    "    \n",
    "    scaled_column = scaler.fit_transform(column_data)\n",
    "    \n",
    "    scaled_data[column] = scaled_column.flatten()\n",
    "\n",
    "# Verifying the normalized DataFrame\n",
    "scaled_data = scaled_data.values\n",
    "scaled_data.shape"
   ]
  },
  {
   "cell_type": "code",
   "execution_count": 36,
   "metadata": {},
   "outputs": [
    {
     "data": {
      "text/plain": [
       "((1826, 2, 24), (1826,))"
      ]
     },
     "execution_count": 36,
     "metadata": {},
     "output_type": "execute_result"
    }
   ],
   "source": [
    "# Preparing the data for the model\n",
    "n = 2  # Number of days before of the model tries to predict the next price value\n",
    "def prepare_data(data, n_steps):\n",
    "    X, y = [], []\n",
    "    for i in range(len(data) - n_steps):\n",
    "        row = [r for r in data[i:i + n_steps]]  # Selecting all the data of the row to learn to predict the next price value\n",
    "        X.append(row)\n",
    "        label = data[i + n_steps][-1]  # Value of the price that the model will predict\n",
    "        y.append(label)\n",
    "    return np.array(X), np.array(y)\n",
    "\n",
    "X, y = prepare_data(scaled_data, n)\n",
    "X.shape, y.shape"
   ]
  },
  {
   "cell_type": "code",
   "execution_count": 37,
   "metadata": {},
   "outputs": [
    {
     "data": {
      "text/plain": [
       "((1278, 2, 24), (1278,), (255, 2, 24), (255,), (293, 2, 24), (293,))"
      ]
     },
     "execution_count": 37,
     "metadata": {},
     "output_type": "execute_result"
    }
   ],
   "source": [
    "# Selecting the train data, validation data and test data\n",
    "train_data = int(len(X) * .7)\n",
    "val_data = int((train_data * .2) + train_data)\n",
    "\n",
    "X_train, X_val, X_test = X[:train_data], X[train_data:val_data], X[val_data:]\n",
    "y_train, y_val, y_test = y[:train_data], y[train_data:val_data], y[val_data:]\n",
    "\n",
    "X_train.shape, y_train.shape, X_val.shape, y_val.shape, X_test.shape, y_test.shape"
   ]
  },
  {
   "cell_type": "code",
   "execution_count": 38,
   "metadata": {},
   "outputs": [
    {
     "name": "stderr",
     "output_type": "stream",
     "text": [
      "c:\\Users\\celio\\AppData\\Local\\Programs\\Python\\Python310\\lib\\site-packages\\keras\\src\\layers\\rnn\\rnn.py:204: UserWarning: Do not pass an `input_shape`/`input_dim` argument to a layer. When using Sequential models, prefer using an `Input(shape)` object as the first layer in the model instead.\n",
      "  super().__init__(**kwargs)\n"
     ]
    },
    {
     "data": {
      "text/html": [
       "<pre style=\"white-space:pre;overflow-x:auto;line-height:normal;font-family:Menlo,'DejaVu Sans Mono',consolas,'Courier New',monospace\"><span style=\"font-weight: bold\">Model: \"sequential\"</span>\n",
       "</pre>\n"
      ],
      "text/plain": [
       "\u001b[1mModel: \"sequential\"\u001b[0m\n"
      ]
     },
     "metadata": {},
     "output_type": "display_data"
    },
    {
     "data": {
      "text/html": [
       "<pre style=\"white-space:pre;overflow-x:auto;line-height:normal;font-family:Menlo,'DejaVu Sans Mono',consolas,'Courier New',monospace\">┏━━━━━━━━━━━━━━━━━━━━━━━━━━━━━━━━━┳━━━━━━━━━━━━━━━━━━━━━━━━┳━━━━━━━━━━━━━━━┓\n",
       "┃<span style=\"font-weight: bold\"> Layer (type)                    </span>┃<span style=\"font-weight: bold\"> Output Shape           </span>┃<span style=\"font-weight: bold\">       Param # </span>┃\n",
       "┡━━━━━━━━━━━━━━━━━━━━━━━━━━━━━━━━━╇━━━━━━━━━━━━━━━━━━━━━━━━╇━━━━━━━━━━━━━━━┩\n",
       "│ lstm (<span style=\"color: #0087ff; text-decoration-color: #0087ff\">LSTM</span>)                     │ (<span style=\"color: #00d7ff; text-decoration-color: #00d7ff\">None</span>, <span style=\"color: #00af00; text-decoration-color: #00af00\">200</span>)            │       <span style=\"color: #00af00; text-decoration-color: #00af00\">180,000</span> │\n",
       "├─────────────────────────────────┼────────────────────────┼───────────────┤\n",
       "│ dense (<span style=\"color: #0087ff; text-decoration-color: #0087ff\">Dense</span>)                   │ (<span style=\"color: #00d7ff; text-decoration-color: #00d7ff\">None</span>, <span style=\"color: #00af00; text-decoration-color: #00af00\">1</span>)              │           <span style=\"color: #00af00; text-decoration-color: #00af00\">201</span> │\n",
       "└─────────────────────────────────┴────────────────────────┴───────────────┘\n",
       "</pre>\n"
      ],
      "text/plain": [
       "┏━━━━━━━━━━━━━━━━━━━━━━━━━━━━━━━━━┳━━━━━━━━━━━━━━━━━━━━━━━━┳━━━━━━━━━━━━━━━┓\n",
       "┃\u001b[1m \u001b[0m\u001b[1mLayer (type)                   \u001b[0m\u001b[1m \u001b[0m┃\u001b[1m \u001b[0m\u001b[1mOutput Shape          \u001b[0m\u001b[1m \u001b[0m┃\u001b[1m \u001b[0m\u001b[1m      Param #\u001b[0m\u001b[1m \u001b[0m┃\n",
       "┡━━━━━━━━━━━━━━━━━━━━━━━━━━━━━━━━━╇━━━━━━━━━━━━━━━━━━━━━━━━╇━━━━━━━━━━━━━━━┩\n",
       "│ lstm (\u001b[38;5;33mLSTM\u001b[0m)                     │ (\u001b[38;5;45mNone\u001b[0m, \u001b[38;5;34m200\u001b[0m)            │       \u001b[38;5;34m180,000\u001b[0m │\n",
       "├─────────────────────────────────┼────────────────────────┼───────────────┤\n",
       "│ dense (\u001b[38;5;33mDense\u001b[0m)                   │ (\u001b[38;5;45mNone\u001b[0m, \u001b[38;5;34m1\u001b[0m)              │           \u001b[38;5;34m201\u001b[0m │\n",
       "└─────────────────────────────────┴────────────────────────┴───────────────┘\n"
      ]
     },
     "metadata": {},
     "output_type": "display_data"
    },
    {
     "data": {
      "text/html": [
       "<pre style=\"white-space:pre;overflow-x:auto;line-height:normal;font-family:Menlo,'DejaVu Sans Mono',consolas,'Courier New',monospace\"><span style=\"font-weight: bold\"> Total params: </span><span style=\"color: #00af00; text-decoration-color: #00af00\">180,201</span> (703.91 KB)\n",
       "</pre>\n"
      ],
      "text/plain": [
       "\u001b[1m Total params: \u001b[0m\u001b[38;5;34m180,201\u001b[0m (703.91 KB)\n"
      ]
     },
     "metadata": {},
     "output_type": "display_data"
    },
    {
     "data": {
      "text/html": [
       "<pre style=\"white-space:pre;overflow-x:auto;line-height:normal;font-family:Menlo,'DejaVu Sans Mono',consolas,'Courier New',monospace\"><span style=\"font-weight: bold\"> Trainable params: </span><span style=\"color: #00af00; text-decoration-color: #00af00\">180,201</span> (703.91 KB)\n",
       "</pre>\n"
      ],
      "text/plain": [
       "\u001b[1m Trainable params: \u001b[0m\u001b[38;5;34m180,201\u001b[0m (703.91 KB)\n"
      ]
     },
     "metadata": {},
     "output_type": "display_data"
    },
    {
     "data": {
      "text/html": [
       "<pre style=\"white-space:pre;overflow-x:auto;line-height:normal;font-family:Menlo,'DejaVu Sans Mono',consolas,'Courier New',monospace\"><span style=\"font-weight: bold\"> Non-trainable params: </span><span style=\"color: #00af00; text-decoration-color: #00af00\">0</span> (0.00 B)\n",
       "</pre>\n"
      ],
      "text/plain": [
       "\u001b[1m Non-trainable params: \u001b[0m\u001b[38;5;34m0\u001b[0m (0.00 B)\n"
      ]
     },
     "metadata": {},
     "output_type": "display_data"
    }
   ],
   "source": [
    "# Building the LSTM model\n",
    "model = Sequential([\n",
    "    LSTM(200, activation='tanh', input_shape=(X_train.shape[1], X_train.shape[2])),\n",
    "    Dense(1)\n",
    "])\n",
    "\n",
    "model.summary()"
   ]
  },
  {
   "cell_type": "code",
   "execution_count": 39,
   "metadata": {},
   "outputs": [
    {
     "name": "stdout",
     "output_type": "stream",
     "text": [
      "Epoch 1/50\n",
      "\u001b[1m40/40\u001b[0m \u001b[32m━━━━━━━━━━━━━━━━━━━━\u001b[0m\u001b[37m\u001b[0m \u001b[1m2s\u001b[0m 12ms/step - loss: 0.0506 - val_loss: 7.9112e-04\n",
      "Epoch 2/50\n",
      "\u001b[1m40/40\u001b[0m \u001b[32m━━━━━━━━━━━━━━━━━━━━\u001b[0m\u001b[37m\u001b[0m \u001b[1m0s\u001b[0m 5ms/step - loss: 0.0014 - val_loss: 3.8031e-04\n",
      "Epoch 3/50\n",
      "\u001b[1m40/40\u001b[0m \u001b[32m━━━━━━━━━━━━━━━━━━━━\u001b[0m\u001b[37m\u001b[0m \u001b[1m0s\u001b[0m 7ms/step - loss: 7.2451e-04 - val_loss: 4.3172e-04\n",
      "Epoch 4/50\n",
      "\u001b[1m40/40\u001b[0m \u001b[32m━━━━━━━━━━━━━━━━━━━━\u001b[0m\u001b[37m\u001b[0m \u001b[1m0s\u001b[0m 8ms/step - loss: 6.3012e-04 - val_loss: 3.8634e-04\n",
      "Epoch 5/50\n",
      "\u001b[1m40/40\u001b[0m \u001b[32m━━━━━━━━━━━━━━━━━━━━\u001b[0m\u001b[37m\u001b[0m \u001b[1m0s\u001b[0m 7ms/step - loss: 5.4817e-04 - val_loss: 4.3082e-04\n",
      "Epoch 6/50\n",
      "\u001b[1m40/40\u001b[0m \u001b[32m━━━━━━━━━━━━━━━━━━━━\u001b[0m\u001b[37m\u001b[0m \u001b[1m0s\u001b[0m 5ms/step - loss: 5.9443e-04 - val_loss: 5.2495e-04\n",
      "Epoch 7/50\n",
      "\u001b[1m40/40\u001b[0m \u001b[32m━━━━━━━━━━━━━━━━━━━━\u001b[0m\u001b[37m\u001b[0m \u001b[1m0s\u001b[0m 4ms/step - loss: 4.7240e-04 - val_loss: 4.2323e-04\n",
      "Epoch 8/50\n",
      "\u001b[1m40/40\u001b[0m \u001b[32m━━━━━━━━━━━━━━━━━━━━\u001b[0m\u001b[37m\u001b[0m \u001b[1m0s\u001b[0m 5ms/step - loss: 4.5996e-04 - val_loss: 2.9225e-04\n",
      "Epoch 9/50\n",
      "\u001b[1m40/40\u001b[0m \u001b[32m━━━━━━━━━━━━━━━━━━━━\u001b[0m\u001b[37m\u001b[0m \u001b[1m0s\u001b[0m 4ms/step - loss: 4.5927e-04 - val_loss: 2.6693e-04\n",
      "Epoch 10/50\n",
      "\u001b[1m40/40\u001b[0m \u001b[32m━━━━━━━━━━━━━━━━━━━━\u001b[0m\u001b[37m\u001b[0m \u001b[1m0s\u001b[0m 4ms/step - loss: 4.2340e-04 - val_loss: 1.7451e-04\n",
      "Epoch 11/50\n",
      "\u001b[1m40/40\u001b[0m \u001b[32m━━━━━━━━━━━━━━━━━━━━\u001b[0m\u001b[37m\u001b[0m \u001b[1m0s\u001b[0m 4ms/step - loss: 4.5282e-04 - val_loss: 2.0086e-04\n",
      "Epoch 12/50\n",
      "\u001b[1m40/40\u001b[0m \u001b[32m━━━━━━━━━━━━━━━━━━━━\u001b[0m\u001b[37m\u001b[0m \u001b[1m0s\u001b[0m 4ms/step - loss: 4.1260e-04 - val_loss: 1.8977e-04\n",
      "Epoch 13/50\n",
      "\u001b[1m40/40\u001b[0m \u001b[32m━━━━━━━━━━━━━━━━━━━━\u001b[0m\u001b[37m\u001b[0m \u001b[1m0s\u001b[0m 4ms/step - loss: 4.0151e-04 - val_loss: 2.6032e-04\n",
      "Epoch 14/50\n",
      "\u001b[1m40/40\u001b[0m \u001b[32m━━━━━━━━━━━━━━━━━━━━\u001b[0m\u001b[37m\u001b[0m \u001b[1m0s\u001b[0m 4ms/step - loss: 4.0160e-04 - val_loss: 4.7499e-04\n",
      "Epoch 15/50\n",
      "\u001b[1m40/40\u001b[0m \u001b[32m━━━━━━━━━━━━━━━━━━━━\u001b[0m\u001b[37m\u001b[0m \u001b[1m0s\u001b[0m 4ms/step - loss: 3.9657e-04 - val_loss: 3.4775e-04\n",
      "Epoch 16/50\n",
      "\u001b[1m40/40\u001b[0m \u001b[32m━━━━━━━━━━━━━━━━━━━━\u001b[0m\u001b[37m\u001b[0m \u001b[1m0s\u001b[0m 4ms/step - loss: 4.2532e-04 - val_loss: 1.7062e-04\n",
      "Epoch 17/50\n",
      "\u001b[1m40/40\u001b[0m \u001b[32m━━━━━━━━━━━━━━━━━━━━\u001b[0m\u001b[37m\u001b[0m \u001b[1m0s\u001b[0m 4ms/step - loss: 3.4294e-04 - val_loss: 1.6240e-04\n",
      "Epoch 18/50\n",
      "\u001b[1m40/40\u001b[0m \u001b[32m━━━━━━━━━━━━━━━━━━━━\u001b[0m\u001b[37m\u001b[0m \u001b[1m0s\u001b[0m 4ms/step - loss: 4.1190e-04 - val_loss: 1.5301e-04\n",
      "Epoch 19/50\n",
      "\u001b[1m40/40\u001b[0m \u001b[32m━━━━━━━━━━━━━━━━━━━━\u001b[0m\u001b[37m\u001b[0m \u001b[1m0s\u001b[0m 4ms/step - loss: 3.7732e-04 - val_loss: 1.4229e-04\n",
      "Epoch 20/50\n",
      "\u001b[1m40/40\u001b[0m \u001b[32m━━━━━━━━━━━━━━━━━━━━\u001b[0m\u001b[37m\u001b[0m \u001b[1m0s\u001b[0m 4ms/step - loss: 3.7218e-04 - val_loss: 1.2358e-04\n",
      "Epoch 21/50\n",
      "\u001b[1m40/40\u001b[0m \u001b[32m━━━━━━━━━━━━━━━━━━━━\u001b[0m\u001b[37m\u001b[0m \u001b[1m0s\u001b[0m 5ms/step - loss: 4.0758e-04 - val_loss: 1.4043e-04\n",
      "Epoch 22/50\n",
      "\u001b[1m40/40\u001b[0m \u001b[32m━━━━━━━━━━━━━━━━━━━━\u001b[0m\u001b[37m\u001b[0m \u001b[1m0s\u001b[0m 6ms/step - loss: 3.7003e-04 - val_loss: 1.4903e-04\n",
      "Epoch 23/50\n",
      "\u001b[1m40/40\u001b[0m \u001b[32m━━━━━━━━━━━━━━━━━━━━\u001b[0m\u001b[37m\u001b[0m \u001b[1m0s\u001b[0m 8ms/step - loss: 3.3213e-04 - val_loss: 3.1738e-04\n",
      "Epoch 24/50\n",
      "\u001b[1m40/40\u001b[0m \u001b[32m━━━━━━━━━━━━━━━━━━━━\u001b[0m\u001b[37m\u001b[0m \u001b[1m0s\u001b[0m 8ms/step - loss: 3.7667e-04 - val_loss: 1.7118e-04\n",
      "Epoch 25/50\n",
      "\u001b[1m40/40\u001b[0m \u001b[32m━━━━━━━━━━━━━━━━━━━━\u001b[0m\u001b[37m\u001b[0m \u001b[1m0s\u001b[0m 10ms/step - loss: 3.3884e-04 - val_loss: 1.1729e-04\n",
      "Epoch 26/50\n",
      "\u001b[1m40/40\u001b[0m \u001b[32m━━━━━━━━━━━━━━━━━━━━\u001b[0m\u001b[37m\u001b[0m \u001b[1m0s\u001b[0m 6ms/step - loss: 4.6203e-04 - val_loss: 1.5716e-04\n",
      "Epoch 27/50\n",
      "\u001b[1m40/40\u001b[0m \u001b[32m━━━━━━━━━━━━━━━━━━━━\u001b[0m\u001b[37m\u001b[0m \u001b[1m0s\u001b[0m 5ms/step - loss: 3.7309e-04 - val_loss: 2.1809e-04\n",
      "Epoch 28/50\n",
      "\u001b[1m40/40\u001b[0m \u001b[32m━━━━━━━━━━━━━━━━━━━━\u001b[0m\u001b[37m\u001b[0m \u001b[1m0s\u001b[0m 5ms/step - loss: 3.5214e-04 - val_loss: 1.9140e-04\n",
      "Epoch 29/50\n",
      "\u001b[1m40/40\u001b[0m \u001b[32m━━━━━━━━━━━━━━━━━━━━\u001b[0m\u001b[37m\u001b[0m \u001b[1m0s\u001b[0m 5ms/step - loss: 3.3133e-04 - val_loss: 2.9846e-04\n",
      "Epoch 30/50\n",
      "\u001b[1m40/40\u001b[0m \u001b[32m━━━━━━━━━━━━━━━━━━━━\u001b[0m\u001b[37m\u001b[0m \u001b[1m0s\u001b[0m 5ms/step - loss: 3.7586e-04 - val_loss: 1.1366e-04\n",
      "Epoch 31/50\n",
      "\u001b[1m40/40\u001b[0m \u001b[32m━━━━━━━━━━━━━━━━━━━━\u001b[0m\u001b[37m\u001b[0m \u001b[1m0s\u001b[0m 5ms/step - loss: 4.0515e-04 - val_loss: 2.1252e-04\n",
      "Epoch 32/50\n",
      "\u001b[1m40/40\u001b[0m \u001b[32m━━━━━━━━━━━━━━━━━━━━\u001b[0m\u001b[37m\u001b[0m \u001b[1m0s\u001b[0m 5ms/step - loss: 3.5303e-04 - val_loss: 1.4233e-04\n",
      "Epoch 33/50\n",
      "\u001b[1m40/40\u001b[0m \u001b[32m━━━━━━━━━━━━━━━━━━━━\u001b[0m\u001b[37m\u001b[0m \u001b[1m0s\u001b[0m 5ms/step - loss: 3.3937e-04 - val_loss: 2.1402e-04\n",
      "Epoch 34/50\n",
      "\u001b[1m40/40\u001b[0m \u001b[32m━━━━━━━━━━━━━━━━━━━━\u001b[0m\u001b[37m\u001b[0m \u001b[1m0s\u001b[0m 4ms/step - loss: 3.0950e-04 - val_loss: 2.5441e-04\n",
      "Epoch 35/50\n",
      "\u001b[1m40/40\u001b[0m \u001b[32m━━━━━━━━━━━━━━━━━━━━\u001b[0m\u001b[37m\u001b[0m \u001b[1m0s\u001b[0m 4ms/step - loss: 3.6238e-04 - val_loss: 1.8873e-04\n",
      "Epoch 36/50\n",
      "\u001b[1m40/40\u001b[0m \u001b[32m━━━━━━━━━━━━━━━━━━━━\u001b[0m\u001b[37m\u001b[0m \u001b[1m0s\u001b[0m 5ms/step - loss: 4.0116e-04 - val_loss: 1.0718e-04\n",
      "Epoch 37/50\n",
      "\u001b[1m40/40\u001b[0m \u001b[32m━━━━━━━━━━━━━━━━━━━━\u001b[0m\u001b[37m\u001b[0m \u001b[1m0s\u001b[0m 5ms/step - loss: 3.5606e-04 - val_loss: 1.0344e-04\n",
      "Epoch 38/50\n",
      "\u001b[1m40/40\u001b[0m \u001b[32m━━━━━━━━━━━━━━━━━━━━\u001b[0m\u001b[37m\u001b[0m \u001b[1m0s\u001b[0m 5ms/step - loss: 4.1559e-04 - val_loss: 2.6865e-04\n",
      "Epoch 39/50\n",
      "\u001b[1m40/40\u001b[0m \u001b[32m━━━━━━━━━━━━━━━━━━━━\u001b[0m\u001b[37m\u001b[0m \u001b[1m0s\u001b[0m 5ms/step - loss: 3.3864e-04 - val_loss: 2.1978e-04\n",
      "Epoch 40/50\n",
      "\u001b[1m40/40\u001b[0m \u001b[32m━━━━━━━━━━━━━━━━━━━━\u001b[0m\u001b[37m\u001b[0m \u001b[1m0s\u001b[0m 6ms/step - loss: 3.9054e-04 - val_loss: 1.1754e-04\n",
      "Epoch 41/50\n",
      "\u001b[1m40/40\u001b[0m \u001b[32m━━━━━━━━━━━━━━━━━━━━\u001b[0m\u001b[37m\u001b[0m \u001b[1m0s\u001b[0m 5ms/step - loss: 3.4821e-04 - val_loss: 1.9478e-04\n",
      "Epoch 42/50\n",
      "\u001b[1m40/40\u001b[0m \u001b[32m━━━━━━━━━━━━━━━━━━━━\u001b[0m\u001b[37m\u001b[0m \u001b[1m0s\u001b[0m 5ms/step - loss: 3.2380e-04 - val_loss: 1.0290e-04\n",
      "Epoch 43/50\n",
      "\u001b[1m40/40\u001b[0m \u001b[32m━━━━━━━━━━━━━━━━━━━━\u001b[0m\u001b[37m\u001b[0m \u001b[1m0s\u001b[0m 5ms/step - loss: 3.1134e-04 - val_loss: 1.0051e-04\n",
      "Epoch 44/50\n",
      "\u001b[1m40/40\u001b[0m \u001b[32m━━━━━━━━━━━━━━━━━━━━\u001b[0m\u001b[37m\u001b[0m \u001b[1m0s\u001b[0m 6ms/step - loss: 3.4062e-04 - val_loss: 1.8054e-04\n",
      "Epoch 45/50\n",
      "\u001b[1m40/40\u001b[0m \u001b[32m━━━━━━━━━━━━━━━━━━━━\u001b[0m\u001b[37m\u001b[0m \u001b[1m0s\u001b[0m 6ms/step - loss: 3.7556e-04 - val_loss: 1.0303e-04\n",
      "Epoch 46/50\n",
      "\u001b[1m40/40\u001b[0m \u001b[32m━━━━━━━━━━━━━━━━━━━━\u001b[0m\u001b[37m\u001b[0m \u001b[1m0s\u001b[0m 5ms/step - loss: 3.7522e-04 - val_loss: 1.0564e-04\n",
      "Epoch 47/50\n",
      "\u001b[1m40/40\u001b[0m \u001b[32m━━━━━━━━━━━━━━━━━━━━\u001b[0m\u001b[37m\u001b[0m \u001b[1m0s\u001b[0m 5ms/step - loss: 3.2660e-04 - val_loss: 1.6580e-04\n",
      "Epoch 48/50\n",
      "\u001b[1m40/40\u001b[0m \u001b[32m━━━━━━━━━━━━━━━━━━━━\u001b[0m\u001b[37m\u001b[0m \u001b[1m0s\u001b[0m 4ms/step - loss: 2.7747e-04 - val_loss: 1.0263e-04\n",
      "Epoch 49/50\n",
      "\u001b[1m40/40\u001b[0m \u001b[32m━━━━━━━━━━━━━━━━━━━━\u001b[0m\u001b[37m\u001b[0m \u001b[1m0s\u001b[0m 4ms/step - loss: 3.0645e-04 - val_loss: 1.4054e-04\n",
      "Epoch 50/50\n",
      "\u001b[1m40/40\u001b[0m \u001b[32m━━━━━━━━━━━━━━━━━━━━\u001b[0m\u001b[37m\u001b[0m \u001b[1m0s\u001b[0m 4ms/step - loss: 3.6542e-04 - val_loss: 9.9994e-05\n"
     ]
    },
    {
     "data": {
      "text/plain": [
       "<keras.src.callbacks.history.History at 0x23c44c68e50>"
      ]
     },
     "execution_count": 39,
     "metadata": {},
     "output_type": "execute_result"
    }
   ],
   "source": [
    "optimizer = Adam(beta_1=0.9, beta_2=0.999, learning_rate=0.0005)\n",
    "model.compile(optimizer=optimizer, loss='mse')\n",
    "\n",
    "# Train the model\n",
    "model.fit(X_train, y_train, epochs=50, validation_data=(X_val, y_val))"
   ]
  },
  {
   "cell_type": "code",
   "execution_count": 40,
   "metadata": {},
   "outputs": [
    {
     "name": "stdout",
     "output_type": "stream",
     "text": [
      "\u001b[1m10/10\u001b[0m \u001b[32m━━━━━━━━━━━━━━━━━━━━\u001b[0m\u001b[37m\u001b[0m \u001b[1m0s\u001b[0m 18ms/step\n"
     ]
    }
   ],
   "source": [
    "# Making predictions of the test data\n",
    "predictions = model.predict(X_test)"
   ]
  },
  {
   "cell_type": "code",
   "execution_count": 41,
   "metadata": {},
   "outputs": [
    {
     "data": {
      "text/plain": [
       "(293, 1)"
      ]
     },
     "execution_count": 41,
     "metadata": {},
     "output_type": "execute_result"
    }
   ],
   "source": [
    "predictions.shape"
   ]
  },
  {
   "cell_type": "markdown",
   "metadata": {},
   "source": [
    "#### Evaluating the model"
   ]
  },
  {
   "cell_type": "code",
   "execution_count": 42,
   "metadata": {},
   "outputs": [],
   "source": [
    "# Undoing the normalization of predictions and real valuess\n",
    "predictions = scaler.inverse_transform(predictions.reshape(-1, 1))\n",
    "y_test = scaler.inverse_transform(y_test.reshape(-1, 1))"
   ]
  },
  {
   "cell_type": "code",
   "execution_count": 43,
   "metadata": {},
   "outputs": [
    {
     "name": "stdout",
     "output_type": "stream",
     "text": [
      "=================  Error Metrics  =================\n",
      "Mean Absolute Error:  865.9504\n",
      "---------------------------------------------------\n",
      "Mean Absolute Percentage Error:  0.0194\n",
      "---------------------------------------------------\n",
      "Mean Squared Error:  1706602.8681\n",
      "---------------------------------------------------\n",
      "Root Mean Squared Error:  1306.3701\n",
      "---------------------------------------------------\n",
      "R^2:  0.9918\n",
      "===================================================\n"
     ]
    }
   ],
   "source": [
    "print(17*'=', ' Error Metrics ', 17*'=')\n",
    "print('Mean Absolute Error: ', mean_absolute_error(y_test, predictions).round(4))\n",
    "print(51*'-')\n",
    "print('Mean Absolute Percentage Error: ', mean_absolute_percentage_error(y_test, predictions).round(4))\n",
    "print(51*'-')\n",
    "print('Mean Squared Error: ', mean_squared_error(y_test, predictions).round(4))\n",
    "print(51*'-')\n",
    "print('Root Mean Squared Error: ', mean_squared_error(y_test, predictions, squared=False).round(4))\n",
    "print(51*'-')\n",
    "print('R^2: ', r2_score(y_test, predictions).round(4))\n",
    "print(51*'=')"
   ]
  },
  {
   "cell_type": "markdown",
   "metadata": {},
   "source": [
    "#### As we can see, the error metrics values have proven to be sufficiently satisfactory given the scale of the values ​​being processed, in this case represented by Bitcoin where error variations such as 865 USD or 1306 USD represent a small proportion compared to the value of the asset in question. The discrepancy presented by the MSE is due to its representation outside the working scale; in this case, we look at the RMSE."\"
   ]
  },
  {
   "cell_type": "code",
   "execution_count": 44,
   "metadata": {},
   "outputs": [
    {
     "data": {
      "image/png": "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",
      "text/plain": [
       "<Figure size 1080x504 with 1 Axes>"
      ]
     },
     "metadata": {},
     "output_type": "display_data"
    }
   ],
   "source": [
    "# Getting the dates corresponding to the test set\n",
    "test_dates = df.index[val_data+n:]\n",
    "\n",
    "# Plotting the comparison between the real values and predict values\n",
    "plt.figure(figsize=(15, 7))\n",
    "plt.plot(test_dates, y_test[:, -1], label='Real Value')\n",
    "plt.plot(test_dates, predictions[:, -1], label='Prediction')\n",
    "plt.xlabel('Date')\n",
    "plt.ylabel('Price (USD)')\n",
    "plt.title('Comparison between the Prediction vs. Real Value')\n",
    "plt.xticks(rotation=45)\n",
    "plt.legend()\n",
    "plt.tight_layout()\n",
    "plt.show()"
   ]
  },
  {
   "cell_type": "markdown",
   "metadata": {},
   "source": [
    "### Creating flexible code to apply to new data"
   ]
  },
  {
   "cell_type": "code",
   "execution_count": 45,
   "metadata": {},
   "outputs": [],
   "source": [
    "# Informations to change and then just run all the code\n",
    "ticker = 'BTC-USD' # Company where the data will be collected\n",
    "ndays = 365 # Number of days to pull the historical data"
   ]
  },
  {
   "cell_type": "code",
   "execution_count": 46,
   "metadata": {},
   "outputs": [
    {
     "name": "stdout",
     "output_type": "stream",
     "text": [
      "[*********************100%***********************]  1 of 1 completed\n"
     ]
    },
    {
     "data": {
      "text/html": [
       "<div>\n",
       "<style scoped>\n",
       "    .dataframe tbody tr th:only-of-type {\n",
       "        vertical-align: middle;\n",
       "    }\n",
       "\n",
       "    .dataframe tbody tr th {\n",
       "        vertical-align: top;\n",
       "    }\n",
       "\n",
       "    .dataframe thead th {\n",
       "        text-align: right;\n",
       "    }\n",
       "</style>\n",
       "<table border=\"1\" class=\"dataframe\">\n",
       "  <thead>\n",
       "    <tr style=\"text-align: right;\">\n",
       "      <th></th>\n",
       "      <th>Open</th>\n",
       "      <th>High</th>\n",
       "      <th>Low</th>\n",
       "      <th>Close</th>\n",
       "      <th>Adj Close</th>\n",
       "      <th>Volume</th>\n",
       "    </tr>\n",
       "    <tr>\n",
       "      <th>Date</th>\n",
       "      <th></th>\n",
       "      <th></th>\n",
       "      <th></th>\n",
       "      <th></th>\n",
       "      <th></th>\n",
       "      <th></th>\n",
       "    </tr>\n",
       "  </thead>\n",
       "  <tbody>\n",
       "    <tr>\n",
       "      <th>2023-04-25</th>\n",
       "      <td>27514.873047</td>\n",
       "      <td>28371.078125</td>\n",
       "      <td>27207.931641</td>\n",
       "      <td>28307.597656</td>\n",
       "      <td>28307.597656</td>\n",
       "      <td>17733373139</td>\n",
       "    </tr>\n",
       "    <tr>\n",
       "      <th>2023-04-26</th>\n",
       "      <td>28300.058594</td>\n",
       "      <td>29995.837891</td>\n",
       "      <td>27324.548828</td>\n",
       "      <td>28422.701172</td>\n",
       "      <td>28422.701172</td>\n",
       "      <td>31854242019</td>\n",
       "    </tr>\n",
       "    <tr>\n",
       "      <th>2023-04-27</th>\n",
       "      <td>28428.464844</td>\n",
       "      <td>29871.546875</td>\n",
       "      <td>28402.886719</td>\n",
       "      <td>29473.787109</td>\n",
       "      <td>29473.787109</td>\n",
       "      <td>27153445027</td>\n",
       "    </tr>\n",
       "    <tr>\n",
       "      <th>2023-04-28</th>\n",
       "      <td>29481.013672</td>\n",
       "      <td>29572.791016</td>\n",
       "      <td>28929.609375</td>\n",
       "      <td>29340.261719</td>\n",
       "      <td>29340.261719</td>\n",
       "      <td>17544464887</td>\n",
       "    </tr>\n",
       "    <tr>\n",
       "      <th>2023-04-29</th>\n",
       "      <td>29336.566406</td>\n",
       "      <td>29452.455078</td>\n",
       "      <td>29088.042969</td>\n",
       "      <td>29248.488281</td>\n",
       "      <td>29248.488281</td>\n",
       "      <td>10662634333</td>\n",
       "    </tr>\n",
       "    <tr>\n",
       "      <th>...</th>\n",
       "      <td>...</td>\n",
       "      <td>...</td>\n",
       "      <td>...</td>\n",
       "      <td>...</td>\n",
       "      <td>...</td>\n",
       "      <td>...</td>\n",
       "    </tr>\n",
       "    <tr>\n",
       "      <th>2024-04-20</th>\n",
       "      <td>63851.101562</td>\n",
       "      <td>65442.457031</td>\n",
       "      <td>63172.402344</td>\n",
       "      <td>64994.441406</td>\n",
       "      <td>64994.441406</td>\n",
       "      <td>23097485495</td>\n",
       "    </tr>\n",
       "    <tr>\n",
       "      <th>2024-04-21</th>\n",
       "      <td>64992.816406</td>\n",
       "      <td>65723.242188</td>\n",
       "      <td>64277.722656</td>\n",
       "      <td>64926.644531</td>\n",
       "      <td>64926.644531</td>\n",
       "      <td>20506644853</td>\n",
       "    </tr>\n",
       "    <tr>\n",
       "      <th>2024-04-22</th>\n",
       "      <td>64935.632812</td>\n",
       "      <td>67233.960938</td>\n",
       "      <td>64548.179688</td>\n",
       "      <td>66837.679688</td>\n",
       "      <td>66837.679688</td>\n",
       "      <td>28282686673</td>\n",
       "    </tr>\n",
       "    <tr>\n",
       "      <th>2024-04-23</th>\n",
       "      <td>66839.890625</td>\n",
       "      <td>67199.242188</td>\n",
       "      <td>65864.867188</td>\n",
       "      <td>66407.273438</td>\n",
       "      <td>66407.273438</td>\n",
       "      <td>24310975583</td>\n",
       "    </tr>\n",
       "    <tr>\n",
       "      <th>2024-04-24</th>\n",
       "      <td>66420.398438</td>\n",
       "      <td>67053.765625</td>\n",
       "      <td>63702.550781</td>\n",
       "      <td>64237.449219</td>\n",
       "      <td>64237.449219</td>\n",
       "      <td>29132808192</td>\n",
       "    </tr>\n",
       "  </tbody>\n",
       "</table>\n",
       "<p>366 rows × 6 columns</p>\n",
       "</div>"
      ],
      "text/plain": [
       "                    Open          High           Low         Close  \\\n",
       "Date                                                                 \n",
       "2023-04-25  27514.873047  28371.078125  27207.931641  28307.597656   \n",
       "2023-04-26  28300.058594  29995.837891  27324.548828  28422.701172   \n",
       "2023-04-27  28428.464844  29871.546875  28402.886719  29473.787109   \n",
       "2023-04-28  29481.013672  29572.791016  28929.609375  29340.261719   \n",
       "2023-04-29  29336.566406  29452.455078  29088.042969  29248.488281   \n",
       "...                  ...           ...           ...           ...   \n",
       "2024-04-20  63851.101562  65442.457031  63172.402344  64994.441406   \n",
       "2024-04-21  64992.816406  65723.242188  64277.722656  64926.644531   \n",
       "2024-04-22  64935.632812  67233.960938  64548.179688  66837.679688   \n",
       "2024-04-23  66839.890625  67199.242188  65864.867188  66407.273438   \n",
       "2024-04-24  66420.398438  67053.765625  63702.550781  64237.449219   \n",
       "\n",
       "               Adj Close       Volume  \n",
       "Date                                   \n",
       "2023-04-25  28307.597656  17733373139  \n",
       "2023-04-26  28422.701172  31854242019  \n",
       "2023-04-27  29473.787109  27153445027  \n",
       "2023-04-28  29340.261719  17544464887  \n",
       "2023-04-29  29248.488281  10662634333  \n",
       "...                  ...          ...  \n",
       "2024-04-20  64994.441406  23097485495  \n",
       "2024-04-21  64926.644531  20506644853  \n",
       "2024-04-22  66837.679688  28282686673  \n",
       "2024-04-23  66407.273438  24310975583  \n",
       "2024-04-24  64237.449219  29132808192  \n",
       "\n",
       "[366 rows x 6 columns]"
      ]
     },
     "execution_count": 46,
     "metadata": {},
     "output_type": "execute_result"
    }
   ],
   "source": [
    "def get_data():\n",
    "    # Obtaining data from Yahoo Finance\n",
    "    data = yf.download(ticker, start=pd.Timestamp.now() - pd.Timedelta(days=ndays), end=pd.Timestamp.now())\n",
    "    \n",
    "    return data\n",
    "\n",
    "# Loading the chosen data\n",
    "data = get_data()\n",
    "\n",
    "data"
   ]
  },
  {
   "cell_type": "code",
   "execution_count": 47,
   "metadata": {},
   "outputs": [],
   "source": [
    "data = generate_technical_indicators(data)\n",
    "\n",
    "data.fillna(0, inplace=True)"
   ]
  },
  {
   "cell_type": "code",
   "execution_count": 48,
   "metadata": {},
   "outputs": [
    {
     "data": {
      "text/html": [
       "<div>\n",
       "<style scoped>\n",
       "    .dataframe tbody tr th:only-of-type {\n",
       "        vertical-align: middle;\n",
       "    }\n",
       "\n",
       "    .dataframe tbody tr th {\n",
       "        vertical-align: top;\n",
       "    }\n",
       "\n",
       "    .dataframe thead th {\n",
       "        text-align: right;\n",
       "    }\n",
       "</style>\n",
       "<table border=\"1\" class=\"dataframe\">\n",
       "  <thead>\n",
       "    <tr style=\"text-align: right;\">\n",
       "      <th></th>\n",
       "      <th>upperband</th>\n",
       "      <th>middleband</th>\n",
       "      <th>lowerband</th>\n",
       "      <th>ema</th>\n",
       "      <th>sma</th>\n",
       "      <th>tema</th>\n",
       "      <th>wma</th>\n",
       "      <th>adx</th>\n",
       "      <th>adxr</th>\n",
       "      <th>cci</th>\n",
       "      <th>...</th>\n",
       "      <th>roc</th>\n",
       "      <th>rsi</th>\n",
       "      <th>slowk</th>\n",
       "      <th>slowd</th>\n",
       "      <th>willr</th>\n",
       "      <th>adosc</th>\n",
       "      <th>obv</th>\n",
       "      <th>atr</th>\n",
       "      <th>trange</th>\n",
       "      <th>Close</th>\n",
       "    </tr>\n",
       "    <tr>\n",
       "      <th>Date</th>\n",
       "      <th></th>\n",
       "      <th></th>\n",
       "      <th></th>\n",
       "      <th></th>\n",
       "      <th></th>\n",
       "      <th></th>\n",
       "      <th></th>\n",
       "      <th></th>\n",
       "      <th></th>\n",
       "      <th></th>\n",
       "      <th></th>\n",
       "      <th></th>\n",
       "      <th></th>\n",
       "      <th></th>\n",
       "      <th></th>\n",
       "      <th></th>\n",
       "      <th></th>\n",
       "      <th></th>\n",
       "      <th></th>\n",
       "      <th></th>\n",
       "      <th></th>\n",
       "    </tr>\n",
       "  </thead>\n",
       "  <tbody>\n",
       "    <tr>\n",
       "      <th>2023-04-25</th>\n",
       "      <td>0.000000</td>\n",
       "      <td>0.000000</td>\n",
       "      <td>0.000000</td>\n",
       "      <td>0.000000</td>\n",
       "      <td>0.000000</td>\n",
       "      <td>0.000000</td>\n",
       "      <td>0.000000</td>\n",
       "      <td>0.000000</td>\n",
       "      <td>0.000000</td>\n",
       "      <td>0.000000</td>\n",
       "      <td>...</td>\n",
       "      <td>0.000000</td>\n",
       "      <td>0.000000</td>\n",
       "      <td>0.000000</td>\n",
       "      <td>0.000000</td>\n",
       "      <td>0.000000</td>\n",
       "      <td>0.000000e+00</td>\n",
       "      <td>1.773337e+10</td>\n",
       "      <td>0.000000</td>\n",
       "      <td>0.000000</td>\n",
       "      <td>28307.597656</td>\n",
       "    </tr>\n",
       "    <tr>\n",
       "      <th>2023-04-26</th>\n",
       "      <td>0.000000</td>\n",
       "      <td>0.000000</td>\n",
       "      <td>0.000000</td>\n",
       "      <td>0.000000</td>\n",
       "      <td>0.000000</td>\n",
       "      <td>0.000000</td>\n",
       "      <td>0.000000</td>\n",
       "      <td>0.000000</td>\n",
       "      <td>0.000000</td>\n",
       "      <td>0.000000</td>\n",
       "      <td>...</td>\n",
       "      <td>0.000000</td>\n",
       "      <td>0.000000</td>\n",
       "      <td>0.000000</td>\n",
       "      <td>0.000000</td>\n",
       "      <td>0.000000</td>\n",
       "      <td>0.000000e+00</td>\n",
       "      <td>4.958762e+10</td>\n",
       "      <td>0.000000</td>\n",
       "      <td>2671.289062</td>\n",
       "      <td>28422.701172</td>\n",
       "    </tr>\n",
       "    <tr>\n",
       "      <th>2023-04-27</th>\n",
       "      <td>0.000000</td>\n",
       "      <td>0.000000</td>\n",
       "      <td>0.000000</td>\n",
       "      <td>0.000000</td>\n",
       "      <td>0.000000</td>\n",
       "      <td>0.000000</td>\n",
       "      <td>0.000000</td>\n",
       "      <td>0.000000</td>\n",
       "      <td>0.000000</td>\n",
       "      <td>0.000000</td>\n",
       "      <td>...</td>\n",
       "      <td>0.000000</td>\n",
       "      <td>0.000000</td>\n",
       "      <td>0.000000</td>\n",
       "      <td>0.000000</td>\n",
       "      <td>0.000000</td>\n",
       "      <td>0.000000e+00</td>\n",
       "      <td>7.674106e+10</td>\n",
       "      <td>0.000000</td>\n",
       "      <td>1468.660156</td>\n",
       "      <td>29473.787109</td>\n",
       "    </tr>\n",
       "    <tr>\n",
       "      <th>2023-04-28</th>\n",
       "      <td>0.000000</td>\n",
       "      <td>0.000000</td>\n",
       "      <td>0.000000</td>\n",
       "      <td>0.000000</td>\n",
       "      <td>0.000000</td>\n",
       "      <td>0.000000</td>\n",
       "      <td>0.000000</td>\n",
       "      <td>0.000000</td>\n",
       "      <td>0.000000</td>\n",
       "      <td>0.000000</td>\n",
       "      <td>...</td>\n",
       "      <td>0.000000</td>\n",
       "      <td>0.000000</td>\n",
       "      <td>0.000000</td>\n",
       "      <td>0.000000</td>\n",
       "      <td>0.000000</td>\n",
       "      <td>0.000000e+00</td>\n",
       "      <td>5.919660e+10</td>\n",
       "      <td>0.000000</td>\n",
       "      <td>643.181641</td>\n",
       "      <td>29340.261719</td>\n",
       "    </tr>\n",
       "    <tr>\n",
       "      <th>2023-04-29</th>\n",
       "      <td>29940.854413</td>\n",
       "      <td>28958.567188</td>\n",
       "      <td>27976.279962</td>\n",
       "      <td>0.000000</td>\n",
       "      <td>0.000000</td>\n",
       "      <td>0.000000</td>\n",
       "      <td>0.000000</td>\n",
       "      <td>0.000000</td>\n",
       "      <td>0.000000</td>\n",
       "      <td>0.000000</td>\n",
       "      <td>...</td>\n",
       "      <td>0.000000</td>\n",
       "      <td>0.000000</td>\n",
       "      <td>0.000000</td>\n",
       "      <td>0.000000</td>\n",
       "      <td>0.000000</td>\n",
       "      <td>0.000000e+00</td>\n",
       "      <td>4.853396e+10</td>\n",
       "      <td>0.000000</td>\n",
       "      <td>364.412109</td>\n",
       "      <td>29248.488281</td>\n",
       "    </tr>\n",
       "    <tr>\n",
       "      <th>...</th>\n",
       "      <td>...</td>\n",
       "      <td>...</td>\n",
       "      <td>...</td>\n",
       "      <td>...</td>\n",
       "      <td>...</td>\n",
       "      <td>...</td>\n",
       "      <td>...</td>\n",
       "      <td>...</td>\n",
       "      <td>...</td>\n",
       "      <td>...</td>\n",
       "      <td>...</td>\n",
       "      <td>...</td>\n",
       "      <td>...</td>\n",
       "      <td>...</td>\n",
       "      <td>...</td>\n",
       "      <td>...</td>\n",
       "      <td>...</td>\n",
       "      <td>...</td>\n",
       "      <td>...</td>\n",
       "      <td>...</td>\n",
       "      <td>...</td>\n",
       "    </tr>\n",
       "    <tr>\n",
       "      <th>2024-04-20</th>\n",
       "      <td>65919.518930</td>\n",
       "      <td>63487.864062</td>\n",
       "      <td>61056.209195</td>\n",
       "      <td>64876.645542</td>\n",
       "      <td>64768.220703</td>\n",
       "      <td>63187.370842</td>\n",
       "      <td>64008.169460</td>\n",
       "      <td>42.744867</td>\n",
       "      <td>21.902715</td>\n",
       "      <td>-5.049588</td>\n",
       "      <td>...</td>\n",
       "      <td>-7.924082</td>\n",
       "      <td>46.990416</td>\n",
       "      <td>42.163335</td>\n",
       "      <td>48.438781</td>\n",
       "      <td>-53.958443</td>\n",
       "      <td>1.670105e+10</td>\n",
       "      <td>6.280583e+11</td>\n",
       "      <td>3755.632220</td>\n",
       "      <td>2270.054688</td>\n",
       "      <td>64994.441406</td>\n",
       "    </tr>\n",
       "    <tr>\n",
       "      <th>2024-04-21</th>\n",
       "      <td>66410.116227</td>\n",
       "      <td>63710.820312</td>\n",
       "      <td>61011.524398</td>\n",
       "      <td>64885.736267</td>\n",
       "      <td>64254.824219</td>\n",
       "      <td>63729.809141</td>\n",
       "      <td>64036.973793</td>\n",
       "      <td>37.954329</td>\n",
       "      <td>22.246179</td>\n",
       "      <td>49.857924</td>\n",
       "      <td>...</td>\n",
       "      <td>-7.327891</td>\n",
       "      <td>46.779166</td>\n",
       "      <td>45.945116</td>\n",
       "      <td>47.547238</td>\n",
       "      <td>-54.411083</td>\n",
       "      <td>1.730615e+10</td>\n",
       "      <td>6.075517e+11</td>\n",
       "      <td>3524.620951</td>\n",
       "      <td>1445.519531</td>\n",
       "      <td>64926.644531</td>\n",
       "    </tr>\n",
       "    <tr>\n",
       "      <th>2024-04-22</th>\n",
       "      <td>67151.123795</td>\n",
       "      <td>64823.017969</td>\n",
       "      <td>62494.912142</td>\n",
       "      <td>65240.635071</td>\n",
       "      <td>64219.005469</td>\n",
       "      <td>64995.732318</td>\n",
       "      <td>64506.583878</td>\n",
       "      <td>33.949932</td>\n",
       "      <td>22.686676</td>\n",
       "      <td>151.376167</td>\n",
       "      <td>...</td>\n",
       "      <td>-0.533050</td>\n",
       "      <td>53.347799</td>\n",
       "      <td>52.820759</td>\n",
       "      <td>47.209777</td>\n",
       "      <td>-13.209479</td>\n",
       "      <td>1.960805e+10</td>\n",
       "      <td>6.358343e+11</td>\n",
       "      <td>3440.736981</td>\n",
       "      <td>2685.781250</td>\n",
       "      <td>66837.679688</td>\n",
       "    </tr>\n",
       "    <tr>\n",
       "      <th>2024-04-23</th>\n",
       "      <td>67573.100493</td>\n",
       "      <td>65401.921875</td>\n",
       "      <td>63230.743257</td>\n",
       "      <td>65452.751137</td>\n",
       "      <td>64477.585547</td>\n",
       "      <td>65666.194426</td>\n",
       "      <td>64904.450781</td>\n",
       "      <td>30.746415</td>\n",
       "      <td>23.083123</td>\n",
       "      <td>131.113623</td>\n",
       "      <td>...</td>\n",
       "      <td>4.051616</td>\n",
       "      <td>51.749468</td>\n",
       "      <td>59.048945</td>\n",
       "      <td>47.435387</td>\n",
       "      <td>-10.902471</td>\n",
       "      <td>1.898635e+10</td>\n",
       "      <td>6.115234e+11</td>\n",
       "      <td>3230.100783</td>\n",
       "      <td>1334.375000</td>\n",
       "      <td>66407.273438</td>\n",
       "    </tr>\n",
       "    <tr>\n",
       "      <th>2024-04-24</th>\n",
       "      <td>67438.048845</td>\n",
       "      <td>65480.697656</td>\n",
       "      <td>63523.346468</td>\n",
       "      <td>65231.787152</td>\n",
       "      <td>64327.457812</td>\n",
       "      <td>65132.304292</td>\n",
       "      <td>64860.789631</td>\n",
       "      <td>30.652122</td>\n",
       "      <td>23.791124</td>\n",
       "      <td>42.108210</td>\n",
       "      <td>...</td>\n",
       "      <td>-2.283703</td>\n",
       "      <td>44.312737</td>\n",
       "      <td>57.008770</td>\n",
       "      <td>47.569940</td>\n",
       "      <td>-39.518417</td>\n",
       "      <td>1.449158e+10</td>\n",
       "      <td>5.823906e+11</td>\n",
       "      <td>3242.212189</td>\n",
       "      <td>3351.214844</td>\n",
       "      <td>64237.449219</td>\n",
       "    </tr>\n",
       "  </tbody>\n",
       "</table>\n",
       "<p>366 rows × 24 columns</p>\n",
       "</div>"
      ],
      "text/plain": [
       "               upperband    middleband     lowerband           ema  \\\n",
       "Date                                                                 \n",
       "2023-04-25      0.000000      0.000000      0.000000      0.000000   \n",
       "2023-04-26      0.000000      0.000000      0.000000      0.000000   \n",
       "2023-04-27      0.000000      0.000000      0.000000      0.000000   \n",
       "2023-04-28      0.000000      0.000000      0.000000      0.000000   \n",
       "2023-04-29  29940.854413  28958.567188  27976.279962      0.000000   \n",
       "...                  ...           ...           ...           ...   \n",
       "2024-04-20  65919.518930  63487.864062  61056.209195  64876.645542   \n",
       "2024-04-21  66410.116227  63710.820312  61011.524398  64885.736267   \n",
       "2024-04-22  67151.123795  64823.017969  62494.912142  65240.635071   \n",
       "2024-04-23  67573.100493  65401.921875  63230.743257  65452.751137   \n",
       "2024-04-24  67438.048845  65480.697656  63523.346468  65231.787152   \n",
       "\n",
       "                     sma          tema           wma        adx       adxr  \\\n",
       "Date                                                                         \n",
       "2023-04-25      0.000000      0.000000      0.000000   0.000000   0.000000   \n",
       "2023-04-26      0.000000      0.000000      0.000000   0.000000   0.000000   \n",
       "2023-04-27      0.000000      0.000000      0.000000   0.000000   0.000000   \n",
       "2023-04-28      0.000000      0.000000      0.000000   0.000000   0.000000   \n",
       "2023-04-29      0.000000      0.000000      0.000000   0.000000   0.000000   \n",
       "...                  ...           ...           ...        ...        ...   \n",
       "2024-04-20  64768.220703  63187.370842  64008.169460  42.744867  21.902715   \n",
       "2024-04-21  64254.824219  63729.809141  64036.973793  37.954329  22.246179   \n",
       "2024-04-22  64219.005469  64995.732318  64506.583878  33.949932  22.686676   \n",
       "2024-04-23  64477.585547  65666.194426  64904.450781  30.746415  23.083123   \n",
       "2024-04-24  64327.457812  65132.304292  64860.789631  30.652122  23.791124   \n",
       "\n",
       "                   cci  ...       roc        rsi      slowk      slowd  \\\n",
       "Date                    ...                                              \n",
       "2023-04-25    0.000000  ...  0.000000   0.000000   0.000000   0.000000   \n",
       "2023-04-26    0.000000  ...  0.000000   0.000000   0.000000   0.000000   \n",
       "2023-04-27    0.000000  ...  0.000000   0.000000   0.000000   0.000000   \n",
       "2023-04-28    0.000000  ...  0.000000   0.000000   0.000000   0.000000   \n",
       "2023-04-29    0.000000  ...  0.000000   0.000000   0.000000   0.000000   \n",
       "...                ...  ...       ...        ...        ...        ...   \n",
       "2024-04-20   -5.049588  ... -7.924082  46.990416  42.163335  48.438781   \n",
       "2024-04-21   49.857924  ... -7.327891  46.779166  45.945116  47.547238   \n",
       "2024-04-22  151.376167  ... -0.533050  53.347799  52.820759  47.209777   \n",
       "2024-04-23  131.113623  ...  4.051616  51.749468  59.048945  47.435387   \n",
       "2024-04-24   42.108210  ... -2.283703  44.312737  57.008770  47.569940   \n",
       "\n",
       "                willr         adosc           obv          atr       trange  \\\n",
       "Date                                                                          \n",
       "2023-04-25   0.000000  0.000000e+00  1.773337e+10     0.000000     0.000000   \n",
       "2023-04-26   0.000000  0.000000e+00  4.958762e+10     0.000000  2671.289062   \n",
       "2023-04-27   0.000000  0.000000e+00  7.674106e+10     0.000000  1468.660156   \n",
       "2023-04-28   0.000000  0.000000e+00  5.919660e+10     0.000000   643.181641   \n",
       "2023-04-29   0.000000  0.000000e+00  4.853396e+10     0.000000   364.412109   \n",
       "...               ...           ...           ...          ...          ...   \n",
       "2024-04-20 -53.958443  1.670105e+10  6.280583e+11  3755.632220  2270.054688   \n",
       "2024-04-21 -54.411083  1.730615e+10  6.075517e+11  3524.620951  1445.519531   \n",
       "2024-04-22 -13.209479  1.960805e+10  6.358343e+11  3440.736981  2685.781250   \n",
       "2024-04-23 -10.902471  1.898635e+10  6.115234e+11  3230.100783  1334.375000   \n",
       "2024-04-24 -39.518417  1.449158e+10  5.823906e+11  3242.212189  3351.214844   \n",
       "\n",
       "                   Close  \n",
       "Date                      \n",
       "2023-04-25  28307.597656  \n",
       "2023-04-26  28422.701172  \n",
       "2023-04-27  29473.787109  \n",
       "2023-04-28  29340.261719  \n",
       "2023-04-29  29248.488281  \n",
       "...                  ...  \n",
       "2024-04-20  64994.441406  \n",
       "2024-04-21  64926.644531  \n",
       "2024-04-22  66837.679688  \n",
       "2024-04-23  66407.273438  \n",
       "2024-04-24  64237.449219  \n",
       "\n",
       "[366 rows x 24 columns]"
      ]
     },
     "execution_count": 48,
     "metadata": {},
     "output_type": "execute_result"
    }
   ],
   "source": [
    "data"
   ]
  },
  {
   "cell_type": "code",
   "execution_count": 49,
   "metadata": {},
   "outputs": [],
   "source": [
    "# Creating a MinMaxScaler and Normalization function\n",
    "scaler = MinMaxScaler(feature_range=(0, 1))\n",
    "\n",
    "def normalization_data(dataset, ndays_to_predict=1):\n",
    "\n",
    "    n = 2 # Timesteps fixed to build the model\n",
    "    \n",
    "    scaled_data = dataset.iloc[-n-ndays_to_predict:, :].copy()\n",
    "\n",
    "    for column in scaled_data.columns:\n",
    "    \n",
    "        column_data = scaled_data[[column]]\n",
    "        \n",
    "        scaled_column = scaler.fit_transform(column_data)\n",
    "        \n",
    "        scaled_data[column] = scaled_column.flatten()\n",
    "\n",
    "    scaled_data = scaled_data.values\n",
    "\n",
    "    return scaled_data"
   ]
  },
  {
   "cell_type": "code",
   "execution_count": 50,
   "metadata": {},
   "outputs": [
    {
     "data": {
      "text/plain": [
       "(3, 24)"
      ]
     },
     "execution_count": 50,
     "metadata": {},
     "output_type": "execute_result"
    }
   ],
   "source": [
    "ndays_to_predict = 1\n",
    "\n",
    "scaled_data = normalization_data(data, ndays_to_predict)\n",
    "scaled_data.shape"
   ]
  },
  {
   "cell_type": "code",
   "execution_count": 51,
   "metadata": {},
   "outputs": [
    {
     "data": {
      "text/plain": [
       "(1, 2, 24)"
      ]
     },
     "execution_count": 51,
     "metadata": {},
     "output_type": "execute_result"
    }
   ],
   "source": [
    "# Preparing the data for the model\n",
    "n = 2  # Number of days before the model tries to predict the next price value\n",
    "def prepare_data(data, n_steps):\n",
    "    X = []\n",
    "    for i in range(n_steps, len(data)):\n",
    "        row = [r for r in data[(i - n_steps) + 1:i + 1]]\n",
    "        X.append(row)\n",
    "    return np.array(X)\n",
    "\n",
    "X = prepare_data(scaled_data, n)\n",
    "X.shape"
   ]
  },
  {
   "cell_type": "code",
   "execution_count": 52,
   "metadata": {},
   "outputs": [
    {
     "name": "stdout",
     "output_type": "stream",
     "text": [
      "\u001b[1m1/1\u001b[0m \u001b[32m━━━━━━━━━━━━━━━━━━━━\u001b[0m\u001b[37m\u001b[0m \u001b[1m0s\u001b[0m 33ms/step\n"
     ]
    }
   ],
   "source": [
    "predictions = model.predict(X)"
   ]
  },
  {
   "cell_type": "code",
   "execution_count": 53,
   "metadata": {},
   "outputs": [
    {
     "data": {
      "text/plain": [
       "array([[65422.438]], dtype=float32)"
      ]
     },
     "execution_count": 53,
     "metadata": {},
     "output_type": "execute_result"
    }
   ],
   "source": [
    "predictions = scaler.inverse_transform(predictions.reshape(-1, 1))\n",
    "predictions"
   ]
  },
  {
   "cell_type": "code",
   "execution_count": 54,
   "metadata": {},
   "outputs": [],
   "source": [
    "def plot_predictions(dataset, predictions, ndays_to_predict):\n",
    "    # Criar um índice para os próximos 14 dias\n",
    "    next_n_days = pd.date_range(start=dataset.index[-1] + pd.Timedelta(days=1), periods=ndays_to_predict)\n",
    "\n",
    "    # # Criar uma série temporal para os valores reais e previstos\n",
    "    real_values = dataset['Close'][-ndays_to_predict-5:]\n",
    "    # predictions = np.reshape(predictions, -1)\n",
    "    predicted_values = pd.Series(predictions.flatten(), index=next_n_days)\n",
    "\n",
    "    last_value = real_values.iloc[-1]\n",
    "    predicted_values = pd.concat([pd.Series([last_value], index=[predicted_values.index[0] - pd.Timedelta(days=1)]), predicted_values])\n",
    "\n",
    "    # Plotar os valores reais e previstos\n",
    "    plt.figure(figsize=(17, 8))\n",
    "    plt.plot(real_values.index, real_values.values, label='Real Values')\n",
    "    plt.plot(predicted_values.index, predicted_values.values, label='Predicted Value', marker='o')\n",
    "\n",
    "    plt.xlabel('Date')\n",
    "    plt.xticks(rotation=45)\n",
    "    plt.ylabel('Price of the ' + ticker)\n",
    "    plt.title('Prediction of the ' + ticker + ' for the next 1 day')\n",
    "    plt.legend()\n",
    "    plt.show()"
   ]
  },
  {
   "cell_type": "code",
   "execution_count": 55,
   "metadata": {},
   "outputs": [
    {
     "data": {
      "image/png": "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",
      "text/plain": [
       "<Figure size 1224x576 with 1 Axes>"
      ]
     },
     "metadata": {},
     "output_type": "display_data"
    }
   ],
   "source": [
    "plot_predictions(data, predictions, ndays_to_predict)"
   ]
  }
 ],
 "metadata": {
  "kernelspec": {
   "display_name": "MyEnv",
   "language": "python",
   "name": "python3"
  },
  "language_info": {
   "codemirror_mode": {
    "name": "ipython",
    "version": 3
   },
   "file_extension": ".py",
   "mimetype": "text/x-python",
   "name": "python",
   "nbconvert_exporter": "python",
   "pygments_lexer": "ipython3",
   "version": "3.10.4"
  }
 },
 "nbformat": 4,
 "nbformat_minor": 2
}
